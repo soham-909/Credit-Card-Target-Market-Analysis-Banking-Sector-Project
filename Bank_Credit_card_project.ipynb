{
 "cells": [
  {
   "cell_type": "code",
   "execution_count": 4,
   "id": "5c8bc085-04e1-4b6c-8359-1bea79cf2cdd",
   "metadata": {},
   "outputs": [],
   "source": [
    "import pandas as pd\n",
    "import numpy as np\n",
    "import seaborn as sns\n",
    "import matplotlib.pyplot as plt\n",
    "import warnings\n",
    "warnings.filterwarnings(\"ignore\")"
   ]
  },
  {
   "cell_type": "markdown",
   "id": "aca31623-2ec5-4309-9a47-f2f1448f1e1a",
   "metadata": {
    "jp-MarkdownHeadingCollapsed": true
   },
   "source": [
    "## Data Import"
   ]
  },
  {
   "cell_type": "code",
   "execution_count": 5,
   "id": "70901dba-a7ea-43e2-a895-61b18c20e544",
   "metadata": {},
   "outputs": [],
   "source": [
    "df_cust = pd.read_csv('datasets/customers.csv')\n",
    "df_cs = pd.read_csv('datasets/credit_profiles.csv')\n",
    "df_trans = pd.read_csv('datasets/transactions.csv')"
   ]
  },
  {
   "cell_type": "code",
   "execution_count": 5,
   "id": "aa98fad8-0da8-4508-992a-ccf5875a237c",
   "metadata": {},
   "outputs": [
    {
     "data": {
      "text/html": [
       "<div>\n",
       "<style scoped>\n",
       "    .dataframe tbody tr th:only-of-type {\n",
       "        vertical-align: middle;\n",
       "    }\n",
       "\n",
       "    .dataframe tbody tr th {\n",
       "        vertical-align: top;\n",
       "    }\n",
       "\n",
       "    .dataframe thead th {\n",
       "        text-align: right;\n",
       "    }\n",
       "</style>\n",
       "<table border=\"1\" class=\"dataframe\">\n",
       "  <thead>\n",
       "    <tr style=\"text-align: right;\">\n",
       "      <th></th>\n",
       "      <th>cust_id</th>\n",
       "      <th>name</th>\n",
       "      <th>gender</th>\n",
       "      <th>age</th>\n",
       "      <th>location</th>\n",
       "      <th>occupation</th>\n",
       "      <th>annual_income</th>\n",
       "      <th>marital_status</th>\n",
       "    </tr>\n",
       "  </thead>\n",
       "  <tbody>\n",
       "    <tr>\n",
       "      <th>0</th>\n",
       "      <td>1</td>\n",
       "      <td>Manya Acharya</td>\n",
       "      <td>Female</td>\n",
       "      <td>2</td>\n",
       "      <td>City</td>\n",
       "      <td>Business Owner</td>\n",
       "      <td>358211.0</td>\n",
       "      <td>Married</td>\n",
       "    </tr>\n",
       "    <tr>\n",
       "      <th>1</th>\n",
       "      <td>2</td>\n",
       "      <td>Anjali Pandey</td>\n",
       "      <td>Female</td>\n",
       "      <td>47</td>\n",
       "      <td>City</td>\n",
       "      <td>Consultant</td>\n",
       "      <td>65172.0</td>\n",
       "      <td>Single</td>\n",
       "    </tr>\n",
       "    <tr>\n",
       "      <th>2</th>\n",
       "      <td>3</td>\n",
       "      <td>Aaryan Chauhan</td>\n",
       "      <td>Male</td>\n",
       "      <td>21</td>\n",
       "      <td>City</td>\n",
       "      <td>Freelancer</td>\n",
       "      <td>22378.0</td>\n",
       "      <td>Married</td>\n",
       "    </tr>\n",
       "    <tr>\n",
       "      <th>3</th>\n",
       "      <td>4</td>\n",
       "      <td>Rudra Bali</td>\n",
       "      <td>Male</td>\n",
       "      <td>24</td>\n",
       "      <td>Rural</td>\n",
       "      <td>Freelancer</td>\n",
       "      <td>33563.0</td>\n",
       "      <td>Married</td>\n",
       "    </tr>\n",
       "    <tr>\n",
       "      <th>4</th>\n",
       "      <td>5</td>\n",
       "      <td>Advait Malik</td>\n",
       "      <td>Male</td>\n",
       "      <td>48</td>\n",
       "      <td>City</td>\n",
       "      <td>Consultant</td>\n",
       "      <td>39406.0</td>\n",
       "      <td>Married</td>\n",
       "    </tr>\n",
       "  </tbody>\n",
       "</table>\n",
       "</div>"
      ],
      "text/plain": [
       "   cust_id            name  gender  age location      occupation  \\\n",
       "0        1   Manya Acharya  Female    2     City  Business Owner   \n",
       "1        2   Anjali Pandey  Female   47     City      Consultant   \n",
       "2        3  Aaryan Chauhan    Male   21     City      Freelancer   \n",
       "3        4      Rudra Bali    Male   24    Rural      Freelancer   \n",
       "4        5    Advait Malik    Male   48     City      Consultant   \n",
       "\n",
       "   annual_income marital_status  \n",
       "0       358211.0        Married  \n",
       "1        65172.0         Single  \n",
       "2        22378.0        Married  \n",
       "3        33563.0        Married  \n",
       "4        39406.0        Married  "
      ]
     },
     "execution_count": 5,
     "metadata": {},
     "output_type": "execute_result"
    }
   ],
   "source": [
    "df_cust.head()"
   ]
  },
  {
   "cell_type": "code",
   "execution_count": 6,
   "id": "32fb3c8e-80db-4e0a-97fc-9f24b67c1a17",
   "metadata": {},
   "outputs": [
    {
     "data": {
      "text/html": [
       "<div>\n",
       "<style scoped>\n",
       "    .dataframe tbody tr th:only-of-type {\n",
       "        vertical-align: middle;\n",
       "    }\n",
       "\n",
       "    .dataframe tbody tr th {\n",
       "        vertical-align: top;\n",
       "    }\n",
       "\n",
       "    .dataframe thead th {\n",
       "        text-align: right;\n",
       "    }\n",
       "</style>\n",
       "<table border=\"1\" class=\"dataframe\">\n",
       "  <thead>\n",
       "    <tr style=\"text-align: right;\">\n",
       "      <th></th>\n",
       "      <th>cust_id</th>\n",
       "      <th>credit_score</th>\n",
       "      <th>credit_utilisation</th>\n",
       "      <th>outstanding_debt</th>\n",
       "      <th>credit_inquiries_last_6_months</th>\n",
       "      <th>credit_limit</th>\n",
       "    </tr>\n",
       "  </thead>\n",
       "  <tbody>\n",
       "    <tr>\n",
       "      <th>0</th>\n",
       "      <td>1</td>\n",
       "      <td>749</td>\n",
       "      <td>0.585171</td>\n",
       "      <td>19571.0</td>\n",
       "      <td>0.0</td>\n",
       "      <td>40000.0</td>\n",
       "    </tr>\n",
       "    <tr>\n",
       "      <th>1</th>\n",
       "      <td>2</td>\n",
       "      <td>587</td>\n",
       "      <td>0.107928</td>\n",
       "      <td>161644.0</td>\n",
       "      <td>2.0</td>\n",
       "      <td>1250.0</td>\n",
       "    </tr>\n",
       "    <tr>\n",
       "      <th>2</th>\n",
       "      <td>3</td>\n",
       "      <td>544</td>\n",
       "      <td>0.854807</td>\n",
       "      <td>513.0</td>\n",
       "      <td>4.0</td>\n",
       "      <td>1000.0</td>\n",
       "    </tr>\n",
       "    <tr>\n",
       "      <th>3</th>\n",
       "      <td>4</td>\n",
       "      <td>504</td>\n",
       "      <td>0.336938</td>\n",
       "      <td>224.0</td>\n",
       "      <td>2.0</td>\n",
       "      <td>1000.0</td>\n",
       "    </tr>\n",
       "    <tr>\n",
       "      <th>4</th>\n",
       "      <td>5</td>\n",
       "      <td>708</td>\n",
       "      <td>0.586151</td>\n",
       "      <td>18090.0</td>\n",
       "      <td>2.0</td>\n",
       "      <td>40000.0</td>\n",
       "    </tr>\n",
       "  </tbody>\n",
       "</table>\n",
       "</div>"
      ],
      "text/plain": [
       "   cust_id  credit_score  credit_utilisation  outstanding_debt  \\\n",
       "0        1           749            0.585171           19571.0   \n",
       "1        2           587            0.107928          161644.0   \n",
       "2        3           544            0.854807             513.0   \n",
       "3        4           504            0.336938             224.0   \n",
       "4        5           708            0.586151           18090.0   \n",
       "\n",
       "   credit_inquiries_last_6_months  credit_limit  \n",
       "0                             0.0       40000.0  \n",
       "1                             2.0        1250.0  \n",
       "2                             4.0        1000.0  \n",
       "3                             2.0        1000.0  \n",
       "4                             2.0       40000.0  "
      ]
     },
     "execution_count": 6,
     "metadata": {},
     "output_type": "execute_result"
    }
   ],
   "source": [
    "df_cs.head()"
   ]
  },
  {
   "cell_type": "code",
   "execution_count": 7,
   "id": "82663057-7c69-4a7c-99bd-0338a2bf0f18",
   "metadata": {},
   "outputs": [
    {
     "data": {
      "text/html": [
       "<div>\n",
       "<style scoped>\n",
       "    .dataframe tbody tr th:only-of-type {\n",
       "        vertical-align: middle;\n",
       "    }\n",
       "\n",
       "    .dataframe tbody tr th {\n",
       "        vertical-align: top;\n",
       "    }\n",
       "\n",
       "    .dataframe thead th {\n",
       "        text-align: right;\n",
       "    }\n",
       "</style>\n",
       "<table border=\"1\" class=\"dataframe\">\n",
       "  <thead>\n",
       "    <tr style=\"text-align: right;\">\n",
       "      <th></th>\n",
       "      <th>tran_id</th>\n",
       "      <th>cust_id</th>\n",
       "      <th>tran_date</th>\n",
       "      <th>tran_amount</th>\n",
       "      <th>platform</th>\n",
       "      <th>product_category</th>\n",
       "      <th>payment_type</th>\n",
       "    </tr>\n",
       "  </thead>\n",
       "  <tbody>\n",
       "    <tr>\n",
       "      <th>0</th>\n",
       "      <td>1</td>\n",
       "      <td>705</td>\n",
       "      <td>2023-01-01</td>\n",
       "      <td>63</td>\n",
       "      <td>Flipkart</td>\n",
       "      <td>Electronics</td>\n",
       "      <td>Phonepe</td>\n",
       "    </tr>\n",
       "    <tr>\n",
       "      <th>1</th>\n",
       "      <td>2</td>\n",
       "      <td>385</td>\n",
       "      <td>2023-01-01</td>\n",
       "      <td>99</td>\n",
       "      <td>Alibaba</td>\n",
       "      <td>Fashion &amp; Apparel</td>\n",
       "      <td>Credit Card</td>\n",
       "    </tr>\n",
       "    <tr>\n",
       "      <th>2</th>\n",
       "      <td>3</td>\n",
       "      <td>924</td>\n",
       "      <td>2023-01-01</td>\n",
       "      <td>471</td>\n",
       "      <td>Shopify</td>\n",
       "      <td>Sports</td>\n",
       "      <td>Phonepe</td>\n",
       "    </tr>\n",
       "    <tr>\n",
       "      <th>3</th>\n",
       "      <td>4</td>\n",
       "      <td>797</td>\n",
       "      <td>2023-01-01</td>\n",
       "      <td>33</td>\n",
       "      <td>Shopify</td>\n",
       "      <td>Fashion &amp; Apparel</td>\n",
       "      <td>Gpay</td>\n",
       "    </tr>\n",
       "    <tr>\n",
       "      <th>4</th>\n",
       "      <td>5</td>\n",
       "      <td>482</td>\n",
       "      <td>2023-01-01</td>\n",
       "      <td>68</td>\n",
       "      <td>Amazon</td>\n",
       "      <td>Fashion &amp; Apparel</td>\n",
       "      <td>Net Banking</td>\n",
       "    </tr>\n",
       "  </tbody>\n",
       "</table>\n",
       "</div>"
      ],
      "text/plain": [
       "   tran_id  cust_id   tran_date  tran_amount  platform   product_category  \\\n",
       "0        1      705  2023-01-01           63  Flipkart        Electronics   \n",
       "1        2      385  2023-01-01           99   Alibaba  Fashion & Apparel   \n",
       "2        3      924  2023-01-01          471   Shopify             Sports   \n",
       "3        4      797  2023-01-01           33   Shopify  Fashion & Apparel   \n",
       "4        5      482  2023-01-01           68    Amazon  Fashion & Apparel   \n",
       "\n",
       "  payment_type  \n",
       "0      Phonepe  \n",
       "1  Credit Card  \n",
       "2      Phonepe  \n",
       "3         Gpay  \n",
       "4  Net Banking  "
      ]
     },
     "execution_count": 7,
     "metadata": {},
     "output_type": "execute_result"
    }
   ],
   "source": [
    "df_trans.head()"
   ]
  },
  {
   "cell_type": "code",
   "execution_count": 8,
   "id": "29e35a37-596e-4f19-a032-7e71df8e6a03",
   "metadata": {},
   "outputs": [
    {
     "data": {
      "text/html": [
       "<div>\n",
       "<style scoped>\n",
       "    .dataframe tbody tr th:only-of-type {\n",
       "        vertical-align: middle;\n",
       "    }\n",
       "\n",
       "    .dataframe tbody tr th {\n",
       "        vertical-align: top;\n",
       "    }\n",
       "\n",
       "    .dataframe thead th {\n",
       "        text-align: right;\n",
       "    }\n",
       "</style>\n",
       "<table border=\"1\" class=\"dataframe\">\n",
       "  <thead>\n",
       "    <tr style=\"text-align: right;\">\n",
       "      <th></th>\n",
       "      <th>cust_id</th>\n",
       "      <th>age</th>\n",
       "      <th>annual_income</th>\n",
       "    </tr>\n",
       "  </thead>\n",
       "  <tbody>\n",
       "    <tr>\n",
       "      <th>count</th>\n",
       "      <td>1000.000000</td>\n",
       "      <td>1000.000000</td>\n",
       "      <td>950.000000</td>\n",
       "    </tr>\n",
       "    <tr>\n",
       "      <th>mean</th>\n",
       "      <td>500.500000</td>\n",
       "      <td>36.405000</td>\n",
       "      <td>139410.314737</td>\n",
       "    </tr>\n",
       "    <tr>\n",
       "      <th>std</th>\n",
       "      <td>288.819436</td>\n",
       "      <td>15.666155</td>\n",
       "      <td>112416.802007</td>\n",
       "    </tr>\n",
       "    <tr>\n",
       "      <th>min</th>\n",
       "      <td>1.000000</td>\n",
       "      <td>1.000000</td>\n",
       "      <td>2.000000</td>\n",
       "    </tr>\n",
       "    <tr>\n",
       "      <th>25%</th>\n",
       "      <td>250.750000</td>\n",
       "      <td>26.000000</td>\n",
       "      <td>47627.500000</td>\n",
       "    </tr>\n",
       "    <tr>\n",
       "      <th>50%</th>\n",
       "      <td>500.500000</td>\n",
       "      <td>32.000000</td>\n",
       "      <td>112218.500000</td>\n",
       "    </tr>\n",
       "    <tr>\n",
       "      <th>75%</th>\n",
       "      <td>750.250000</td>\n",
       "      <td>46.000000</td>\n",
       "      <td>193137.500000</td>\n",
       "    </tr>\n",
       "    <tr>\n",
       "      <th>max</th>\n",
       "      <td>1000.000000</td>\n",
       "      <td>135.000000</td>\n",
       "      <td>449346.000000</td>\n",
       "    </tr>\n",
       "  </tbody>\n",
       "</table>\n",
       "</div>"
      ],
      "text/plain": [
       "           cust_id          age  annual_income\n",
       "count  1000.000000  1000.000000     950.000000\n",
       "mean    500.500000    36.405000  139410.314737\n",
       "std     288.819436    15.666155  112416.802007\n",
       "min       1.000000     1.000000       2.000000\n",
       "25%     250.750000    26.000000   47627.500000\n",
       "50%     500.500000    32.000000  112218.500000\n",
       "75%     750.250000    46.000000  193137.500000\n",
       "max    1000.000000   135.000000  449346.000000"
      ]
     },
     "execution_count": 8,
     "metadata": {},
     "output_type": "execute_result"
    }
   ],
   "source": [
    "df_cust.describe()"
   ]
  },
  {
   "cell_type": "markdown",
   "id": "cbcbdbe0-0d5f-4d9e-b156-a6b28e82ea14",
   "metadata": {
    "jp-MarkdownHeadingCollapsed": true
   },
   "source": [
    "## Data Cleaning"
   ]
  },
  {
   "cell_type": "code",
   "execution_count": 9,
   "id": "f462c778-906a-4d1f-8565-f33c599f4172",
   "metadata": {},
   "outputs": [
    {
     "data": {
      "text/plain": [
       "cust_id            0\n",
       "name               0\n",
       "gender             0\n",
       "age                0\n",
       "location           0\n",
       "occupation         0\n",
       "annual_income     50\n",
       "marital_status     0\n",
       "dtype: int64"
      ]
     },
     "execution_count": 9,
     "metadata": {},
     "output_type": "execute_result"
    }
   ],
   "source": [
    "df_cust.isnull().sum()"
   ]
  },
  {
   "cell_type": "code",
   "execution_count": 11,
   "id": "2b2208c4-d6bc-4fe7-903c-20301bd71cc8",
   "metadata": {},
   "outputs": [
    {
     "data": {
      "text/html": [
       "<div>\n",
       "<style scoped>\n",
       "    .dataframe tbody tr th:only-of-type {\n",
       "        vertical-align: middle;\n",
       "    }\n",
       "\n",
       "    .dataframe tbody tr th {\n",
       "        vertical-align: top;\n",
       "    }\n",
       "\n",
       "    .dataframe thead th {\n",
       "        text-align: right;\n",
       "    }\n",
       "</style>\n",
       "<table border=\"1\" class=\"dataframe\">\n",
       "  <thead>\n",
       "    <tr style=\"text-align: right;\">\n",
       "      <th></th>\n",
       "      <th>cust_id</th>\n",
       "      <th>name</th>\n",
       "      <th>gender</th>\n",
       "      <th>age</th>\n",
       "      <th>location</th>\n",
       "      <th>occupation</th>\n",
       "      <th>annual_income</th>\n",
       "      <th>marital_status</th>\n",
       "    </tr>\n",
       "  </thead>\n",
       "  <tbody>\n",
       "    <tr>\n",
       "      <th>14</th>\n",
       "      <td>15</td>\n",
       "      <td>Sanjana Malik</td>\n",
       "      <td>Female</td>\n",
       "      <td>25</td>\n",
       "      <td>Rural</td>\n",
       "      <td>Artist</td>\n",
       "      <td>NaN</td>\n",
       "      <td>Married</td>\n",
       "    </tr>\n",
       "    <tr>\n",
       "      <th>82</th>\n",
       "      <td>83</td>\n",
       "      <td>Reyansh Mukherjee</td>\n",
       "      <td>Male</td>\n",
       "      <td>27</td>\n",
       "      <td>City</td>\n",
       "      <td>Freelancer</td>\n",
       "      <td>NaN</td>\n",
       "      <td>Single</td>\n",
       "    </tr>\n",
       "    <tr>\n",
       "      <th>97</th>\n",
       "      <td>98</td>\n",
       "      <td>Virat Puri</td>\n",
       "      <td>Male</td>\n",
       "      <td>47</td>\n",
       "      <td>Suburb</td>\n",
       "      <td>Business Owner</td>\n",
       "      <td>NaN</td>\n",
       "      <td>Married</td>\n",
       "    </tr>\n",
       "    <tr>\n",
       "      <th>102</th>\n",
       "      <td>103</td>\n",
       "      <td>Aarav Shah</td>\n",
       "      <td>Male</td>\n",
       "      <td>32</td>\n",
       "      <td>City</td>\n",
       "      <td>Data Scientist</td>\n",
       "      <td>NaN</td>\n",
       "      <td>Married</td>\n",
       "    </tr>\n",
       "    <tr>\n",
       "      <th>155</th>\n",
       "      <td>156</td>\n",
       "      <td>Kiaan Saxena</td>\n",
       "      <td>Male</td>\n",
       "      <td>24</td>\n",
       "      <td>City</td>\n",
       "      <td>Fullstack Developer</td>\n",
       "      <td>NaN</td>\n",
       "      <td>Married</td>\n",
       "    </tr>\n",
       "  </tbody>\n",
       "</table>\n",
       "</div>"
      ],
      "text/plain": [
       "     cust_id               name  gender  age location           occupation  \\\n",
       "14        15      Sanjana Malik  Female   25    Rural               Artist   \n",
       "82        83  Reyansh Mukherjee    Male   27     City           Freelancer   \n",
       "97        98         Virat Puri    Male   47   Suburb       Business Owner   \n",
       "102      103         Aarav Shah    Male   32     City       Data Scientist   \n",
       "155      156       Kiaan Saxena    Male   24     City  Fullstack Developer   \n",
       "\n",
       "     annual_income marital_status  \n",
       "14             NaN        Married  \n",
       "82             NaN         Single  \n",
       "97             NaN        Married  \n",
       "102            NaN        Married  \n",
       "155            NaN        Married  "
      ]
     },
     "execution_count": 11,
     "metadata": {},
     "output_type": "execute_result"
    }
   ],
   "source": [
    "df_cust[df_cust.annual_income.isna()].head()"
   ]
  },
  {
   "cell_type": "code",
   "execution_count": 14,
   "id": "b2c507ad-3d8d-44d5-be7e-95facbfc058a",
   "metadata": {},
   "outputs": [
    {
     "data": {
      "text/plain": [
       "occupation\n",
       "Accountant              65265.0\n",
       "Artist                  45794.0\n",
       "Business Owner         261191.5\n",
       "Consultant              58017.0\n",
       "Data Scientist         135759.0\n",
       "Freelancer              46759.0\n",
       "Fullstack Developer     76774.0\n",
       "Name: annual_income, dtype: float64"
      ]
     },
     "execution_count": 14,
     "metadata": {},
     "output_type": "execute_result"
    }
   ],
   "source": [
    "occ_wise_median_income = df_cust.groupby(\"occupation\")[\"annual_income\"].median()\n",
    "occ_wise_median_income"
   ]
  },
  {
   "cell_type": "code",
   "execution_count": 15,
   "id": "7fae2a57-4b01-4229-beee-139d79892e5a",
   "metadata": {},
   "outputs": [],
   "source": [
    "df_cust['annual_income'] = df_cust.apply(\n",
    "    lambda row: occ_wise_median_income[row['occupation']] if pd.isnull(row['annual_income']) else row['annual_income'],\n",
    "    axis=1\n",
    ")"
   ]
  },
  {
   "cell_type": "code",
   "execution_count": 17,
   "id": "451c766f-d770-4143-a4fc-f0a1251d3cd2",
   "metadata": {},
   "outputs": [
    {
     "data": {
      "text/html": [
       "<div>\n",
       "<style scoped>\n",
       "    .dataframe tbody tr th:only-of-type {\n",
       "        vertical-align: middle;\n",
       "    }\n",
       "\n",
       "    .dataframe tbody tr th {\n",
       "        vertical-align: top;\n",
       "    }\n",
       "\n",
       "    .dataframe thead th {\n",
       "        text-align: right;\n",
       "    }\n",
       "</style>\n",
       "<table border=\"1\" class=\"dataframe\">\n",
       "  <thead>\n",
       "    <tr style=\"text-align: right;\">\n",
       "      <th></th>\n",
       "      <th>cust_id</th>\n",
       "      <th>name</th>\n",
       "      <th>gender</th>\n",
       "      <th>age</th>\n",
       "      <th>location</th>\n",
       "      <th>occupation</th>\n",
       "      <th>annual_income</th>\n",
       "      <th>marital_status</th>\n",
       "    </tr>\n",
       "  </thead>\n",
       "  <tbody>\n",
       "  </tbody>\n",
       "</table>\n",
       "</div>"
      ],
      "text/plain": [
       "Empty DataFrame\n",
       "Columns: [cust_id, name, gender, age, location, occupation, annual_income, marital_status]\n",
       "Index: []"
      ]
     },
     "execution_count": 17,
     "metadata": {},
     "output_type": "execute_result"
    }
   ],
   "source": [
    "df_cust[df_cust.annual_income.isna()]"
   ]
  },
  {
   "cell_type": "code",
   "execution_count": 18,
   "id": "b94747aa-11c9-44e8-9971-134d4a7e66f5",
   "metadata": {},
   "outputs": [
    {
     "data": {
      "text/plain": [
       "cust_id           0\n",
       "name              0\n",
       "gender            0\n",
       "age               0\n",
       "location          0\n",
       "occupation        0\n",
       "annual_income     0\n",
       "marital_status    0\n",
       "dtype: int64"
      ]
     },
     "execution_count": 18,
     "metadata": {},
     "output_type": "execute_result"
    }
   ],
   "source": [
    "df_cust.isnull().sum()"
   ]
  },
  {
   "cell_type": "code",
   "execution_count": 19,
   "id": "a2856e6a-9d5b-44e4-a741-b21d39b55ee3",
   "metadata": {},
   "outputs": [
    {
     "data": {
      "text/html": [
       "<div>\n",
       "<style scoped>\n",
       "    .dataframe tbody tr th:only-of-type {\n",
       "        vertical-align: middle;\n",
       "    }\n",
       "\n",
       "    .dataframe tbody tr th {\n",
       "        vertical-align: top;\n",
       "    }\n",
       "\n",
       "    .dataframe thead th {\n",
       "        text-align: right;\n",
       "    }\n",
       "</style>\n",
       "<table border=\"1\" class=\"dataframe\">\n",
       "  <thead>\n",
       "    <tr style=\"text-align: right;\">\n",
       "      <th></th>\n",
       "      <th>cust_id</th>\n",
       "      <th>age</th>\n",
       "      <th>annual_income</th>\n",
       "    </tr>\n",
       "  </thead>\n",
       "  <tbody>\n",
       "    <tr>\n",
       "      <th>count</th>\n",
       "      <td>1000.000000</td>\n",
       "      <td>1000.000000</td>\n",
       "      <td>1000.000000</td>\n",
       "    </tr>\n",
       "    <tr>\n",
       "      <th>mean</th>\n",
       "      <td>500.500000</td>\n",
       "      <td>36.405000</td>\n",
       "      <td>138916.765500</td>\n",
       "    </tr>\n",
       "    <tr>\n",
       "      <th>std</th>\n",
       "      <td>288.819436</td>\n",
       "      <td>15.666155</td>\n",
       "      <td>110969.408643</td>\n",
       "    </tr>\n",
       "    <tr>\n",
       "      <th>min</th>\n",
       "      <td>1.000000</td>\n",
       "      <td>1.000000</td>\n",
       "      <td>2.000000</td>\n",
       "    </tr>\n",
       "    <tr>\n",
       "      <th>25%</th>\n",
       "      <td>250.750000</td>\n",
       "      <td>26.000000</td>\n",
       "      <td>48229.500000</td>\n",
       "    </tr>\n",
       "    <tr>\n",
       "      <th>50%</th>\n",
       "      <td>500.500000</td>\n",
       "      <td>32.000000</td>\n",
       "      <td>113416.000000</td>\n",
       "    </tr>\n",
       "    <tr>\n",
       "      <th>75%</th>\n",
       "      <td>750.250000</td>\n",
       "      <td>46.000000</td>\n",
       "      <td>192614.000000</td>\n",
       "    </tr>\n",
       "    <tr>\n",
       "      <th>max</th>\n",
       "      <td>1000.000000</td>\n",
       "      <td>135.000000</td>\n",
       "      <td>449346.000000</td>\n",
       "    </tr>\n",
       "  </tbody>\n",
       "</table>\n",
       "</div>"
      ],
      "text/plain": [
       "           cust_id          age  annual_income\n",
       "count  1000.000000  1000.000000    1000.000000\n",
       "mean    500.500000    36.405000  138916.765500\n",
       "std     288.819436    15.666155  110969.408643\n",
       "min       1.000000     1.000000       2.000000\n",
       "25%     250.750000    26.000000   48229.500000\n",
       "50%     500.500000    32.000000  113416.000000\n",
       "75%     750.250000    46.000000  192614.000000\n",
       "max    1000.000000   135.000000  449346.000000"
      ]
     },
     "execution_count": 19,
     "metadata": {},
     "output_type": "execute_result"
    }
   ],
   "source": [
    "df_cust.describe()"
   ]
  },
  {
   "cell_type": "code",
   "execution_count": 20,
   "id": "95d6374b-2568-4e4e-a987-071bc66036e7",
   "metadata": {},
   "outputs": [
    {
     "data": {
      "text/html": [
       "<div>\n",
       "<style scoped>\n",
       "    .dataframe tbody tr th:only-of-type {\n",
       "        vertical-align: middle;\n",
       "    }\n",
       "\n",
       "    .dataframe tbody tr th {\n",
       "        vertical-align: top;\n",
       "    }\n",
       "\n",
       "    .dataframe thead th {\n",
       "        text-align: right;\n",
       "    }\n",
       "</style>\n",
       "<table border=\"1\" class=\"dataframe\">\n",
       "  <thead>\n",
       "    <tr style=\"text-align: right;\">\n",
       "      <th></th>\n",
       "      <th>cust_id</th>\n",
       "      <th>name</th>\n",
       "      <th>gender</th>\n",
       "      <th>age</th>\n",
       "      <th>location</th>\n",
       "      <th>occupation</th>\n",
       "      <th>annual_income</th>\n",
       "      <th>marital_status</th>\n",
       "    </tr>\n",
       "  </thead>\n",
       "  <tbody>\n",
       "    <tr>\n",
       "      <th>31</th>\n",
       "      <td>32</td>\n",
       "      <td>Veer Mistry</td>\n",
       "      <td>Male</td>\n",
       "      <td>50</td>\n",
       "      <td>City</td>\n",
       "      <td>Business Owner</td>\n",
       "      <td>50.0</td>\n",
       "      <td>Married</td>\n",
       "    </tr>\n",
       "    <tr>\n",
       "      <th>262</th>\n",
       "      <td>263</td>\n",
       "      <td>Vivaan Tandon</td>\n",
       "      <td>Male</td>\n",
       "      <td>53</td>\n",
       "      <td>Suburb</td>\n",
       "      <td>Business Owner</td>\n",
       "      <td>50.0</td>\n",
       "      <td>Married</td>\n",
       "    </tr>\n",
       "    <tr>\n",
       "      <th>316</th>\n",
       "      <td>317</td>\n",
       "      <td>Yuvraj Saxena</td>\n",
       "      <td>Male</td>\n",
       "      <td>47</td>\n",
       "      <td>City</td>\n",
       "      <td>Consultant</td>\n",
       "      <td>50.0</td>\n",
       "      <td>Married</td>\n",
       "    </tr>\n",
       "    <tr>\n",
       "      <th>333</th>\n",
       "      <td>334</td>\n",
       "      <td>Avani Khanna</td>\n",
       "      <td>Female</td>\n",
       "      <td>29</td>\n",
       "      <td>City</td>\n",
       "      <td>Data Scientist</td>\n",
       "      <td>50.0</td>\n",
       "      <td>Married</td>\n",
       "    </tr>\n",
       "    <tr>\n",
       "      <th>340</th>\n",
       "      <td>341</td>\n",
       "      <td>Priya Sinha</td>\n",
       "      <td>Female</td>\n",
       "      <td>33</td>\n",
       "      <td>Rural</td>\n",
       "      <td>Fullstack Developer</td>\n",
       "      <td>50.0</td>\n",
       "      <td>Married</td>\n",
       "    </tr>\n",
       "    <tr>\n",
       "      <th>543</th>\n",
       "      <td>544</td>\n",
       "      <td>Advait Batra</td>\n",
       "      <td>Male</td>\n",
       "      <td>54</td>\n",
       "      <td>City</td>\n",
       "      <td>Consultant</td>\n",
       "      <td>2.0</td>\n",
       "      <td>Married</td>\n",
       "    </tr>\n",
       "    <tr>\n",
       "      <th>592</th>\n",
       "      <td>593</td>\n",
       "      <td>Priya Gandhi</td>\n",
       "      <td>Female</td>\n",
       "      <td>32</td>\n",
       "      <td>City</td>\n",
       "      <td>Business Owner</td>\n",
       "      <td>50.0</td>\n",
       "      <td>Married</td>\n",
       "    </tr>\n",
       "    <tr>\n",
       "      <th>633</th>\n",
       "      <td>634</td>\n",
       "      <td>Rudra Mehtani</td>\n",
       "      <td>Male</td>\n",
       "      <td>26</td>\n",
       "      <td>City</td>\n",
       "      <td>Data Scientist</td>\n",
       "      <td>2.0</td>\n",
       "      <td>Married</td>\n",
       "    </tr>\n",
       "    <tr>\n",
       "      <th>686</th>\n",
       "      <td>687</td>\n",
       "      <td>Vihaan Jaiswal</td>\n",
       "      <td>Male</td>\n",
       "      <td>40</td>\n",
       "      <td>City</td>\n",
       "      <td>Business Owner</td>\n",
       "      <td>2.0</td>\n",
       "      <td>Married</td>\n",
       "    </tr>\n",
       "    <tr>\n",
       "      <th>696</th>\n",
       "      <td>697</td>\n",
       "      <td>Ishan Negi</td>\n",
       "      <td>Male</td>\n",
       "      <td>47</td>\n",
       "      <td>City</td>\n",
       "      <td>Consultant</td>\n",
       "      <td>20.0</td>\n",
       "      <td>Married</td>\n",
       "    </tr>\n",
       "  </tbody>\n",
       "</table>\n",
       "</div>"
      ],
      "text/plain": [
       "     cust_id            name  gender  age location           occupation  \\\n",
       "31        32     Veer Mistry    Male   50     City       Business Owner   \n",
       "262      263   Vivaan Tandon    Male   53   Suburb       Business Owner   \n",
       "316      317   Yuvraj Saxena    Male   47     City           Consultant   \n",
       "333      334    Avani Khanna  Female   29     City       Data Scientist   \n",
       "340      341     Priya Sinha  Female   33    Rural  Fullstack Developer   \n",
       "543      544    Advait Batra    Male   54     City           Consultant   \n",
       "592      593    Priya Gandhi  Female   32     City       Business Owner   \n",
       "633      634   Rudra Mehtani    Male   26     City       Data Scientist   \n",
       "686      687  Vihaan Jaiswal    Male   40     City       Business Owner   \n",
       "696      697      Ishan Negi    Male   47     City           Consultant   \n",
       "\n",
       "     annual_income marital_status  \n",
       "31            50.0        Married  \n",
       "262           50.0        Married  \n",
       "316           50.0        Married  \n",
       "333           50.0        Married  \n",
       "340           50.0        Married  \n",
       "543            2.0        Married  \n",
       "592           50.0        Married  \n",
       "633            2.0        Married  \n",
       "686            2.0        Married  \n",
       "696           20.0        Married  "
      ]
     },
     "execution_count": 20,
     "metadata": {},
     "output_type": "execute_result"
    }
   ],
   "source": [
    "df_cust[df_cust.annual_income < 100]"
   ]
  },
  {
   "cell_type": "code",
   "execution_count": 21,
   "id": "f2a381c2-de71-4987-bd61-5851df5e75a1",
   "metadata": {},
   "outputs": [],
   "source": [
    "for index, row in df_cust.iterrows():\n",
    "    if row[\"annual_income\"] < 100:\n",
    "        occupation = df_cust.at[index, \"occupation\"]\n",
    "        df_cust.at[index, \"annual_income\"] = occ_wise_median_income[occupation]"
   ]
  },
  {
   "cell_type": "code",
   "execution_count": 22,
   "id": "760eeaf6-a71d-4b59-bc33-16fc115ca6a7",
   "metadata": {},
   "outputs": [
    {
     "data": {
      "text/html": [
       "<div>\n",
       "<style scoped>\n",
       "    .dataframe tbody tr th:only-of-type {\n",
       "        vertical-align: middle;\n",
       "    }\n",
       "\n",
       "    .dataframe tbody tr th {\n",
       "        vertical-align: top;\n",
       "    }\n",
       "\n",
       "    .dataframe thead th {\n",
       "        text-align: right;\n",
       "    }\n",
       "</style>\n",
       "<table border=\"1\" class=\"dataframe\">\n",
       "  <thead>\n",
       "    <tr style=\"text-align: right;\">\n",
       "      <th></th>\n",
       "      <th>cust_id</th>\n",
       "      <th>name</th>\n",
       "      <th>gender</th>\n",
       "      <th>age</th>\n",
       "      <th>location</th>\n",
       "      <th>occupation</th>\n",
       "      <th>annual_income</th>\n",
       "      <th>marital_status</th>\n",
       "    </tr>\n",
       "  </thead>\n",
       "  <tbody>\n",
       "  </tbody>\n",
       "</table>\n",
       "</div>"
      ],
      "text/plain": [
       "Empty DataFrame\n",
       "Columns: [cust_id, name, gender, age, location, occupation, annual_income, marital_status]\n",
       "Index: []"
      ]
     },
     "execution_count": 22,
     "metadata": {},
     "output_type": "execute_result"
    }
   ],
   "source": [
    "df_cust[df_cust.annual_income < 100]"
   ]
  },
  {
   "cell_type": "code",
   "execution_count": 86,
   "id": "56f58905-b09c-45fb-8b94-401a06f42075",
   "metadata": {},
   "outputs": [
    {
     "data": {
      "text/html": [
       "<div>\n",
       "<style scoped>\n",
       "    .dataframe tbody tr th:only-of-type {\n",
       "        vertical-align: middle;\n",
       "    }\n",
       "\n",
       "    .dataframe tbody tr th {\n",
       "        vertical-align: top;\n",
       "    }\n",
       "\n",
       "    .dataframe thead th {\n",
       "        text-align: right;\n",
       "    }\n",
       "</style>\n",
       "<table border=\"1\" class=\"dataframe\">\n",
       "  <thead>\n",
       "    <tr style=\"text-align: right;\">\n",
       "      <th></th>\n",
       "      <th>cust_id</th>\n",
       "      <th>name</th>\n",
       "      <th>gender</th>\n",
       "      <th>age</th>\n",
       "      <th>location</th>\n",
       "      <th>occupation</th>\n",
       "      <th>annual_income</th>\n",
       "      <th>marital_status</th>\n",
       "      <th>age_group</th>\n",
       "    </tr>\n",
       "  </thead>\n",
       "  <tbody>\n",
       "  </tbody>\n",
       "</table>\n",
       "</div>"
      ],
      "text/plain": [
       "Empty DataFrame\n",
       "Columns: [cust_id, name, gender, age, location, occupation, annual_income, marital_status, age_group]\n",
       "Index: []"
      ]
     },
     "execution_count": 86,
     "metadata": {},
     "output_type": "execute_result"
    }
   ],
   "source": [
    "df_cust[df_cust.age.isnull()]"
   ]
  },
  {
   "cell_type": "code",
   "execution_count": 41,
   "id": "5fc8ce61-fa24-4a39-b20a-c7c8242ddbc9",
   "metadata": {},
   "outputs": [
    {
     "data": {
      "text/plain": [
       "(np.int64(1), np.int64(135))"
      ]
     },
     "execution_count": 41,
     "metadata": {},
     "output_type": "execute_result"
    }
   ],
   "source": [
    "min_age,max_age = df_cust.age.min(),df_cust.age.max()\n",
    "min_age,max_age"
   ]
  },
  {
   "cell_type": "code",
   "execution_count": 88,
   "id": "7ca39333-bc63-4ccd-97e1-fa9b00995320",
   "metadata": {},
   "outputs": [
    {
     "data": {
      "text/html": [
       "<div>\n",
       "<style scoped>\n",
       "    .dataframe tbody tr th:only-of-type {\n",
       "        vertical-align: middle;\n",
       "    }\n",
       "\n",
       "    .dataframe tbody tr th {\n",
       "        vertical-align: top;\n",
       "    }\n",
       "\n",
       "    .dataframe thead th {\n",
       "        text-align: right;\n",
       "    }\n",
       "</style>\n",
       "<table border=\"1\" class=\"dataframe\">\n",
       "  <thead>\n",
       "    <tr style=\"text-align: right;\">\n",
       "      <th></th>\n",
       "      <th>cust_id</th>\n",
       "      <th>name</th>\n",
       "      <th>gender</th>\n",
       "      <th>age</th>\n",
       "      <th>location</th>\n",
       "      <th>occupation</th>\n",
       "      <th>annual_income</th>\n",
       "      <th>marital_status</th>\n",
       "      <th>age_group</th>\n",
       "    </tr>\n",
       "  </thead>\n",
       "  <tbody>\n",
       "    <tr>\n",
       "      <th>0</th>\n",
       "      <td>1</td>\n",
       "      <td>Manya Acharya</td>\n",
       "      <td>Female</td>\n",
       "      <td>2</td>\n",
       "      <td>City</td>\n",
       "      <td>Business Owner</td>\n",
       "      <td>358211.0</td>\n",
       "      <td>Married</td>\n",
       "      <td>NaN</td>\n",
       "    </tr>\n",
       "    <tr>\n",
       "      <th>41</th>\n",
       "      <td>42</td>\n",
       "      <td>Aaryan Shah</td>\n",
       "      <td>Male</td>\n",
       "      <td>110</td>\n",
       "      <td>City</td>\n",
       "      <td>Artist</td>\n",
       "      <td>7621.0</td>\n",
       "      <td>Married</td>\n",
       "      <td>NaN</td>\n",
       "    </tr>\n",
       "    <tr>\n",
       "      <th>165</th>\n",
       "      <td>166</td>\n",
       "      <td>Sia Dutta</td>\n",
       "      <td>Female</td>\n",
       "      <td>1</td>\n",
       "      <td>City</td>\n",
       "      <td>Freelancer</td>\n",
       "      <td>39721.0</td>\n",
       "      <td>Single</td>\n",
       "      <td>NaN</td>\n",
       "    </tr>\n",
       "    <tr>\n",
       "      <th>174</th>\n",
       "      <td>175</td>\n",
       "      <td>Rohan Sharma</td>\n",
       "      <td>Male</td>\n",
       "      <td>110</td>\n",
       "      <td>City</td>\n",
       "      <td>Freelancer</td>\n",
       "      <td>23723.0</td>\n",
       "      <td>Married</td>\n",
       "      <td>NaN</td>\n",
       "    </tr>\n",
       "    <tr>\n",
       "      <th>222</th>\n",
       "      <td>223</td>\n",
       "      <td>Arjun Batra</td>\n",
       "      <td>Male</td>\n",
       "      <td>110</td>\n",
       "      <td>Suburb</td>\n",
       "      <td>Freelancer</td>\n",
       "      <td>210987.0</td>\n",
       "      <td>Married</td>\n",
       "      <td>NaN</td>\n",
       "    </tr>\n",
       "  </tbody>\n",
       "</table>\n",
       "</div>"
      ],
      "text/plain": [
       "     cust_id           name  gender  age location      occupation  \\\n",
       "0          1  Manya Acharya  Female    2     City  Business Owner   \n",
       "41        42    Aaryan Shah    Male  110     City          Artist   \n",
       "165      166      Sia Dutta  Female    1     City      Freelancer   \n",
       "174      175   Rohan Sharma    Male  110     City      Freelancer   \n",
       "222      223    Arjun Batra    Male  110   Suburb      Freelancer   \n",
       "\n",
       "     annual_income marital_status age_group  \n",
       "0         358211.0        Married       NaN  \n",
       "41          7621.0        Married       NaN  \n",
       "165        39721.0         Single       NaN  \n",
       "174        23723.0        Married       NaN  \n",
       "222       210987.0        Married       NaN  "
      ]
     },
     "execution_count": 88,
     "metadata": {},
     "output_type": "execute_result"
    }
   ],
   "source": [
    "outliers=df_cust[(df_cust.age<15) | (df_cust.age>80)]\n",
    "outliers.head()"
   ]
  },
  {
   "cell_type": "code",
   "execution_count": 89,
   "id": "1f32cdd9-c823-479f-ab9e-1bde557009a9",
   "metadata": {},
   "outputs": [
    {
     "data": {
      "text/plain": [
       "np.float64(32.0)"
      ]
     },
     "execution_count": 89,
     "metadata": {},
     "output_type": "execute_result"
    }
   ],
   "source": [
    "df_cust.age.median()"
   ]
  },
  {
   "cell_type": "code",
   "execution_count": 90,
   "id": "84d7dd1b-0ce4-49ea-bb5f-6858d3e974f4",
   "metadata": {},
   "outputs": [
    {
     "data": {
      "text/plain": [
       "occupation\n",
       "Accountant             34.812500\n",
       "Artist                 28.236842\n",
       "Business Owner         49.740484\n",
       "Consultant             45.680412\n",
       "Data Scientist         33.157609\n",
       "Freelancer             25.184211\n",
       "Fullstack Developer    27.878378\n",
       "Name: age, dtype: float64"
      ]
     },
     "execution_count": 90,
     "metadata": {},
     "output_type": "execute_result"
    }
   ],
   "source": [
    "occ_wise_median_age = df_cust.groupby(\"occupation\")[\"age\"].mean()\n",
    "occ_wise_median_age"
   ]
  },
  {
   "cell_type": "code",
   "execution_count": 91,
   "id": "ccc07c89-bc86-49a7-832f-4f3f8b4831ee",
   "metadata": {},
   "outputs": [],
   "source": [
    "for index, row in outliers.iterrows():\n",
    "    if pd.notnull(row['age']):\n",
    "        occupation = df_cust.at[index, 'occupation']\n",
    "        df_cust.at[index, 'age'] = occ_wise_median_age[occupation]"
   ]
  },
  {
   "cell_type": "code",
   "execution_count": 92,
   "id": "12ebfa02-7787-4c97-ab38-28f6b41c5244",
   "metadata": {},
   "outputs": [
    {
     "data": {
      "text/plain": [
       "(0, 9)"
      ]
     },
     "execution_count": 92,
     "metadata": {},
     "output_type": "execute_result"
    }
   ],
   "source": [
    "df_cust[(df_cust.age<15) | (df_cust.age>80)].shape"
   ]
  },
  {
   "cell_type": "markdown",
   "id": "24560691-304d-4cbf-a8f5-0e47a11f7d7c",
   "metadata": {
    "jp-MarkdownHeadingCollapsed": true
   },
   "source": [
    "## Data Visualisation"
   ]
  },
  {
   "cell_type": "code",
   "execution_count": 25,
   "id": "5c52e2d4-58e2-4b4c-a442-3c1d0c59b0b2",
   "metadata": {},
   "outputs": [
    {
     "data": {
      "image/png": "[encoded data removed]",
      "text/plain": [
       "<Figure size 500x500 with 1 Axes>"
      ]
     },
     "metadata": {},
     "output_type": "display_data"
    }
   ],
   "source": [
    "plt.figure(figsize=(5, 5))\n",
    "sns.histplot(df_cust['annual_income'], kde=True, color='green', label='Data')\n",
    "plt.title('Histogram of annual_income')\n",
    "plt.show()"
   ]
  },
  {
   "cell_type": "code",
   "execution_count": 26,
   "id": "2af15e94-a518-41c5-8b86-791b3afc00be",
   "metadata": {},
   "outputs": [
    {
     "data": {
      "text/plain": [
       "occupation\n",
       "Accountant              64123.562500\n",
       "Artist                  45309.236842\n",
       "Business Owner         268447.368512\n",
       "Consultant              60703.154639\n",
       "Data Scientist         137021.266304\n",
       "Freelancer              76327.508772\n",
       "Fullstack Developer     78727.972973\n",
       "Name: annual_income, dtype: float64"
      ]
     },
     "execution_count": 26,
     "metadata": {},
     "output_type": "execute_result"
    }
   ],
   "source": [
    "avg_income_per_occupation  = df_cust.groupby(\"occupation\")[\"annual_income\"].mean()\n",
    "avg_income_per_occupation"
   ]
  },
  {
   "cell_type": "code",
   "execution_count": 31,
   "id": "065ba59c-55a0-444e-b642-77213158842d",
   "metadata": {},
   "outputs": [
    {
     "data": {
      "image/png": "[encoded data removed]",
      "text/plain": [
       "<Figure size 800x400 with 1 Axes>"
      ]
     },
     "metadata": {},
     "output_type": "display_data"
    }
   ],
   "source": [
    "plt.figure(figsize=(8,4))\n",
    "sns.barplot(x=avg_income_per_occupation.index, y=avg_income_per_occupation.values)\n",
    "plt.xticks(rotation=45)\n",
    "plt.title('Average Annual Income Per Occupation')\n",
    "plt.xlabel('Occupation')\n",
    "plt.ylabel('Average Annual Income ($)')\n",
    "plt.show()"
   ]
  },
  {
   "cell_type": "code",
   "execution_count": 34,
   "id": "1fb2e9d1-b69d-4108-8189-1dbb2fa1b83a",
   "metadata": {},
   "outputs": [
    {
     "data": {
      "image/png": "[encoded data removed]",
      "text/plain": [
       "<Figure size 1200x1200 with 4 Axes>"
      ]
     },
     "metadata": {},
     "output_type": "display_data"
    }
   ],
   "source": [
    "# List of categorical columns\n",
    "cat_cols = ['gender', 'location', 'occupation', 'marital_status']\n",
    "\n",
    "num_rows = 3\n",
    "# Create subplots\n",
    "fig, axes = plt.subplots(num_rows, 2, figsize=(12, 4 * num_rows))\n",
    "\n",
    "# Flatten the axes array to make it easier to iterate\n",
    "axes = axes.flatten()\n",
    "\n",
    "# Create subplots for each categorical column\n",
    "for i, cat_col in enumerate(cat_cols):\n",
    "    # Calculate the average annual income for each category\n",
    "    avg_income_by_category = df_cust.groupby(cat_col)['annual_income'].mean().reset_index()\n",
    "    \n",
    "    # Sort the data by 'annual_income' before plotting\n",
    "    sorted_data = avg_income_by_category.sort_values(by='annual_income', ascending=False)\n",
    "    \n",
    "    sns.barplot(x=cat_col, y='annual_income', data=sorted_data, ci=None, ax=axes[i], palette='tab10')\n",
    "    axes[i].set_title(f'Average Annual Income by {cat_col}')\n",
    "    axes[i].set_xlabel(cat_col)\n",
    "    axes[i].set_ylabel('Average Annual Income')\n",
    "\n",
    "    # Rotate x-axis labels for better readability\n",
    "    axes[i].set_xticklabels(axes[i].get_xticklabels(), rotation=45)\n",
    "\n",
    "# Hide any unused subplots\n",
    "for i in range(len(cat_cols), len(axes)):\n",
    "    fig.delaxes(axes[i])\n",
    "plt.tight_layout()\n",
    "plt.show()"
   ]
  },
  {
   "cell_type": "code",
   "execution_count": 50,
   "id": "57b704ba-f9f5-4565-9cb2-ff348b643924",
   "metadata": {},
   "outputs": [
    {
     "data": {
      "text/plain": [
       "count    1000.000000\n",
       "mean       35.555240\n",
       "std        12.259532\n",
       "min        18.000000\n",
       "25%        26.000000\n",
       "50%        32.000000\n",
       "75%        44.250000\n",
       "max        64.000000\n",
       "Name: age, dtype: float64"
      ]
     },
     "execution_count": 50,
     "metadata": {},
     "output_type": "execute_result"
    }
   ],
   "source": [
    "df_cust.age.describe()"
   ]
  },
  {
   "cell_type": "code",
   "execution_count": 93,
   "id": "444b9d67-e4fc-4de2-8eff-fb97c998dcd8",
   "metadata": {},
   "outputs": [
    {
     "data": {
      "text/html": [
       "<div>\n",
       "<style scoped>\n",
       "    .dataframe tbody tr th:only-of-type {\n",
       "        vertical-align: middle;\n",
       "    }\n",
       "\n",
       "    .dataframe tbody tr th {\n",
       "        vertical-align: top;\n",
       "    }\n",
       "\n",
       "    .dataframe thead th {\n",
       "        text-align: right;\n",
       "    }\n",
       "</style>\n",
       "<table border=\"1\" class=\"dataframe\">\n",
       "  <thead>\n",
       "    <tr style=\"text-align: right;\">\n",
       "      <th></th>\n",
       "      <th>cust_id</th>\n",
       "      <th>name</th>\n",
       "      <th>gender</th>\n",
       "      <th>age</th>\n",
       "      <th>location</th>\n",
       "      <th>occupation</th>\n",
       "      <th>annual_income</th>\n",
       "      <th>marital_status</th>\n",
       "      <th>age_group</th>\n",
       "    </tr>\n",
       "  </thead>\n",
       "  <tbody>\n",
       "    <tr>\n",
       "      <th>0</th>\n",
       "      <td>1</td>\n",
       "      <td>Manya Acharya</td>\n",
       "      <td>Female</td>\n",
       "      <td>49.740484</td>\n",
       "      <td>City</td>\n",
       "      <td>Business Owner</td>\n",
       "      <td>358211.0</td>\n",
       "      <td>Married</td>\n",
       "      <td>49-65</td>\n",
       "    </tr>\n",
       "    <tr>\n",
       "      <th>1</th>\n",
       "      <td>2</td>\n",
       "      <td>Anjali Pandey</td>\n",
       "      <td>Female</td>\n",
       "      <td>47.000000</td>\n",
       "      <td>City</td>\n",
       "      <td>Consultant</td>\n",
       "      <td>65172.0</td>\n",
       "      <td>Single</td>\n",
       "      <td>26-48</td>\n",
       "    </tr>\n",
       "    <tr>\n",
       "      <th>2</th>\n",
       "      <td>3</td>\n",
       "      <td>Aaryan Chauhan</td>\n",
       "      <td>Male</td>\n",
       "      <td>21.000000</td>\n",
       "      <td>City</td>\n",
       "      <td>Freelancer</td>\n",
       "      <td>22378.0</td>\n",
       "      <td>Married</td>\n",
       "      <td>18-25</td>\n",
       "    </tr>\n",
       "    <tr>\n",
       "      <th>3</th>\n",
       "      <td>4</td>\n",
       "      <td>Rudra Bali</td>\n",
       "      <td>Male</td>\n",
       "      <td>24.000000</td>\n",
       "      <td>Rural</td>\n",
       "      <td>Freelancer</td>\n",
       "      <td>33563.0</td>\n",
       "      <td>Married</td>\n",
       "      <td>18-25</td>\n",
       "    </tr>\n",
       "    <tr>\n",
       "      <th>4</th>\n",
       "      <td>5</td>\n",
       "      <td>Advait Malik</td>\n",
       "      <td>Male</td>\n",
       "      <td>48.000000</td>\n",
       "      <td>City</td>\n",
       "      <td>Consultant</td>\n",
       "      <td>39406.0</td>\n",
       "      <td>Married</td>\n",
       "      <td>26-48</td>\n",
       "    </tr>\n",
       "  </tbody>\n",
       "</table>\n",
       "</div>"
      ],
      "text/plain": [
       "   cust_id            name  gender        age location      occupation  \\\n",
       "0        1   Manya Acharya  Female  49.740484     City  Business Owner   \n",
       "1        2   Anjali Pandey  Female  47.000000     City      Consultant   \n",
       "2        3  Aaryan Chauhan    Male  21.000000     City      Freelancer   \n",
       "3        4      Rudra Bali    Male  24.000000    Rural      Freelancer   \n",
       "4        5    Advait Malik    Male  48.000000     City      Consultant   \n",
       "\n",
       "   annual_income marital_status age_group  \n",
       "0       358211.0        Married     49-65  \n",
       "1        65172.0         Single     26-48  \n",
       "2        22378.0        Married     18-25  \n",
       "3        33563.0        Married     18-25  \n",
       "4        39406.0        Married     26-48  "
      ]
     },
     "execution_count": 93,
     "metadata": {},
     "output_type": "execute_result"
    }
   ],
   "source": [
    "bin_edges = [17, 25, 48, 65] \n",
    "bin_labels = ['18-25', '26-48', '49-65']\n",
    "\n",
    "df_cust['age_group']=pd.cut(df_cust['age'], bins=bin_edges, labels=bin_labels)\n",
    "df_cust.head()"
   ]
  },
  {
   "cell_type": "code",
   "execution_count": 59,
   "id": "fd7b8c52-b8bf-4cea-a04f-52c6ae1b7ba0",
   "metadata": {},
   "outputs": [
    {
     "data": {
      "text/plain": [
       "age_group\n",
       "26-48    57.3\n",
       "18-25    24.0\n",
       "49-65    18.7\n",
       "Name: proportion, dtype: float64"
      ]
     },
     "execution_count": 59,
     "metadata": {},
     "output_type": "execute_result"
    }
   ],
   "source": [
    "age_grp_cnts = df_cust['age_group'].value_counts(normalize=True)*100\n",
    "age_grp_cnts"
   ]
  },
  {
   "cell_type": "code",
   "execution_count": 65,
   "id": "478a2a3f-ddf0-4a86-b9ed-52e5d6ab18dc",
   "metadata": {},
   "outputs": [
    {
     "data": {
      "image/png": "[encoded data removed]",
      "text/plain": [
       "<Figure size 640x480 with 1 Axes>"
      ]
     },
     "metadata": {},
     "output_type": "display_data"
    }
   ],
   "source": [
    "plt.pie(age_grp_cnts, labels=age_grp_cnts.index, autopct='%1.1f%%', shadow=True,\n",
    "    startangle=140, explode=(0.1,0,0))\n",
    "\n",
    "plt.show()"
   ]
  },
  {
   "cell_type": "code",
   "execution_count": 66,
   "id": "21b02710-b910-4056-a77e-5d00b9edb961",
   "metadata": {},
   "outputs": [
    {
     "data": {
      "text/plain": [
       "gender\n",
       "Male      674\n",
       "Female    326\n",
       "Name: count, dtype: int64"
      ]
     },
     "execution_count": 66,
     "metadata": {},
     "output_type": "execute_result"
    }
   ],
   "source": [
    "df_cust.gender.value_counts()"
   ]
  },
  {
   "cell_type": "code",
   "execution_count": 67,
   "id": "52e04dd7-50dd-4c96-a898-eb987bdff529",
   "metadata": {},
   "outputs": [
    {
     "data": {
      "text/plain": [
       "location\n",
       "City      683\n",
       "Suburb    232\n",
       "Rural      85\n",
       "Name: count, dtype: int64"
      ]
     },
     "execution_count": 67,
     "metadata": {},
     "output_type": "execute_result"
    }
   ],
   "source": [
    "df_cust.location.value_counts()"
   ]
  },
  {
   "cell_type": "code",
   "execution_count": 71,
   "id": "00be84c1-49ef-42af-8205-e997b9f60678",
   "metadata": {},
   "outputs": [
    {
     "data": {
      "text/html": [
       "<div>\n",
       "<style scoped>\n",
       "    .dataframe tbody tr th:only-of-type {\n",
       "        vertical-align: middle;\n",
       "    }\n",
       "\n",
       "    .dataframe tbody tr th {\n",
       "        vertical-align: top;\n",
       "    }\n",
       "\n",
       "    .dataframe thead th {\n",
       "        text-align: right;\n",
       "    }\n",
       "</style>\n",
       "<table border=\"1\" class=\"dataframe\">\n",
       "  <thead>\n",
       "    <tr style=\"text-align: right;\">\n",
       "      <th>gender</th>\n",
       "      <th>Female</th>\n",
       "      <th>Male</th>\n",
       "    </tr>\n",
       "    <tr>\n",
       "      <th>location</th>\n",
       "      <th></th>\n",
       "      <th></th>\n",
       "    </tr>\n",
       "  </thead>\n",
       "  <tbody>\n",
       "    <tr>\n",
       "      <th>City</th>\n",
       "      <td>226</td>\n",
       "      <td>457</td>\n",
       "    </tr>\n",
       "    <tr>\n",
       "      <th>Rural</th>\n",
       "      <td>26</td>\n",
       "      <td>59</td>\n",
       "    </tr>\n",
       "    <tr>\n",
       "      <th>Suburb</th>\n",
       "      <td>74</td>\n",
       "      <td>158</td>\n",
       "    </tr>\n",
       "  </tbody>\n",
       "</table>\n",
       "</div>"
      ],
      "text/plain": [
       "gender    Female  Male\n",
       "location              \n",
       "City         226   457\n",
       "Rural         26    59\n",
       "Suburb        74   158"
      ]
     },
     "execution_count": 71,
     "metadata": {},
     "output_type": "execute_result"
    }
   ],
   "source": [
    "cust_loc_gen = df_cust.groupby([\"location\",\"gender\"]).size().unstack()\n",
    "cust_loc_gen"
   ]
  },
  {
   "cell_type": "code",
   "execution_count": 79,
   "id": "0a7193bf-9d6f-4665-bb6a-1dd053b94cfb",
   "metadata": {},
   "outputs": [
    {
     "data": {
      "image/png": "[encoded data removed]",
      "text/plain": [
       "<Figure size 400x300 with 1 Axes>"
      ]
     },
     "metadata": {},
     "output_type": "display_data"
    }
   ],
   "source": [
    "cust_loc_gen.plot(kind=\"bar\", stacked=True, figsize=(4,3))\n",
    "\n",
    "plt.xlabel('Location')\n",
    "plt.ylabel('Count')\n",
    "plt.title('Customer Distribution by Location and Gender')\n",
    "\n",
    "plt.xticks(rotation=45)\n",
    "plt.show()"
   ]
  },
  {
   "cell_type": "markdown",
   "id": "f08e0de2-2c6b-4f10-91d7-57b378b3c03c",
   "metadata": {
    "jp-MarkdownHeadingCollapsed": true
   },
   "source": [
    "## Exploring Credit Score Table"
   ]
  },
  {
   "cell_type": "code",
   "execution_count": 6,
   "id": "1e45f808-3465-4ede-90ce-3bde86b3190d",
   "metadata": {},
   "outputs": [
    {
     "data": {
      "text/html": [
       "<div>\n",
       "<style scoped>\n",
       "    .dataframe tbody tr th:only-of-type {\n",
       "        vertical-align: middle;\n",
       "    }\n",
       "\n",
       "    .dataframe tbody tr th {\n",
       "        vertical-align: top;\n",
       "    }\n",
       "\n",
       "    .dataframe thead th {\n",
       "        text-align: right;\n",
       "    }\n",
       "</style>\n",
       "<table border=\"1\" class=\"dataframe\">\n",
       "  <thead>\n",
       "    <tr style=\"text-align: right;\">\n",
       "      <th></th>\n",
       "      <th>cust_id</th>\n",
       "      <th>credit_score</th>\n",
       "      <th>credit_utilisation</th>\n",
       "      <th>outstanding_debt</th>\n",
       "      <th>credit_inquiries_last_6_months</th>\n",
       "      <th>credit_limit</th>\n",
       "    </tr>\n",
       "  </thead>\n",
       "  <tbody>\n",
       "    <tr>\n",
       "      <th>0</th>\n",
       "      <td>1</td>\n",
       "      <td>749</td>\n",
       "      <td>0.585171</td>\n",
       "      <td>19571.0</td>\n",
       "      <td>0.0</td>\n",
       "      <td>40000.0</td>\n",
       "    </tr>\n",
       "    <tr>\n",
       "      <th>1</th>\n",
       "      <td>2</td>\n",
       "      <td>587</td>\n",
       "      <td>0.107928</td>\n",
       "      <td>161644.0</td>\n",
       "      <td>2.0</td>\n",
       "      <td>1250.0</td>\n",
       "    </tr>\n",
       "    <tr>\n",
       "      <th>2</th>\n",
       "      <td>3</td>\n",
       "      <td>544</td>\n",
       "      <td>0.854807</td>\n",
       "      <td>513.0</td>\n",
       "      <td>4.0</td>\n",
       "      <td>1000.0</td>\n",
       "    </tr>\n",
       "    <tr>\n",
       "      <th>3</th>\n",
       "      <td>4</td>\n",
       "      <td>504</td>\n",
       "      <td>0.336938</td>\n",
       "      <td>224.0</td>\n",
       "      <td>2.0</td>\n",
       "      <td>1000.0</td>\n",
       "    </tr>\n",
       "    <tr>\n",
       "      <th>4</th>\n",
       "      <td>5</td>\n",
       "      <td>708</td>\n",
       "      <td>0.586151</td>\n",
       "      <td>18090.0</td>\n",
       "      <td>2.0</td>\n",
       "      <td>40000.0</td>\n",
       "    </tr>\n",
       "  </tbody>\n",
       "</table>\n",
       "</div>"
      ],
      "text/plain": [
       "   cust_id  credit_score  credit_utilisation  outstanding_debt  \\\n",
       "0        1           749            0.585171           19571.0   \n",
       "1        2           587            0.107928          161644.0   \n",
       "2        3           544            0.854807             513.0   \n",
       "3        4           504            0.336938             224.0   \n",
       "4        5           708            0.586151           18090.0   \n",
       "\n",
       "   credit_inquiries_last_6_months  credit_limit  \n",
       "0                             0.0       40000.0  \n",
       "1                             2.0        1250.0  \n",
       "2                             4.0        1000.0  \n",
       "3                             2.0        1000.0  \n",
       "4                             2.0       40000.0  "
      ]
     },
     "execution_count": 6,
     "metadata": {},
     "output_type": "execute_result"
    }
   ],
   "source": [
    "df_cs.head()"
   ]
  },
  {
   "cell_type": "code",
   "execution_count": 7,
   "id": "473b2d88-1c4c-4044-abb6-b4e6dd37008f",
   "metadata": {},
   "outputs": [
    {
     "data": {
      "text/plain": [
       "(1004, 6)"
      ]
     },
     "execution_count": 7,
     "metadata": {},
     "output_type": "execute_result"
    }
   ],
   "source": [
    "df_cs.shape"
   ]
  },
  {
   "cell_type": "code",
   "execution_count": 8,
   "id": "c05517c3-52c1-434f-8376-d47202cb301c",
   "metadata": {},
   "outputs": [
    {
     "data": {
      "text/plain": [
       "(1000, 8)"
      ]
     },
     "execution_count": 8,
     "metadata": {},
     "output_type": "execute_result"
    }
   ],
   "source": [
    "df_cust.shape"
   ]
  },
  {
   "cell_type": "code",
   "execution_count": 10,
   "id": "f9b53a13-a3fc-4e06-ab4e-6859df8d8f6a",
   "metadata": {},
   "outputs": [
    {
     "data": {
      "text/plain": [
       "1000"
      ]
     },
     "execution_count": 10,
     "metadata": {},
     "output_type": "execute_result"
    }
   ],
   "source": [
    "df_cs['cust_id'].nunique()"
   ]
  },
  {
   "cell_type": "code",
   "execution_count": 12,
   "id": "904ef159-a9ce-44a9-8d9b-5596f614a3f2",
   "metadata": {},
   "outputs": [
    {
     "data": {
      "text/html": [
       "<div>\n",
       "<style scoped>\n",
       "    .dataframe tbody tr th:only-of-type {\n",
       "        vertical-align: middle;\n",
       "    }\n",
       "\n",
       "    .dataframe tbody tr th {\n",
       "        vertical-align: top;\n",
       "    }\n",
       "\n",
       "    .dataframe thead th {\n",
       "        text-align: right;\n",
       "    }\n",
       "</style>\n",
       "<table border=\"1\" class=\"dataframe\">\n",
       "  <thead>\n",
       "    <tr style=\"text-align: right;\">\n",
       "      <th></th>\n",
       "      <th>cust_id</th>\n",
       "      <th>credit_score</th>\n",
       "      <th>credit_utilisation</th>\n",
       "      <th>outstanding_debt</th>\n",
       "      <th>credit_inquiries_last_6_months</th>\n",
       "      <th>credit_limit</th>\n",
       "    </tr>\n",
       "  </thead>\n",
       "  <tbody>\n",
       "    <tr>\n",
       "      <th>516</th>\n",
       "      <td>517</td>\n",
       "      <td>308</td>\n",
       "      <td>NaN</td>\n",
       "      <td>NaN</td>\n",
       "      <td>NaN</td>\n",
       "      <td>NaN</td>\n",
       "    </tr>\n",
       "    <tr>\n",
       "      <th>517</th>\n",
       "      <td>517</td>\n",
       "      <td>308</td>\n",
       "      <td>0.113860</td>\n",
       "      <td>33.0</td>\n",
       "      <td>3.0</td>\n",
       "      <td>500.0</td>\n",
       "    </tr>\n",
       "    <tr>\n",
       "      <th>569</th>\n",
       "      <td>569</td>\n",
       "      <td>344</td>\n",
       "      <td>NaN</td>\n",
       "      <td>NaN</td>\n",
       "      <td>NaN</td>\n",
       "      <td>NaN</td>\n",
       "    </tr>\n",
       "    <tr>\n",
       "      <th>570</th>\n",
       "      <td>569</td>\n",
       "      <td>344</td>\n",
       "      <td>0.112599</td>\n",
       "      <td>37.0</td>\n",
       "      <td>0.0</td>\n",
       "      <td>500.0</td>\n",
       "    </tr>\n",
       "    <tr>\n",
       "      <th>607</th>\n",
       "      <td>606</td>\n",
       "      <td>734</td>\n",
       "      <td>NaN</td>\n",
       "      <td>NaN</td>\n",
       "      <td>NaN</td>\n",
       "      <td>NaN</td>\n",
       "    </tr>\n",
       "    <tr>\n",
       "      <th>608</th>\n",
       "      <td>606</td>\n",
       "      <td>734</td>\n",
       "      <td>0.193418</td>\n",
       "      <td>4392.0</td>\n",
       "      <td>1.0</td>\n",
       "      <td>40000.0</td>\n",
       "    </tr>\n",
       "    <tr>\n",
       "      <th>664</th>\n",
       "      <td>662</td>\n",
       "      <td>442</td>\n",
       "      <td>NaN</td>\n",
       "      <td>NaN</td>\n",
       "      <td>NaN</td>\n",
       "      <td>NaN</td>\n",
       "    </tr>\n",
       "    <tr>\n",
       "      <th>665</th>\n",
       "      <td>662</td>\n",
       "      <td>442</td>\n",
       "      <td>0.856039</td>\n",
       "      <td>266.0</td>\n",
       "      <td>2.0</td>\n",
       "      <td>500.0</td>\n",
       "    </tr>\n",
       "  </tbody>\n",
       "</table>\n",
       "</div>"
      ],
      "text/plain": [
       "     cust_id  credit_score  credit_utilisation  outstanding_debt  \\\n",
       "516      517           308                 NaN               NaN   \n",
       "517      517           308            0.113860              33.0   \n",
       "569      569           344                 NaN               NaN   \n",
       "570      569           344            0.112599              37.0   \n",
       "607      606           734                 NaN               NaN   \n",
       "608      606           734            0.193418            4392.0   \n",
       "664      662           442                 NaN               NaN   \n",
       "665      662           442            0.856039             266.0   \n",
       "\n",
       "     credit_inquiries_last_6_months  credit_limit  \n",
       "516                             NaN           NaN  \n",
       "517                             3.0         500.0  \n",
       "569                             NaN           NaN  \n",
       "570                             0.0         500.0  \n",
       "607                             NaN           NaN  \n",
       "608                             1.0       40000.0  \n",
       "664                             NaN           NaN  \n",
       "665                             2.0         500.0  "
      ]
     },
     "execution_count": 12,
     "metadata": {},
     "output_type": "execute_result"
    }
   ],
   "source": [
    "df_cs[df_cs['cust_id'].duplicated(keep=False)]"
   ]
  },
  {
   "cell_type": "code",
   "execution_count": 14,
   "id": "9b18eecf-8c01-4df5-a7e8-3ed1f165601e",
   "metadata": {},
   "outputs": [
    {
     "data": {
      "text/plain": [
       "(1000, 6)"
      ]
     },
     "execution_count": 14,
     "metadata": {},
     "output_type": "execute_result"
    }
   ],
   "source": [
    "df_cs_clean=df_cs.drop_duplicates(subset=\"cust_id\", keep=\"last\")\n",
    "df_cs_clean.shape"
   ]
  },
  {
   "cell_type": "code",
   "execution_count": 15,
   "id": "f64c8d90-299e-4d9a-b990-d7cead8f6776",
   "metadata": {},
   "outputs": [
    {
     "data": {
      "text/plain": [
       "cust_id                            0\n",
       "credit_score                       0\n",
       "credit_utilisation                 0\n",
       "outstanding_debt                   0\n",
       "credit_inquiries_last_6_months     0\n",
       "credit_limit                      65\n",
       "dtype: int64"
      ]
     },
     "execution_count": 15,
     "metadata": {},
     "output_type": "execute_result"
    }
   ],
   "source": [
    "df_cs_clean.isnull().sum()"
   ]
  },
  {
   "cell_type": "code",
   "execution_count": 16,
   "id": "0e996da4-de07-4745-8f5d-bcd68b8e4423",
   "metadata": {},
   "outputs": [
    {
     "data": {
      "text/html": [
       "<div>\n",
       "<style scoped>\n",
       "    .dataframe tbody tr th:only-of-type {\n",
       "        vertical-align: middle;\n",
       "    }\n",
       "\n",
       "    .dataframe tbody tr th {\n",
       "        vertical-align: top;\n",
       "    }\n",
       "\n",
       "    .dataframe thead th {\n",
       "        text-align: right;\n",
       "    }\n",
       "</style>\n",
       "<table border=\"1\" class=\"dataframe\">\n",
       "  <thead>\n",
       "    <tr style=\"text-align: right;\">\n",
       "      <th></th>\n",
       "      <th>cust_id</th>\n",
       "      <th>credit_score</th>\n",
       "      <th>credit_utilisation</th>\n",
       "      <th>outstanding_debt</th>\n",
       "      <th>credit_inquiries_last_6_months</th>\n",
       "      <th>credit_limit</th>\n",
       "    </tr>\n",
       "  </thead>\n",
       "  <tbody>\n",
       "    <tr>\n",
       "      <th>10</th>\n",
       "      <td>11</td>\n",
       "      <td>679</td>\n",
       "      <td>0.557450</td>\n",
       "      <td>9187.0</td>\n",
       "      <td>2.0</td>\n",
       "      <td>NaN</td>\n",
       "    </tr>\n",
       "    <tr>\n",
       "      <th>35</th>\n",
       "      <td>36</td>\n",
       "      <td>790</td>\n",
       "      <td>0.112535</td>\n",
       "      <td>4261.0</td>\n",
       "      <td>1.0</td>\n",
       "      <td>NaN</td>\n",
       "    </tr>\n",
       "    <tr>\n",
       "      <th>37</th>\n",
       "      <td>38</td>\n",
       "      <td>514</td>\n",
       "      <td>0.296971</td>\n",
       "      <td>238.0</td>\n",
       "      <td>2.0</td>\n",
       "      <td>NaN</td>\n",
       "    </tr>\n",
       "    <tr>\n",
       "      <th>45</th>\n",
       "      <td>46</td>\n",
       "      <td>761</td>\n",
       "      <td>0.596041</td>\n",
       "      <td>24234.0</td>\n",
       "      <td>2.0</td>\n",
       "      <td>NaN</td>\n",
       "    </tr>\n",
       "    <tr>\n",
       "      <th>64</th>\n",
       "      <td>65</td>\n",
       "      <td>734</td>\n",
       "      <td>0.473715</td>\n",
       "      <td>13631.0</td>\n",
       "      <td>0.0</td>\n",
       "      <td>NaN</td>\n",
       "    </tr>\n",
       "    <tr>\n",
       "      <th>...</th>\n",
       "      <td>...</td>\n",
       "      <td>...</td>\n",
       "      <td>...</td>\n",
       "      <td>...</td>\n",
       "      <td>...</td>\n",
       "      <td>...</td>\n",
       "    </tr>\n",
       "    <tr>\n",
       "      <th>912</th>\n",
       "      <td>909</td>\n",
       "      <td>479</td>\n",
       "      <td>0.487555</td>\n",
       "      <td>320.0</td>\n",
       "      <td>3.0</td>\n",
       "      <td>NaN</td>\n",
       "    </tr>\n",
       "    <tr>\n",
       "      <th>931</th>\n",
       "      <td>928</td>\n",
       "      <td>311</td>\n",
       "      <td>0.832244</td>\n",
       "      <td>316.0</td>\n",
       "      <td>2.0</td>\n",
       "      <td>NaN</td>\n",
       "    </tr>\n",
       "    <tr>\n",
       "      <th>948</th>\n",
       "      <td>945</td>\n",
       "      <td>526</td>\n",
       "      <td>0.272734</td>\n",
       "      <td>227.0</td>\n",
       "      <td>1.0</td>\n",
       "      <td>NaN</td>\n",
       "    </tr>\n",
       "    <tr>\n",
       "      <th>954</th>\n",
       "      <td>951</td>\n",
       "      <td>513</td>\n",
       "      <td>0.175914</td>\n",
       "      <td>131.0</td>\n",
       "      <td>3.0</td>\n",
       "      <td>NaN</td>\n",
       "    </tr>\n",
       "    <tr>\n",
       "      <th>957</th>\n",
       "      <td>954</td>\n",
       "      <td>783</td>\n",
       "      <td>0.867421</td>\n",
       "      <td>46451.0</td>\n",
       "      <td>0.0</td>\n",
       "      <td>NaN</td>\n",
       "    </tr>\n",
       "  </tbody>\n",
       "</table>\n",
       "<p>65 rows × 6 columns</p>\n",
       "</div>"
      ],
      "text/plain": [
       "     cust_id  credit_score  credit_utilisation  outstanding_debt  \\\n",
       "10        11           679            0.557450            9187.0   \n",
       "35        36           790            0.112535            4261.0   \n",
       "37        38           514            0.296971             238.0   \n",
       "45        46           761            0.596041           24234.0   \n",
       "64        65           734            0.473715           13631.0   \n",
       "..       ...           ...                 ...               ...   \n",
       "912      909           479            0.487555             320.0   \n",
       "931      928           311            0.832244             316.0   \n",
       "948      945           526            0.272734             227.0   \n",
       "954      951           513            0.175914             131.0   \n",
       "957      954           783            0.867421           46451.0   \n",
       "\n",
       "     credit_inquiries_last_6_months  credit_limit  \n",
       "10                              2.0           NaN  \n",
       "35                              1.0           NaN  \n",
       "37                              2.0           NaN  \n",
       "45                              2.0           NaN  \n",
       "64                              0.0           NaN  \n",
       "..                              ...           ...  \n",
       "912                             3.0           NaN  \n",
       "931                             2.0           NaN  \n",
       "948                             1.0           NaN  \n",
       "954                             3.0           NaN  \n",
       "957                             0.0           NaN  \n",
       "\n",
       "[65 rows x 6 columns]"
      ]
     },
     "execution_count": 16,
     "metadata": {},
     "output_type": "execute_result"
    }
   ],
   "source": [
    "df_cs_clean[df_cs_clean.credit_limit.isnull()]"
   ]
  },
  {
   "cell_type": "code",
   "execution_count": 17,
   "id": "fe59daa8-c3c6-4c97-b695-a026889a2287",
   "metadata": {},
   "outputs": [
    {
     "data": {
      "text/plain": [
       "credit_limit\n",
       "500.0      229\n",
       "60000.0    186\n",
       "40000.0    137\n",
       "1500.0     100\n",
       "1000.0      90\n",
       "750.0       76\n",
       "1250.0      75\n",
       "20000.0     42\n",
       "Name: count, dtype: int64"
      ]
     },
     "execution_count": 17,
     "metadata": {},
     "output_type": "execute_result"
    }
   ],
   "source": [
    "df_cs_clean['credit_limit'].value_counts()"
   ]
  },
  {
   "cell_type": "code",
   "execution_count": 19,
   "id": "c8b58471-7b02-48e7-8de3-3185649c5384",
   "metadata": {},
   "outputs": [
    {
     "data": {
      "image/png": "[encoded data removed]",
      "text/plain": [
       "<Figure size 2000x500 with 1 Axes>"
      ]
     },
     "metadata": {},
     "output_type": "display_data"
    }
   ],
   "source": [
    "# Looking at scatter plot for credit score vs credit_limit again (after handling oultiers)\n",
    "# Create a scatter plot\n",
    "plt.figure(figsize=(20, 5))\n",
    "plt.scatter(df_cs_clean['credit_limit'], df_cs_clean['credit_score'], c='blue', marker='o', label='Data Points')\n",
    "\n",
    "# Customize the plot\n",
    "plt.title('Credit Score vs. Credit Limit')\n",
    "plt.xlabel('Credit Limit')\n",
    "plt.ylabel('Credit Score')\n",
    "\n",
    "# Adjust the y-axis bin interval to 1000\n",
    "plt.xticks(range(0, 90001, 5000))\n",
    "plt.grid(True)\n",
    "\n",
    "# Show the plot\n",
    "plt.legend()\n",
    "plt.show()"
   ]
  },
  {
   "cell_type": "code",
   "execution_count": 21,
   "id": "cdb7783a-3344-4175-8035-8cddf78fc65b",
   "metadata": {},
   "outputs": [],
   "source": [
    "# Define bin ranges\n",
    "bin_ranges = [300, 450, 500, 550, 600, 650, 700, 750, 800]\n",
    "\n",
    "# Create labels for the bins\n",
    "bin_labels = [f'{start}-{end-1}' for start, end in zip(bin_ranges, bin_ranges[1:])]\n",
    "\n",
    "# Use pd.cut to assign data to bins\n",
    "df_cs_clean['credit_score_range'] = pd.cut(df_cs_clean['credit_score'], bins=bin_ranges, labels=bin_labels, include_lowest=True, right=False)"
   ]
  },
  {
   "cell_type": "code",
   "execution_count": 22,
   "id": "77f5e557-1a94-470c-af11-6396758c6a50",
   "metadata": {},
   "outputs": [
    {
     "data": {
      "text/html": [
       "<div>\n",
       "<style scoped>\n",
       "    .dataframe tbody tr th:only-of-type {\n",
       "        vertical-align: middle;\n",
       "    }\n",
       "\n",
       "    .dataframe tbody tr th {\n",
       "        vertical-align: top;\n",
       "    }\n",
       "\n",
       "    .dataframe thead th {\n",
       "        text-align: right;\n",
       "    }\n",
       "</style>\n",
       "<table border=\"1\" class=\"dataframe\">\n",
       "  <thead>\n",
       "    <tr style=\"text-align: right;\">\n",
       "      <th></th>\n",
       "      <th>cust_id</th>\n",
       "      <th>credit_score</th>\n",
       "      <th>credit_utilisation</th>\n",
       "      <th>outstanding_debt</th>\n",
       "      <th>credit_inquiries_last_6_months</th>\n",
       "      <th>credit_limit</th>\n",
       "      <th>credit_score_range</th>\n",
       "    </tr>\n",
       "  </thead>\n",
       "  <tbody>\n",
       "    <tr>\n",
       "      <th>0</th>\n",
       "      <td>1</td>\n",
       "      <td>749</td>\n",
       "      <td>0.585171</td>\n",
       "      <td>19571.0</td>\n",
       "      <td>0.0</td>\n",
       "      <td>40000.0</td>\n",
       "      <td>700-749</td>\n",
       "    </tr>\n",
       "    <tr>\n",
       "      <th>1</th>\n",
       "      <td>2</td>\n",
       "      <td>587</td>\n",
       "      <td>0.107928</td>\n",
       "      <td>161644.0</td>\n",
       "      <td>2.0</td>\n",
       "      <td>1250.0</td>\n",
       "      <td>550-599</td>\n",
       "    </tr>\n",
       "    <tr>\n",
       "      <th>2</th>\n",
       "      <td>3</td>\n",
       "      <td>544</td>\n",
       "      <td>0.854807</td>\n",
       "      <td>513.0</td>\n",
       "      <td>4.0</td>\n",
       "      <td>1000.0</td>\n",
       "      <td>500-549</td>\n",
       "    </tr>\n",
       "    <tr>\n",
       "      <th>3</th>\n",
       "      <td>4</td>\n",
       "      <td>504</td>\n",
       "      <td>0.336938</td>\n",
       "      <td>224.0</td>\n",
       "      <td>2.0</td>\n",
       "      <td>1000.0</td>\n",
       "      <td>500-549</td>\n",
       "    </tr>\n",
       "    <tr>\n",
       "      <th>4</th>\n",
       "      <td>5</td>\n",
       "      <td>708</td>\n",
       "      <td>0.586151</td>\n",
       "      <td>18090.0</td>\n",
       "      <td>2.0</td>\n",
       "      <td>40000.0</td>\n",
       "      <td>700-749</td>\n",
       "    </tr>\n",
       "  </tbody>\n",
       "</table>\n",
       "</div>"
      ],
      "text/plain": [
       "   cust_id  credit_score  credit_utilisation  outstanding_debt  \\\n",
       "0        1           749            0.585171           19571.0   \n",
       "1        2           587            0.107928          161644.0   \n",
       "2        3           544            0.854807             513.0   \n",
       "3        4           504            0.336938             224.0   \n",
       "4        5           708            0.586151           18090.0   \n",
       "\n",
       "   credit_inquiries_last_6_months  credit_limit credit_score_range  \n",
       "0                             0.0       40000.0            700-749  \n",
       "1                             2.0        1250.0            550-599  \n",
       "2                             4.0        1000.0            500-549  \n",
       "3                             2.0        1000.0            500-549  \n",
       "4                             2.0       40000.0            700-749  "
      ]
     },
     "execution_count": 22,
     "metadata": {},
     "output_type": "execute_result"
    }
   ],
   "source": [
    "df_cs_clean.head()"
   ]
  },
  {
   "cell_type": "code",
   "execution_count": 23,
   "id": "9e35b954-8222-4e43-99f2-c4851e57fb22",
   "metadata": {},
   "outputs": [
    {
     "data": {
      "text/html": [
       "<div>\n",
       "<style scoped>\n",
       "    .dataframe tbody tr th:only-of-type {\n",
       "        vertical-align: middle;\n",
       "    }\n",
       "\n",
       "    .dataframe tbody tr th {\n",
       "        vertical-align: top;\n",
       "    }\n",
       "\n",
       "    .dataframe thead th {\n",
       "        text-align: right;\n",
       "    }\n",
       "</style>\n",
       "<table border=\"1\" class=\"dataframe\">\n",
       "  <thead>\n",
       "    <tr style=\"text-align: right;\">\n",
       "      <th></th>\n",
       "      <th>credit_score</th>\n",
       "      <th>credit_score_range</th>\n",
       "      <th>credit_limit</th>\n",
       "    </tr>\n",
       "  </thead>\n",
       "  <tbody>\n",
       "    <tr>\n",
       "      <th>0</th>\n",
       "      <td>749</td>\n",
       "      <td>700-749</td>\n",
       "      <td>40000.0</td>\n",
       "    </tr>\n",
       "    <tr>\n",
       "      <th>1</th>\n",
       "      <td>587</td>\n",
       "      <td>550-599</td>\n",
       "      <td>1250.0</td>\n",
       "    </tr>\n",
       "    <tr>\n",
       "      <th>2</th>\n",
       "      <td>544</td>\n",
       "      <td>500-549</td>\n",
       "      <td>1000.0</td>\n",
       "    </tr>\n",
       "  </tbody>\n",
       "</table>\n",
       "</div>"
      ],
      "text/plain": [
       "   credit_score credit_score_range  credit_limit\n",
       "0           749            700-749       40000.0\n",
       "1           587            550-599        1250.0\n",
       "2           544            500-549        1000.0"
      ]
     },
     "execution_count": 23,
     "metadata": {},
     "output_type": "execute_result"
    }
   ],
   "source": [
    "df_cs_clean[['credit_score','credit_score_range', 'credit_limit']].head(3)"
   ]
  },
  {
   "cell_type": "code",
   "execution_count": 24,
   "id": "9263a453-e059-4c49-887e-5a46800ebaf8",
   "metadata": {},
   "outputs": [
    {
     "data": {
      "text/html": [
       "<div>\n",
       "<style scoped>\n",
       "    .dataframe tbody tr th:only-of-type {\n",
       "        vertical-align: middle;\n",
       "    }\n",
       "\n",
       "    .dataframe tbody tr th {\n",
       "        vertical-align: top;\n",
       "    }\n",
       "\n",
       "    .dataframe thead th {\n",
       "        text-align: right;\n",
       "    }\n",
       "</style>\n",
       "<table border=\"1\" class=\"dataframe\">\n",
       "  <thead>\n",
       "    <tr style=\"text-align: right;\">\n",
       "      <th></th>\n",
       "      <th>credit_score_range</th>\n",
       "      <th>credit_limit</th>\n",
       "    </tr>\n",
       "  </thead>\n",
       "  <tbody>\n",
       "    <tr>\n",
       "      <th>0</th>\n",
       "      <td>300-449</td>\n",
       "      <td>500.0</td>\n",
       "    </tr>\n",
       "    <tr>\n",
       "      <th>1</th>\n",
       "      <td>450-499</td>\n",
       "      <td>750.0</td>\n",
       "    </tr>\n",
       "    <tr>\n",
       "      <th>2</th>\n",
       "      <td>500-549</td>\n",
       "      <td>1000.0</td>\n",
       "    </tr>\n",
       "    <tr>\n",
       "      <th>3</th>\n",
       "      <td>550-599</td>\n",
       "      <td>1250.0</td>\n",
       "    </tr>\n",
       "    <tr>\n",
       "      <th>4</th>\n",
       "      <td>600-649</td>\n",
       "      <td>1500.0</td>\n",
       "    </tr>\n",
       "    <tr>\n",
       "      <th>5</th>\n",
       "      <td>650-699</td>\n",
       "      <td>20000.0</td>\n",
       "    </tr>\n",
       "    <tr>\n",
       "      <th>6</th>\n",
       "      <td>700-749</td>\n",
       "      <td>40000.0</td>\n",
       "    </tr>\n",
       "    <tr>\n",
       "      <th>7</th>\n",
       "      <td>750-799</td>\n",
       "      <td>60000.0</td>\n",
       "    </tr>\n",
       "  </tbody>\n",
       "</table>\n",
       "</div>"
      ],
      "text/plain": [
       "  credit_score_range  credit_limit\n",
       "0            300-449         500.0\n",
       "1            450-499         750.0\n",
       "2            500-549        1000.0\n",
       "3            550-599        1250.0\n",
       "4            600-649        1500.0\n",
       "5            650-699       20000.0\n",
       "6            700-749       40000.0\n",
       "7            750-799       60000.0"
      ]
     },
     "execution_count": 24,
     "metadata": {},
     "output_type": "execute_result"
    }
   ],
   "source": [
    "mode_df = df_cs_clean.groupby('credit_score_range')['credit_limit'].agg(lambda x: x.mode().iloc[0]).reset_index()\n",
    "mode_df"
   ]
  },
  {
   "cell_type": "code",
   "execution_count": 25,
   "id": "a5583fc7-28ac-49b7-b7d4-46dcbdfd4319",
   "metadata": {},
   "outputs": [
    {
     "data": {
      "text/html": [
       "<div>\n",
       "<style scoped>\n",
       "    .dataframe tbody tr th:only-of-type {\n",
       "        vertical-align: middle;\n",
       "    }\n",
       "\n",
       "    .dataframe tbody tr th {\n",
       "        vertical-align: top;\n",
       "    }\n",
       "\n",
       "    .dataframe thead th {\n",
       "        text-align: right;\n",
       "    }\n",
       "</style>\n",
       "<table border=\"1\" class=\"dataframe\">\n",
       "  <thead>\n",
       "    <tr style=\"text-align: right;\">\n",
       "      <th></th>\n",
       "      <th>cust_id</th>\n",
       "      <th>credit_score</th>\n",
       "      <th>credit_utilisation</th>\n",
       "      <th>outstanding_debt</th>\n",
       "      <th>credit_inquiries_last_6_months</th>\n",
       "      <th>credit_limit</th>\n",
       "      <th>credit_score_range</th>\n",
       "    </tr>\n",
       "  </thead>\n",
       "  <tbody>\n",
       "    <tr>\n",
       "      <th>64</th>\n",
       "      <td>65</td>\n",
       "      <td>734</td>\n",
       "      <td>0.473715</td>\n",
       "      <td>13631.0</td>\n",
       "      <td>0.0</td>\n",
       "      <td>NaN</td>\n",
       "      <td>700-749</td>\n",
       "    </tr>\n",
       "    <tr>\n",
       "      <th>902</th>\n",
       "      <td>899</td>\n",
       "      <td>775</td>\n",
       "      <td>0.487290</td>\n",
       "      <td>21548.0</td>\n",
       "      <td>0.0</td>\n",
       "      <td>NaN</td>\n",
       "      <td>750-799</td>\n",
       "    </tr>\n",
       "    <tr>\n",
       "      <th>809</th>\n",
       "      <td>806</td>\n",
       "      <td>617</td>\n",
       "      <td>0.421308</td>\n",
       "      <td>416.0</td>\n",
       "      <td>1.0</td>\n",
       "      <td>NaN</td>\n",
       "      <td>600-649</td>\n",
       "    </tr>\n",
       "  </tbody>\n",
       "</table>\n",
       "</div>"
      ],
      "text/plain": [
       "     cust_id  credit_score  credit_utilisation  outstanding_debt  \\\n",
       "64        65           734            0.473715           13631.0   \n",
       "902      899           775            0.487290           21548.0   \n",
       "809      806           617            0.421308             416.0   \n",
       "\n",
       "     credit_inquiries_last_6_months  credit_limit credit_score_range  \n",
       "64                              0.0           NaN            700-749  \n",
       "902                             0.0           NaN            750-799  \n",
       "809                             1.0           NaN            600-649  "
      ]
     },
     "execution_count": 25,
     "metadata": {},
     "output_type": "execute_result"
    }
   ],
   "source": [
    "df_cs_clean[df_cs_clean.credit_limit.isnull()].sample(3)"
   ]
  },
  {
   "cell_type": "code",
   "execution_count": 26,
   "id": "4a2cce88-e3f4-4a1c-afb9-c209681c65f0",
   "metadata": {},
   "outputs": [
    {
     "data": {
      "text/html": [
       "<div>\n",
       "<style scoped>\n",
       "    .dataframe tbody tr th:only-of-type {\n",
       "        vertical-align: middle;\n",
       "    }\n",
       "\n",
       "    .dataframe tbody tr th {\n",
       "        vertical-align: top;\n",
       "    }\n",
       "\n",
       "    .dataframe thead th {\n",
       "        text-align: right;\n",
       "    }\n",
       "</style>\n",
       "<table border=\"1\" class=\"dataframe\">\n",
       "  <thead>\n",
       "    <tr style=\"text-align: right;\">\n",
       "      <th></th>\n",
       "      <th>cust_id</th>\n",
       "      <th>credit_score</th>\n",
       "      <th>credit_utilisation</th>\n",
       "      <th>outstanding_debt</th>\n",
       "      <th>credit_inquiries_last_6_months</th>\n",
       "      <th>credit_limit</th>\n",
       "      <th>credit_score_range</th>\n",
       "      <th>credit_limit_mode</th>\n",
       "    </tr>\n",
       "  </thead>\n",
       "  <tbody>\n",
       "    <tr>\n",
       "      <th>265</th>\n",
       "      <td>266</td>\n",
       "      <td>683</td>\n",
       "      <td>0.218856</td>\n",
       "      <td>3826.0</td>\n",
       "      <td>1.0</td>\n",
       "      <td>20000.0</td>\n",
       "      <td>650-699</td>\n",
       "      <td>20000.0</td>\n",
       "    </tr>\n",
       "    <tr>\n",
       "      <th>449</th>\n",
       "      <td>450</td>\n",
       "      <td>418</td>\n",
       "      <td>0.271416</td>\n",
       "      <td>69.0</td>\n",
       "      <td>2.0</td>\n",
       "      <td>500.0</td>\n",
       "      <td>300-449</td>\n",
       "      <td>500.0</td>\n",
       "    </tr>\n",
       "    <tr>\n",
       "      <th>433</th>\n",
       "      <td>434</td>\n",
       "      <td>661</td>\n",
       "      <td>0.543835</td>\n",
       "      <td>7439.0</td>\n",
       "      <td>1.0</td>\n",
       "      <td>20000.0</td>\n",
       "      <td>650-699</td>\n",
       "      <td>20000.0</td>\n",
       "    </tr>\n",
       "  </tbody>\n",
       "</table>\n",
       "</div>"
      ],
      "text/plain": [
       "     cust_id  credit_score  credit_utilisation  outstanding_debt  \\\n",
       "265      266           683            0.218856            3826.0   \n",
       "449      450           418            0.271416              69.0   \n",
       "433      434           661            0.543835            7439.0   \n",
       "\n",
       "     credit_inquiries_last_6_months  credit_limit credit_score_range  \\\n",
       "265                             1.0       20000.0            650-699   \n",
       "449                             2.0         500.0            300-449   \n",
       "433                             1.0       20000.0            650-699   \n",
       "\n",
       "     credit_limit_mode  \n",
       "265            20000.0  \n",
       "449              500.0  \n",
       "433            20000.0  "
      ]
     },
     "execution_count": 26,
     "metadata": {},
     "output_type": "execute_result"
    }
   ],
   "source": [
    "df_cs_clean_2 = pd.merge(df_cs_clean, mode_df, on='credit_score_range', suffixes=('', '_mode'))\n",
    "df_cs_clean_2.sample(3)"
   ]
  },
  {
   "cell_type": "code",
   "execution_count": 27,
   "id": "6ae91847-93a8-4eac-8674-c5d8c3290b0f",
   "metadata": {},
   "outputs": [
    {
     "data": {
      "text/html": [
       "<div>\n",
       "<style scoped>\n",
       "    .dataframe tbody tr th:only-of-type {\n",
       "        vertical-align: middle;\n",
       "    }\n",
       "\n",
       "    .dataframe tbody tr th {\n",
       "        vertical-align: top;\n",
       "    }\n",
       "\n",
       "    .dataframe thead th {\n",
       "        text-align: right;\n",
       "    }\n",
       "</style>\n",
       "<table border=\"1\" class=\"dataframe\">\n",
       "  <thead>\n",
       "    <tr style=\"text-align: right;\">\n",
       "      <th></th>\n",
       "      <th>cust_id</th>\n",
       "      <th>credit_score</th>\n",
       "      <th>credit_utilisation</th>\n",
       "      <th>outstanding_debt</th>\n",
       "      <th>credit_inquiries_last_6_months</th>\n",
       "      <th>credit_limit</th>\n",
       "      <th>credit_score_range</th>\n",
       "      <th>credit_limit_mode</th>\n",
       "    </tr>\n",
       "  </thead>\n",
       "  <tbody>\n",
       "    <tr>\n",
       "      <th>107</th>\n",
       "      <td>108</td>\n",
       "      <td>500</td>\n",
       "      <td>0.776230</td>\n",
       "      <td>448.0</td>\n",
       "      <td>2.0</td>\n",
       "      <td>NaN</td>\n",
       "      <td>500-549</td>\n",
       "      <td>1000.0</td>\n",
       "    </tr>\n",
       "    <tr>\n",
       "      <th>768</th>\n",
       "      <td>769</td>\n",
       "      <td>563</td>\n",
       "      <td>0.865592</td>\n",
       "      <td>898.0</td>\n",
       "      <td>3.0</td>\n",
       "      <td>NaN</td>\n",
       "      <td>550-599</td>\n",
       "      <td>1250.0</td>\n",
       "    </tr>\n",
       "    <tr>\n",
       "      <th>278</th>\n",
       "      <td>279</td>\n",
       "      <td>741</td>\n",
       "      <td>0.352932</td>\n",
       "      <td>10846.0</td>\n",
       "      <td>1.0</td>\n",
       "      <td>NaN</td>\n",
       "      <td>700-749</td>\n",
       "      <td>40000.0</td>\n",
       "    </tr>\n",
       "  </tbody>\n",
       "</table>\n",
       "</div>"
      ],
      "text/plain": [
       "     cust_id  credit_score  credit_utilisation  outstanding_debt  \\\n",
       "107      108           500            0.776230             448.0   \n",
       "768      769           563            0.865592             898.0   \n",
       "278      279           741            0.352932           10846.0   \n",
       "\n",
       "     credit_inquiries_last_6_months  credit_limit credit_score_range  \\\n",
       "107                             2.0           NaN            500-549   \n",
       "768                             3.0           NaN            550-599   \n",
       "278                             1.0           NaN            700-749   \n",
       "\n",
       "     credit_limit_mode  \n",
       "107             1000.0  \n",
       "768             1250.0  \n",
       "278            40000.0  "
      ]
     },
     "execution_count": 27,
     "metadata": {},
     "output_type": "execute_result"
    }
   ],
   "source": [
    "df_cs_clean_2[df_cs_clean_2.credit_limit.isnull()].sample(3)"
   ]
  },
  {
   "cell_type": "code",
   "execution_count": 28,
   "id": "c9ab8b6e-9b56-47c0-a68c-abdf8a316abf",
   "metadata": {},
   "outputs": [
    {
     "data": {
      "text/plain": [
       "(1000, 8)"
      ]
     },
     "execution_count": 28,
     "metadata": {},
     "output_type": "execute_result"
    }
   ],
   "source": [
    "df_cs_clean_3 = df_cs_clean_2.copy()\n",
    "df_cs_clean_3['credit_limit'].fillna(df_cs_clean_3['credit_limit_mode'], inplace=True)\n",
    "df_cs_clean_3.shape"
   ]
  },
  {
   "cell_type": "code",
   "execution_count": 29,
   "id": "ed127f04-3451-48e8-98bb-91f1d96fafcf",
   "metadata": {},
   "outputs": [
    {
     "data": {
      "text/plain": [
       "cust_id                           0\n",
       "credit_score                      0\n",
       "credit_utilisation                0\n",
       "outstanding_debt                  0\n",
       "credit_inquiries_last_6_months    0\n",
       "credit_limit                      0\n",
       "credit_score_range                0\n",
       "credit_limit_mode                 0\n",
       "dtype: int64"
      ]
     },
     "execution_count": 29,
     "metadata": {},
     "output_type": "execute_result"
    }
   ],
   "source": [
    "df_cs_clean_3.isnull().sum()"
   ]
  },
  {
   "cell_type": "code",
   "execution_count": 30,
   "id": "f567c42a-20c9-40db-baf0-c922205e067c",
   "metadata": {},
   "outputs": [
    {
     "data": {
      "text/html": [
       "<div>\n",
       "<style scoped>\n",
       "    .dataframe tbody tr th:only-of-type {\n",
       "        vertical-align: middle;\n",
       "    }\n",
       "\n",
       "    .dataframe tbody tr th {\n",
       "        vertical-align: top;\n",
       "    }\n",
       "\n",
       "    .dataframe thead th {\n",
       "        text-align: right;\n",
       "    }\n",
       "</style>\n",
       "<table border=\"1\" class=\"dataframe\">\n",
       "  <thead>\n",
       "    <tr style=\"text-align: right;\">\n",
       "      <th></th>\n",
       "      <th>cust_id</th>\n",
       "      <th>credit_score</th>\n",
       "      <th>credit_utilisation</th>\n",
       "      <th>outstanding_debt</th>\n",
       "      <th>credit_inquiries_last_6_months</th>\n",
       "      <th>credit_limit</th>\n",
       "      <th>credit_limit_mode</th>\n",
       "    </tr>\n",
       "  </thead>\n",
       "  <tbody>\n",
       "    <tr>\n",
       "      <th>count</th>\n",
       "      <td>1000.000000</td>\n",
       "      <td>1000.000000</td>\n",
       "      <td>1000.000000</td>\n",
       "      <td>1000.000000</td>\n",
       "      <td>1000.000000</td>\n",
       "      <td>1000.00000</td>\n",
       "      <td>1000.000000</td>\n",
       "    </tr>\n",
       "    <tr>\n",
       "      <th>mean</th>\n",
       "      <td>500.500000</td>\n",
       "      <td>589.182000</td>\n",
       "      <td>0.498950</td>\n",
       "      <td>9683.597000</td>\n",
       "      <td>1.955000</td>\n",
       "      <td>19733.75000</td>\n",
       "      <td>19912.500000</td>\n",
       "    </tr>\n",
       "    <tr>\n",
       "      <th>std</th>\n",
       "      <td>288.819436</td>\n",
       "      <td>152.284929</td>\n",
       "      <td>0.233139</td>\n",
       "      <td>25255.893671</td>\n",
       "      <td>1.414559</td>\n",
       "      <td>24717.43818</td>\n",
       "      <td>24840.914633</td>\n",
       "    </tr>\n",
       "    <tr>\n",
       "      <th>min</th>\n",
       "      <td>1.000000</td>\n",
       "      <td>300.000000</td>\n",
       "      <td>0.103761</td>\n",
       "      <td>33.000000</td>\n",
       "      <td>0.000000</td>\n",
       "      <td>500.00000</td>\n",
       "      <td>500.000000</td>\n",
       "    </tr>\n",
       "    <tr>\n",
       "      <th>25%</th>\n",
       "      <td>250.750000</td>\n",
       "      <td>460.000000</td>\n",
       "      <td>0.293917</td>\n",
       "      <td>221.000000</td>\n",
       "      <td>1.000000</td>\n",
       "      <td>750.00000</td>\n",
       "      <td>750.000000</td>\n",
       "    </tr>\n",
       "    <tr>\n",
       "      <th>50%</th>\n",
       "      <td>500.500000</td>\n",
       "      <td>601.500000</td>\n",
       "      <td>0.487422</td>\n",
       "      <td>550.000000</td>\n",
       "      <td>2.000000</td>\n",
       "      <td>1500.00000</td>\n",
       "      <td>1500.000000</td>\n",
       "    </tr>\n",
       "    <tr>\n",
       "      <th>75%</th>\n",
       "      <td>750.250000</td>\n",
       "      <td>738.000000</td>\n",
       "      <td>0.697829</td>\n",
       "      <td>11819.500000</td>\n",
       "      <td>3.000000</td>\n",
       "      <td>40000.00000</td>\n",
       "      <td>40000.000000</td>\n",
       "    </tr>\n",
       "    <tr>\n",
       "      <th>max</th>\n",
       "      <td>1000.000000</td>\n",
       "      <td>799.000000</td>\n",
       "      <td>0.899648</td>\n",
       "      <td>209901.000000</td>\n",
       "      <td>4.000000</td>\n",
       "      <td>60000.00000</td>\n",
       "      <td>60000.000000</td>\n",
       "    </tr>\n",
       "  </tbody>\n",
       "</table>\n",
       "</div>"
      ],
      "text/plain": [
       "           cust_id  credit_score  credit_utilisation  outstanding_debt  \\\n",
       "count  1000.000000   1000.000000         1000.000000       1000.000000   \n",
       "mean    500.500000    589.182000            0.498950       9683.597000   \n",
       "std     288.819436    152.284929            0.233139      25255.893671   \n",
       "min       1.000000    300.000000            0.103761         33.000000   \n",
       "25%     250.750000    460.000000            0.293917        221.000000   \n",
       "50%     500.500000    601.500000            0.487422        550.000000   \n",
       "75%     750.250000    738.000000            0.697829      11819.500000   \n",
       "max    1000.000000    799.000000            0.899648     209901.000000   \n",
       "\n",
       "       credit_inquiries_last_6_months  credit_limit  credit_limit_mode  \n",
       "count                     1000.000000    1000.00000        1000.000000  \n",
       "mean                         1.955000   19733.75000       19912.500000  \n",
       "std                          1.414559   24717.43818       24840.914633  \n",
       "min                          0.000000     500.00000         500.000000  \n",
       "25%                          1.000000     750.00000         750.000000  \n",
       "50%                          2.000000    1500.00000        1500.000000  \n",
       "75%                          3.000000   40000.00000       40000.000000  \n",
       "max                          4.000000   60000.00000       60000.000000  "
      ]
     },
     "execution_count": 30,
     "metadata": {},
     "output_type": "execute_result"
    }
   ],
   "source": [
    "df_cs_clean_3.describe()"
   ]
  },
  {
   "cell_type": "code",
   "execution_count": 33,
   "id": "94fe896a-3810-4321-98ef-33c424ba5222",
   "metadata": {},
   "outputs": [
    {
     "data": {
      "image/png": "[encoded data removed]",
      "text/plain": [
       "<Figure size 300x300 with 1 Axes>"
      ]
     },
     "metadata": {},
     "output_type": "display_data"
    }
   ],
   "source": [
    "plt.figure(figsize=(3, 3))\n",
    "sns.boxplot(x=df_cs_clean_3['outstanding_debt'])\n",
    "plt.title('Box plot for outstanding debt')\n",
    "plt.show()"
   ]
  },
  {
   "cell_type": "code",
   "execution_count": 35,
   "id": "563e8641-bf8c-4406-b3e0-97fe2b81620e",
   "metadata": {},
   "outputs": [
    {
     "data": {
      "text/html": [
       "<div>\n",
       "<style scoped>\n",
       "    .dataframe tbody tr th:only-of-type {\n",
       "        vertical-align: middle;\n",
       "    }\n",
       "\n",
       "    .dataframe tbody tr th {\n",
       "        vertical-align: top;\n",
       "    }\n",
       "\n",
       "    .dataframe thead th {\n",
       "        text-align: right;\n",
       "    }\n",
       "</style>\n",
       "<table border=\"1\" class=\"dataframe\">\n",
       "  <thead>\n",
       "    <tr style=\"text-align: right;\">\n",
       "      <th></th>\n",
       "      <th>cust_id</th>\n",
       "      <th>credit_score</th>\n",
       "      <th>credit_utilisation</th>\n",
       "      <th>outstanding_debt</th>\n",
       "      <th>credit_inquiries_last_6_months</th>\n",
       "      <th>credit_limit</th>\n",
       "      <th>credit_score_range</th>\n",
       "      <th>credit_limit_mode</th>\n",
       "    </tr>\n",
       "  </thead>\n",
       "  <tbody>\n",
       "    <tr>\n",
       "      <th>1</th>\n",
       "      <td>2</td>\n",
       "      <td>587</td>\n",
       "      <td>0.107928</td>\n",
       "      <td>161644.0</td>\n",
       "      <td>2.0</td>\n",
       "      <td>1250.0</td>\n",
       "      <td>550-599</td>\n",
       "      <td>1250.0</td>\n",
       "    </tr>\n",
       "    <tr>\n",
       "      <th>19</th>\n",
       "      <td>20</td>\n",
       "      <td>647</td>\n",
       "      <td>0.439132</td>\n",
       "      <td>205014.0</td>\n",
       "      <td>3.0</td>\n",
       "      <td>1500.0</td>\n",
       "      <td>600-649</td>\n",
       "      <td>1500.0</td>\n",
       "    </tr>\n",
       "    <tr>\n",
       "      <th>25</th>\n",
       "      <td>26</td>\n",
       "      <td>758</td>\n",
       "      <td>0.250811</td>\n",
       "      <td>190838.0</td>\n",
       "      <td>2.0</td>\n",
       "      <td>60000.0</td>\n",
       "      <td>750-799</td>\n",
       "      <td>60000.0</td>\n",
       "    </tr>\n",
       "    <tr>\n",
       "      <th>38</th>\n",
       "      <td>39</td>\n",
       "      <td>734</td>\n",
       "      <td>0.573023</td>\n",
       "      <td>122758.0</td>\n",
       "      <td>3.0</td>\n",
       "      <td>40000.0</td>\n",
       "      <td>700-749</td>\n",
       "      <td>40000.0</td>\n",
       "    </tr>\n",
       "    <tr>\n",
       "      <th>93</th>\n",
       "      <td>94</td>\n",
       "      <td>737</td>\n",
       "      <td>0.739948</td>\n",
       "      <td>137058.0</td>\n",
       "      <td>2.0</td>\n",
       "      <td>40000.0</td>\n",
       "      <td>700-749</td>\n",
       "      <td>40000.0</td>\n",
       "    </tr>\n",
       "  </tbody>\n",
       "</table>\n",
       "</div>"
      ],
      "text/plain": [
       "    cust_id  credit_score  credit_utilisation  outstanding_debt  \\\n",
       "1         2           587            0.107928          161644.0   \n",
       "19       20           647            0.439132          205014.0   \n",
       "25       26           758            0.250811          190838.0   \n",
       "38       39           734            0.573023          122758.0   \n",
       "93       94           737            0.739948          137058.0   \n",
       "\n",
       "    credit_inquiries_last_6_months  credit_limit credit_score_range  \\\n",
       "1                              2.0        1250.0            550-599   \n",
       "19                             3.0        1500.0            600-649   \n",
       "25                             2.0       60000.0            750-799   \n",
       "38                             3.0       40000.0            700-749   \n",
       "93                             2.0       40000.0            700-749   \n",
       "\n",
       "    credit_limit_mode  \n",
       "1              1250.0  \n",
       "19             1500.0  \n",
       "25            60000.0  \n",
       "38            40000.0  \n",
       "93            40000.0  "
      ]
     },
     "execution_count": 35,
     "metadata": {},
     "output_type": "execute_result"
    }
   ],
   "source": [
    "df_cs_clean_3[df_cs_clean_3.outstanding_debt>df_cs_clean_3.credit_limit].head()"
   ]
  },
  {
   "cell_type": "code",
   "execution_count": 36,
   "id": "c512a858-1649-45d4-b57f-436ff55e8be8",
   "metadata": {},
   "outputs": [],
   "source": [
    "df_cs_clean_3.loc[df_cs_clean_3['outstanding_debt'] > df_cs_clean_3['credit_limit'], 'outstanding_debt'] = df_cs_clean_3['credit_limit']"
   ]
  },
  {
   "cell_type": "code",
   "execution_count": 37,
   "id": "08bc21bd-d12f-4472-a184-c9efa83f2b79",
   "metadata": {},
   "outputs": [
    {
     "data": {
      "text/html": [
       "<div>\n",
       "<style scoped>\n",
       "    .dataframe tbody tr th:only-of-type {\n",
       "        vertical-align: middle;\n",
       "    }\n",
       "\n",
       "    .dataframe tbody tr th {\n",
       "        vertical-align: top;\n",
       "    }\n",
       "\n",
       "    .dataframe thead th {\n",
       "        text-align: right;\n",
       "    }\n",
       "</style>\n",
       "<table border=\"1\" class=\"dataframe\">\n",
       "  <thead>\n",
       "    <tr style=\"text-align: right;\">\n",
       "      <th></th>\n",
       "      <th>cust_id</th>\n",
       "      <th>credit_score</th>\n",
       "      <th>credit_utilisation</th>\n",
       "      <th>outstanding_debt</th>\n",
       "      <th>credit_inquiries_last_6_months</th>\n",
       "      <th>credit_limit</th>\n",
       "      <th>credit_score_range</th>\n",
       "      <th>credit_limit_mode</th>\n",
       "    </tr>\n",
       "  </thead>\n",
       "  <tbody>\n",
       "  </tbody>\n",
       "</table>\n",
       "</div>"
      ],
      "text/plain": [
       "Empty DataFrame\n",
       "Columns: [cust_id, credit_score, credit_utilisation, outstanding_debt, credit_inquiries_last_6_months, credit_limit, credit_score_range, credit_limit_mode]\n",
       "Index: []"
      ]
     },
     "execution_count": 37,
     "metadata": {},
     "output_type": "execute_result"
    }
   ],
   "source": [
    "df_cs_clean_3[df_cs_clean_3.outstanding_debt>df_cs_clean_3.credit_limit]"
   ]
  },
  {
   "cell_type": "code",
   "execution_count": 38,
   "id": "ddab2aa1-bbc8-45b1-9d11-c73d2c1682b8",
   "metadata": {},
   "outputs": [
    {
     "data": {
      "text/html": [
       "<div>\n",
       "<style scoped>\n",
       "    .dataframe tbody tr th:only-of-type {\n",
       "        vertical-align: middle;\n",
       "    }\n",
       "\n",
       "    .dataframe tbody tr th {\n",
       "        vertical-align: top;\n",
       "    }\n",
       "\n",
       "    .dataframe thead th {\n",
       "        text-align: right;\n",
       "    }\n",
       "</style>\n",
       "<table border=\"1\" class=\"dataframe\">\n",
       "  <thead>\n",
       "    <tr style=\"text-align: right;\">\n",
       "      <th></th>\n",
       "      <th>cust_id</th>\n",
       "      <th>credit_score</th>\n",
       "      <th>credit_utilisation</th>\n",
       "      <th>outstanding_debt</th>\n",
       "      <th>credit_inquiries_last_6_months</th>\n",
       "      <th>credit_limit</th>\n",
       "      <th>credit_limit_mode</th>\n",
       "    </tr>\n",
       "  </thead>\n",
       "  <tbody>\n",
       "    <tr>\n",
       "      <th>count</th>\n",
       "      <td>1000.000000</td>\n",
       "      <td>1000.000000</td>\n",
       "      <td>1000.000000</td>\n",
       "      <td>1000.000000</td>\n",
       "      <td>1000.000000</td>\n",
       "      <td>1000.00000</td>\n",
       "      <td>1000.000000</td>\n",
       "    </tr>\n",
       "    <tr>\n",
       "      <th>mean</th>\n",
       "      <td>500.500000</td>\n",
       "      <td>589.182000</td>\n",
       "      <td>0.498950</td>\n",
       "      <td>6850.084000</td>\n",
       "      <td>1.955000</td>\n",
       "      <td>19733.75000</td>\n",
       "      <td>19912.500000</td>\n",
       "    </tr>\n",
       "    <tr>\n",
       "      <th>std</th>\n",
       "      <td>288.819436</td>\n",
       "      <td>152.284929</td>\n",
       "      <td>0.233139</td>\n",
       "      <td>10683.473561</td>\n",
       "      <td>1.414559</td>\n",
       "      <td>24717.43818</td>\n",
       "      <td>24840.914633</td>\n",
       "    </tr>\n",
       "    <tr>\n",
       "      <th>min</th>\n",
       "      <td>1.000000</td>\n",
       "      <td>300.000000</td>\n",
       "      <td>0.103761</td>\n",
       "      <td>33.000000</td>\n",
       "      <td>0.000000</td>\n",
       "      <td>500.00000</td>\n",
       "      <td>500.000000</td>\n",
       "    </tr>\n",
       "    <tr>\n",
       "      <th>25%</th>\n",
       "      <td>250.750000</td>\n",
       "      <td>460.000000</td>\n",
       "      <td>0.293917</td>\n",
       "      <td>221.000000</td>\n",
       "      <td>1.000000</td>\n",
       "      <td>750.00000</td>\n",
       "      <td>750.000000</td>\n",
       "    </tr>\n",
       "    <tr>\n",
       "      <th>50%</th>\n",
       "      <td>500.500000</td>\n",
       "      <td>601.500000</td>\n",
       "      <td>0.487422</td>\n",
       "      <td>541.500000</td>\n",
       "      <td>2.000000</td>\n",
       "      <td>1500.00000</td>\n",
       "      <td>1500.000000</td>\n",
       "    </tr>\n",
       "    <tr>\n",
       "      <th>75%</th>\n",
       "      <td>750.250000</td>\n",
       "      <td>738.000000</td>\n",
       "      <td>0.697829</td>\n",
       "      <td>10924.500000</td>\n",
       "      <td>3.000000</td>\n",
       "      <td>40000.00000</td>\n",
       "      <td>40000.000000</td>\n",
       "    </tr>\n",
       "    <tr>\n",
       "      <th>max</th>\n",
       "      <td>1000.000000</td>\n",
       "      <td>799.000000</td>\n",
       "      <td>0.899648</td>\n",
       "      <td>60000.000000</td>\n",
       "      <td>4.000000</td>\n",
       "      <td>60000.00000</td>\n",
       "      <td>60000.000000</td>\n",
       "    </tr>\n",
       "  </tbody>\n",
       "</table>\n",
       "</div>"
      ],
      "text/plain": [
       "           cust_id  credit_score  credit_utilisation  outstanding_debt  \\\n",
       "count  1000.000000   1000.000000         1000.000000       1000.000000   \n",
       "mean    500.500000    589.182000            0.498950       6850.084000   \n",
       "std     288.819436    152.284929            0.233139      10683.473561   \n",
       "min       1.000000    300.000000            0.103761         33.000000   \n",
       "25%     250.750000    460.000000            0.293917        221.000000   \n",
       "50%     500.500000    601.500000            0.487422        541.500000   \n",
       "75%     750.250000    738.000000            0.697829      10924.500000   \n",
       "max    1000.000000    799.000000            0.899648      60000.000000   \n",
       "\n",
       "       credit_inquiries_last_6_months  credit_limit  credit_limit_mode  \n",
       "count                     1000.000000    1000.00000        1000.000000  \n",
       "mean                         1.955000   19733.75000       19912.500000  \n",
       "std                          1.414559   24717.43818       24840.914633  \n",
       "min                          0.000000     500.00000         500.000000  \n",
       "25%                          1.000000     750.00000         750.000000  \n",
       "50%                          2.000000    1500.00000        1500.000000  \n",
       "75%                          3.000000   40000.00000       40000.000000  \n",
       "max                          4.000000   60000.00000       60000.000000  "
      ]
     },
     "execution_count": 38,
     "metadata": {},
     "output_type": "execute_result"
    }
   ],
   "source": [
    "df_cs_clean_3.describe()"
   ]
  },
  {
   "cell_type": "markdown",
   "id": "761cb4c0-065a-4b87-871e-6adf7a8e0018",
   "metadata": {
    "jp-MarkdownHeadingCollapsed": true
   },
   "source": [
    "## Data Exploration"
   ]
  },
  {
   "cell_type": "code",
   "execution_count": 39,
   "id": "553d4b8d-6f20-4ba4-9c10-144285b12cbd",
   "metadata": {},
   "outputs": [
    {
     "data": {
      "text/html": [
       "<div>\n",
       "<style scoped>\n",
       "    .dataframe tbody tr th:only-of-type {\n",
       "        vertical-align: middle;\n",
       "    }\n",
       "\n",
       "    .dataframe tbody tr th {\n",
       "        vertical-align: top;\n",
       "    }\n",
       "\n",
       "    .dataframe thead th {\n",
       "        text-align: right;\n",
       "    }\n",
       "</style>\n",
       "<table border=\"1\" class=\"dataframe\">\n",
       "  <thead>\n",
       "    <tr style=\"text-align: right;\">\n",
       "      <th></th>\n",
       "      <th>cust_id</th>\n",
       "      <th>name</th>\n",
       "      <th>gender</th>\n",
       "      <th>age</th>\n",
       "      <th>location</th>\n",
       "      <th>occupation</th>\n",
       "      <th>annual_income</th>\n",
       "      <th>marital_status</th>\n",
       "    </tr>\n",
       "  </thead>\n",
       "  <tbody>\n",
       "    <tr>\n",
       "      <th>0</th>\n",
       "      <td>1</td>\n",
       "      <td>Manya Acharya</td>\n",
       "      <td>Female</td>\n",
       "      <td>2</td>\n",
       "      <td>City</td>\n",
       "      <td>Business Owner</td>\n",
       "      <td>358211.0</td>\n",
       "      <td>Married</td>\n",
       "    </tr>\n",
       "    <tr>\n",
       "      <th>1</th>\n",
       "      <td>2</td>\n",
       "      <td>Anjali Pandey</td>\n",
       "      <td>Female</td>\n",
       "      <td>47</td>\n",
       "      <td>City</td>\n",
       "      <td>Consultant</td>\n",
       "      <td>65172.0</td>\n",
       "      <td>Single</td>\n",
       "    </tr>\n",
       "    <tr>\n",
       "      <th>2</th>\n",
       "      <td>3</td>\n",
       "      <td>Aaryan Chauhan</td>\n",
       "      <td>Male</td>\n",
       "      <td>21</td>\n",
       "      <td>City</td>\n",
       "      <td>Freelancer</td>\n",
       "      <td>22378.0</td>\n",
       "      <td>Married</td>\n",
       "    </tr>\n",
       "  </tbody>\n",
       "</table>\n",
       "</div>"
      ],
      "text/plain": [
       "   cust_id            name  gender  age location      occupation  \\\n",
       "0        1   Manya Acharya  Female    2     City  Business Owner   \n",
       "1        2   Anjali Pandey  Female   47     City      Consultant   \n",
       "2        3  Aaryan Chauhan    Male   21     City      Freelancer   \n",
       "\n",
       "   annual_income marital_status  \n",
       "0       358211.0        Married  \n",
       "1        65172.0         Single  \n",
       "2        22378.0        Married  "
      ]
     },
     "execution_count": 39,
     "metadata": {},
     "output_type": "execute_result"
    }
   ],
   "source": [
    "df_cust.head(3)"
   ]
  },
  {
   "cell_type": "code",
   "execution_count": 40,
   "id": "44dfff16-8828-42cf-a6fa-5536373cd31a",
   "metadata": {},
   "outputs": [
    {
     "data": {
      "text/html": [
       "<div>\n",
       "<style scoped>\n",
       "    .dataframe tbody tr th:only-of-type {\n",
       "        vertical-align: middle;\n",
       "    }\n",
       "\n",
       "    .dataframe tbody tr th {\n",
       "        vertical-align: top;\n",
       "    }\n",
       "\n",
       "    .dataframe thead th {\n",
       "        text-align: right;\n",
       "    }\n",
       "</style>\n",
       "<table border=\"1\" class=\"dataframe\">\n",
       "  <thead>\n",
       "    <tr style=\"text-align: right;\">\n",
       "      <th></th>\n",
       "      <th>cust_id</th>\n",
       "      <th>credit_score</th>\n",
       "      <th>credit_utilisation</th>\n",
       "      <th>outstanding_debt</th>\n",
       "      <th>credit_inquiries_last_6_months</th>\n",
       "      <th>credit_limit</th>\n",
       "      <th>credit_score_range</th>\n",
       "      <th>credit_limit_mode</th>\n",
       "    </tr>\n",
       "  </thead>\n",
       "  <tbody>\n",
       "    <tr>\n",
       "      <th>0</th>\n",
       "      <td>1</td>\n",
       "      <td>749</td>\n",
       "      <td>0.585171</td>\n",
       "      <td>19571.0</td>\n",
       "      <td>0.0</td>\n",
       "      <td>40000.0</td>\n",
       "      <td>700-749</td>\n",
       "      <td>40000.0</td>\n",
       "    </tr>\n",
       "    <tr>\n",
       "      <th>1</th>\n",
       "      <td>2</td>\n",
       "      <td>587</td>\n",
       "      <td>0.107928</td>\n",
       "      <td>1250.0</td>\n",
       "      <td>2.0</td>\n",
       "      <td>1250.0</td>\n",
       "      <td>550-599</td>\n",
       "      <td>1250.0</td>\n",
       "    </tr>\n",
       "    <tr>\n",
       "      <th>2</th>\n",
       "      <td>3</td>\n",
       "      <td>544</td>\n",
       "      <td>0.854807</td>\n",
       "      <td>513.0</td>\n",
       "      <td>4.0</td>\n",
       "      <td>1000.0</td>\n",
       "      <td>500-549</td>\n",
       "      <td>1000.0</td>\n",
       "    </tr>\n",
       "  </tbody>\n",
       "</table>\n",
       "</div>"
      ],
      "text/plain": [
       "   cust_id  credit_score  credit_utilisation  outstanding_debt  \\\n",
       "0        1           749            0.585171           19571.0   \n",
       "1        2           587            0.107928            1250.0   \n",
       "2        3           544            0.854807             513.0   \n",
       "\n",
       "   credit_inquiries_last_6_months  credit_limit credit_score_range  \\\n",
       "0                             0.0       40000.0            700-749   \n",
       "1                             2.0        1250.0            550-599   \n",
       "2                             4.0        1000.0            500-549   \n",
       "\n",
       "   credit_limit_mode  \n",
       "0            40000.0  \n",
       "1             1250.0  \n",
       "2             1000.0  "
      ]
     },
     "execution_count": 40,
     "metadata": {},
     "output_type": "execute_result"
    }
   ],
   "source": [
    "df_cs_clean_3.head(3)"
   ]
  },
  {
   "cell_type": "code",
   "execution_count": 95,
   "id": "182832ff-3995-44ed-89d5-efd37b5227c4",
   "metadata": {},
   "outputs": [
    {
     "data": {
      "text/html": [
       "<div>\n",
       "<style scoped>\n",
       "    .dataframe tbody tr th:only-of-type {\n",
       "        vertical-align: middle;\n",
       "    }\n",
       "\n",
       "    .dataframe tbody tr th {\n",
       "        vertical-align: top;\n",
       "    }\n",
       "\n",
       "    .dataframe thead th {\n",
       "        text-align: right;\n",
       "    }\n",
       "</style>\n",
       "<table border=\"1\" class=\"dataframe\">\n",
       "  <thead>\n",
       "    <tr style=\"text-align: right;\">\n",
       "      <th></th>\n",
       "      <th>cust_id</th>\n",
       "      <th>name</th>\n",
       "      <th>gender</th>\n",
       "      <th>age</th>\n",
       "      <th>location</th>\n",
       "      <th>occupation</th>\n",
       "      <th>annual_income</th>\n",
       "      <th>marital_status</th>\n",
       "      <th>age_group</th>\n",
       "      <th>credit_score</th>\n",
       "      <th>credit_utilisation</th>\n",
       "      <th>outstanding_debt</th>\n",
       "      <th>credit_inquiries_last_6_months</th>\n",
       "      <th>credit_limit</th>\n",
       "      <th>credit_score_range</th>\n",
       "      <th>credit_limit_mode</th>\n",
       "    </tr>\n",
       "  </thead>\n",
       "  <tbody>\n",
       "    <tr>\n",
       "      <th>0</th>\n",
       "      <td>1</td>\n",
       "      <td>Manya Acharya</td>\n",
       "      <td>Female</td>\n",
       "      <td>49.740484</td>\n",
       "      <td>City</td>\n",
       "      <td>Business Owner</td>\n",
       "      <td>358211.0</td>\n",
       "      <td>Married</td>\n",
       "      <td>49-65</td>\n",
       "      <td>749</td>\n",
       "      <td>0.585171</td>\n",
       "      <td>19571.0</td>\n",
       "      <td>0.0</td>\n",
       "      <td>40000.0</td>\n",
       "      <td>700-749</td>\n",
       "      <td>40000.0</td>\n",
       "    </tr>\n",
       "    <tr>\n",
       "      <th>1</th>\n",
       "      <td>2</td>\n",
       "      <td>Anjali Pandey</td>\n",
       "      <td>Female</td>\n",
       "      <td>47.000000</td>\n",
       "      <td>City</td>\n",
       "      <td>Consultant</td>\n",
       "      <td>65172.0</td>\n",
       "      <td>Single</td>\n",
       "      <td>26-48</td>\n",
       "      <td>587</td>\n",
       "      <td>0.107928</td>\n",
       "      <td>1250.0</td>\n",
       "      <td>2.0</td>\n",
       "      <td>1250.0</td>\n",
       "      <td>550-599</td>\n",
       "      <td>1250.0</td>\n",
       "    </tr>\n",
       "    <tr>\n",
       "      <th>2</th>\n",
       "      <td>3</td>\n",
       "      <td>Aaryan Chauhan</td>\n",
       "      <td>Male</td>\n",
       "      <td>21.000000</td>\n",
       "      <td>City</td>\n",
       "      <td>Freelancer</td>\n",
       "      <td>22378.0</td>\n",
       "      <td>Married</td>\n",
       "      <td>18-25</td>\n",
       "      <td>544</td>\n",
       "      <td>0.854807</td>\n",
       "      <td>513.0</td>\n",
       "      <td>4.0</td>\n",
       "      <td>1000.0</td>\n",
       "      <td>500-549</td>\n",
       "      <td>1000.0</td>\n",
       "    </tr>\n",
       "    <tr>\n",
       "      <th>3</th>\n",
       "      <td>4</td>\n",
       "      <td>Rudra Bali</td>\n",
       "      <td>Male</td>\n",
       "      <td>24.000000</td>\n",
       "      <td>Rural</td>\n",
       "      <td>Freelancer</td>\n",
       "      <td>33563.0</td>\n",
       "      <td>Married</td>\n",
       "      <td>18-25</td>\n",
       "      <td>504</td>\n",
       "      <td>0.336938</td>\n",
       "      <td>224.0</td>\n",
       "      <td>2.0</td>\n",
       "      <td>1000.0</td>\n",
       "      <td>500-549</td>\n",
       "      <td>1000.0</td>\n",
       "    </tr>\n",
       "    <tr>\n",
       "      <th>4</th>\n",
       "      <td>5</td>\n",
       "      <td>Advait Malik</td>\n",
       "      <td>Male</td>\n",
       "      <td>48.000000</td>\n",
       "      <td>City</td>\n",
       "      <td>Consultant</td>\n",
       "      <td>39406.0</td>\n",
       "      <td>Married</td>\n",
       "      <td>26-48</td>\n",
       "      <td>708</td>\n",
       "      <td>0.586151</td>\n",
       "      <td>18090.0</td>\n",
       "      <td>2.0</td>\n",
       "      <td>40000.0</td>\n",
       "      <td>700-749</td>\n",
       "      <td>40000.0</td>\n",
       "    </tr>\n",
       "  </tbody>\n",
       "</table>\n",
       "</div>"
      ],
      "text/plain": [
       "   cust_id            name  gender        age location      occupation  \\\n",
       "0        1   Manya Acharya  Female  49.740484     City  Business Owner   \n",
       "1        2   Anjali Pandey  Female  47.000000     City      Consultant   \n",
       "2        3  Aaryan Chauhan    Male  21.000000     City      Freelancer   \n",
       "3        4      Rudra Bali    Male  24.000000    Rural      Freelancer   \n",
       "4        5    Advait Malik    Male  48.000000     City      Consultant   \n",
       "\n",
       "   annual_income marital_status age_group  credit_score  credit_utilisation  \\\n",
       "0       358211.0        Married     49-65           749            0.585171   \n",
       "1        65172.0         Single     26-48           587            0.107928   \n",
       "2        22378.0        Married     18-25           544            0.854807   \n",
       "3        33563.0        Married     18-25           504            0.336938   \n",
       "4        39406.0        Married     26-48           708            0.586151   \n",
       "\n",
       "   outstanding_debt  credit_inquiries_last_6_months  credit_limit  \\\n",
       "0           19571.0                             0.0       40000.0   \n",
       "1            1250.0                             2.0        1250.0   \n",
       "2             513.0                             4.0        1000.0   \n",
       "3             224.0                             2.0        1000.0   \n",
       "4           18090.0                             2.0       40000.0   \n",
       "\n",
       "  credit_score_range  credit_limit_mode  \n",
       "0            700-749            40000.0  \n",
       "1            550-599             1250.0  \n",
       "2            500-549             1000.0  \n",
       "3            500-549             1000.0  \n",
       "4            700-749            40000.0  "
      ]
     },
     "execution_count": 95,
     "metadata": {},
     "output_type": "execute_result"
    }
   ],
   "source": [
    "df_merged = df_cust.merge(df_cs_clean_3, on=\"cust_id\", how=\"inner\")\n",
    "df_merged.head()"
   ]
  },
  {
   "cell_type": "code",
   "execution_count": 44,
   "id": "53fddc3c-945c-4401-b9ff-135ee8505265",
   "metadata": {},
   "outputs": [
    {
     "data": {
      "text/html": [
       "<div>\n",
       "<style scoped>\n",
       "    .dataframe tbody tr th:only-of-type {\n",
       "        vertical-align: middle;\n",
       "    }\n",
       "\n",
       "    .dataframe tbody tr th {\n",
       "        vertical-align: top;\n",
       "    }\n",
       "\n",
       "    .dataframe thead th {\n",
       "        text-align: right;\n",
       "    }\n",
       "</style>\n",
       "<table border=\"1\" class=\"dataframe\">\n",
       "  <thead>\n",
       "    <tr style=\"text-align: right;\">\n",
       "      <th></th>\n",
       "      <th>credit_score</th>\n",
       "      <th>credit_limit</th>\n",
       "    </tr>\n",
       "  </thead>\n",
       "  <tbody>\n",
       "    <tr>\n",
       "      <th>credit_score</th>\n",
       "      <td>1.000000</td>\n",
       "      <td>0.847952</td>\n",
       "    </tr>\n",
       "    <tr>\n",
       "      <th>credit_limit</th>\n",
       "      <td>0.847952</td>\n",
       "      <td>1.000000</td>\n",
       "    </tr>\n",
       "  </tbody>\n",
       "</table>\n",
       "</div>"
      ],
      "text/plain": [
       "              credit_score  credit_limit\n",
       "credit_score      1.000000      0.847952\n",
       "credit_limit      0.847952      1.000000"
      ]
     },
     "execution_count": 44,
     "metadata": {},
     "output_type": "execute_result"
    }
   ],
   "source": [
    "df_merged[[\"credit_score\",\"credit_limit\"]].corr()"
   ]
  },
  {
   "cell_type": "code",
   "execution_count": 45,
   "id": "660489d4-c905-4679-8eac-b4ff03f6d08b",
   "metadata": {},
   "outputs": [
    {
     "data": {
      "text/html": [
       "<div>\n",
       "<style scoped>\n",
       "    .dataframe tbody tr th:only-of-type {\n",
       "        vertical-align: middle;\n",
       "    }\n",
       "\n",
       "    .dataframe tbody tr th {\n",
       "        vertical-align: top;\n",
       "    }\n",
       "\n",
       "    .dataframe thead th {\n",
       "        text-align: right;\n",
       "    }\n",
       "</style>\n",
       "<table border=\"1\" class=\"dataframe\">\n",
       "  <thead>\n",
       "    <tr style=\"text-align: right;\">\n",
       "      <th></th>\n",
       "      <th>credit_score</th>\n",
       "      <th>credit_utilisation</th>\n",
       "      <th>outstanding_debt</th>\n",
       "      <th>credit_limit</th>\n",
       "      <th>annual_income</th>\n",
       "      <th>age</th>\n",
       "    </tr>\n",
       "  </thead>\n",
       "  <tbody>\n",
       "    <tr>\n",
       "      <th>credit_score</th>\n",
       "      <td>1.000000</td>\n",
       "      <td>-0.070445</td>\n",
       "      <td>0.680654</td>\n",
       "      <td>0.847952</td>\n",
       "      <td>0.573939</td>\n",
       "      <td>0.356911</td>\n",
       "    </tr>\n",
       "    <tr>\n",
       "      <th>credit_utilisation</th>\n",
       "      <td>-0.070445</td>\n",
       "      <td>1.000000</td>\n",
       "      <td>0.192838</td>\n",
       "      <td>-0.080493</td>\n",
       "      <td>-0.099406</td>\n",
       "      <td>-0.026364</td>\n",
       "    </tr>\n",
       "    <tr>\n",
       "      <th>outstanding_debt</th>\n",
       "      <td>0.680654</td>\n",
       "      <td>0.192838</td>\n",
       "      <td>1.000000</td>\n",
       "      <td>0.810581</td>\n",
       "      <td>0.550360</td>\n",
       "      <td>0.327208</td>\n",
       "    </tr>\n",
       "    <tr>\n",
       "      <th>credit_limit</th>\n",
       "      <td>0.847952</td>\n",
       "      <td>-0.080493</td>\n",
       "      <td>0.810581</td>\n",
       "      <td>1.000000</td>\n",
       "      <td>0.681669</td>\n",
       "      <td>0.402170</td>\n",
       "    </tr>\n",
       "    <tr>\n",
       "      <th>annual_income</th>\n",
       "      <td>0.573939</td>\n",
       "      <td>-0.099406</td>\n",
       "      <td>0.550360</td>\n",
       "      <td>0.681669</td>\n",
       "      <td>1.000000</td>\n",
       "      <td>0.471740</td>\n",
       "    </tr>\n",
       "    <tr>\n",
       "      <th>age</th>\n",
       "      <td>0.356911</td>\n",
       "      <td>-0.026364</td>\n",
       "      <td>0.327208</td>\n",
       "      <td>0.402170</td>\n",
       "      <td>0.471740</td>\n",
       "      <td>1.000000</td>\n",
       "    </tr>\n",
       "  </tbody>\n",
       "</table>\n",
       "</div>"
      ],
      "text/plain": [
       "                    credit_score  credit_utilisation  outstanding_debt  \\\n",
       "credit_score            1.000000           -0.070445          0.680654   \n",
       "credit_utilisation     -0.070445            1.000000          0.192838   \n",
       "outstanding_debt        0.680654            0.192838          1.000000   \n",
       "credit_limit            0.847952           -0.080493          0.810581   \n",
       "annual_income           0.573939           -0.099406          0.550360   \n",
       "age                     0.356911           -0.026364          0.327208   \n",
       "\n",
       "                    credit_limit  annual_income       age  \n",
       "credit_score            0.847952       0.573939  0.356911  \n",
       "credit_utilisation     -0.080493      -0.099406 -0.026364  \n",
       "outstanding_debt        0.810581       0.550360  0.327208  \n",
       "credit_limit            1.000000       0.681669  0.402170  \n",
       "annual_income           0.681669       1.000000  0.471740  \n",
       "age                     0.402170       0.471740  1.000000  "
      ]
     },
     "execution_count": 45,
     "metadata": {},
     "output_type": "execute_result"
    }
   ],
   "source": [
    "numerical_cols = ['credit_score', 'credit_utilisation', 'outstanding_debt', 'credit_limit', 'annual_income','age']\n",
    "\n",
    "correlation_matrix = df_merged[numerical_cols].corr()\n",
    "correlation_matrix"
   ]
  },
  {
   "cell_type": "code",
   "execution_count": 46,
   "id": "175ad2cd-e908-454a-9e05-601568c729ff",
   "metadata": {},
   "outputs": [
    {
     "data": {
      "image/png": "[encoded data removed]",
      "text/plain": [
       "<Figure size 500x300 with 2 Axes>"
      ]
     },
     "metadata": {},
     "output_type": "display_data"
    }
   ],
   "source": [
    "# Create a heatmap of the correlation matrix\n",
    "plt.figure(figsize=(5, 3))\n",
    "sns.heatmap(correlation_matrix, annot=True, fmt=\".2f\", cmap='coolwarm', linewidths=0.8)\n",
    "plt.title('Correlation Plot')\n",
    "plt.show()"
   ]
  },
  {
   "cell_type": "code",
   "execution_count": 47,
   "id": "20864334-3a76-4499-9eae-751f6365d8d7",
   "metadata": {},
   "outputs": [
    {
     "data": {
      "text/html": [
       "<div>\n",
       "<style scoped>\n",
       "    .dataframe tbody tr th:only-of-type {\n",
       "        vertical-align: middle;\n",
       "    }\n",
       "\n",
       "    .dataframe tbody tr th {\n",
       "        vertical-align: top;\n",
       "    }\n",
       "\n",
       "    .dataframe thead th {\n",
       "        text-align: right;\n",
       "    }\n",
       "</style>\n",
       "<table border=\"1\" class=\"dataframe\">\n",
       "  <thead>\n",
       "    <tr style=\"text-align: right;\">\n",
       "      <th></th>\n",
       "      <th>tran_id</th>\n",
       "      <th>cust_id</th>\n",
       "      <th>tran_date</th>\n",
       "      <th>tran_amount</th>\n",
       "      <th>platform</th>\n",
       "      <th>product_category</th>\n",
       "      <th>payment_type</th>\n",
       "    </tr>\n",
       "  </thead>\n",
       "  <tbody>\n",
       "    <tr>\n",
       "      <th>0</th>\n",
       "      <td>1</td>\n",
       "      <td>705</td>\n",
       "      <td>2023-01-01</td>\n",
       "      <td>63</td>\n",
       "      <td>Flipkart</td>\n",
       "      <td>Electronics</td>\n",
       "      <td>Phonepe</td>\n",
       "    </tr>\n",
       "    <tr>\n",
       "      <th>1</th>\n",
       "      <td>2</td>\n",
       "      <td>385</td>\n",
       "      <td>2023-01-01</td>\n",
       "      <td>99</td>\n",
       "      <td>Alibaba</td>\n",
       "      <td>Fashion &amp; Apparel</td>\n",
       "      <td>Credit Card</td>\n",
       "    </tr>\n",
       "    <tr>\n",
       "      <th>2</th>\n",
       "      <td>3</td>\n",
       "      <td>924</td>\n",
       "      <td>2023-01-01</td>\n",
       "      <td>471</td>\n",
       "      <td>Shopify</td>\n",
       "      <td>Sports</td>\n",
       "      <td>Phonepe</td>\n",
       "    </tr>\n",
       "    <tr>\n",
       "      <th>3</th>\n",
       "      <td>4</td>\n",
       "      <td>797</td>\n",
       "      <td>2023-01-01</td>\n",
       "      <td>33</td>\n",
       "      <td>Shopify</td>\n",
       "      <td>Fashion &amp; Apparel</td>\n",
       "      <td>Gpay</td>\n",
       "    </tr>\n",
       "    <tr>\n",
       "      <th>4</th>\n",
       "      <td>5</td>\n",
       "      <td>482</td>\n",
       "      <td>2023-01-01</td>\n",
       "      <td>68</td>\n",
       "      <td>Amazon</td>\n",
       "      <td>Fashion &amp; Apparel</td>\n",
       "      <td>Net Banking</td>\n",
       "    </tr>\n",
       "  </tbody>\n",
       "</table>\n",
       "</div>"
      ],
      "text/plain": [
       "   tran_id  cust_id   tran_date  tran_amount  platform   product_category  \\\n",
       "0        1      705  2023-01-01           63  Flipkart        Electronics   \n",
       "1        2      385  2023-01-01           99   Alibaba  Fashion & Apparel   \n",
       "2        3      924  2023-01-01          471   Shopify             Sports   \n",
       "3        4      797  2023-01-01           33   Shopify  Fashion & Apparel   \n",
       "4        5      482  2023-01-01           68    Amazon  Fashion & Apparel   \n",
       "\n",
       "  payment_type  \n",
       "0      Phonepe  \n",
       "1  Credit Card  \n",
       "2      Phonepe  \n",
       "3         Gpay  \n",
       "4  Net Banking  "
      ]
     },
     "execution_count": 47,
     "metadata": {},
     "output_type": "execute_result"
    }
   ],
   "source": [
    "df_trans.head()"
   ]
  },
  {
   "cell_type": "code",
   "execution_count": 48,
   "id": "ea1fe137-7ab0-4856-9edd-054a397b9196",
   "metadata": {},
   "outputs": [
    {
     "data": {
      "text/plain": [
       "tran_id                0\n",
       "cust_id                0\n",
       "tran_date              0\n",
       "tran_amount            0\n",
       "platform            4941\n",
       "product_category       0\n",
       "payment_type           0\n",
       "dtype: int64"
      ]
     },
     "execution_count": 48,
     "metadata": {},
     "output_type": "execute_result"
    }
   ],
   "source": [
    "df_trans.isnull().sum()"
   ]
  },
  {
   "cell_type": "code",
   "execution_count": 51,
   "id": "393c6b5b-24dd-4cd2-a9fd-88023d7097ea",
   "metadata": {},
   "outputs": [
    {
     "data": {
      "text/html": [
       "<div>\n",
       "<style scoped>\n",
       "    .dataframe tbody tr th:only-of-type {\n",
       "        vertical-align: middle;\n",
       "    }\n",
       "\n",
       "    .dataframe tbody tr th {\n",
       "        vertical-align: top;\n",
       "    }\n",
       "\n",
       "    .dataframe thead th {\n",
       "        text-align: right;\n",
       "    }\n",
       "</style>\n",
       "<table border=\"1\" class=\"dataframe\">\n",
       "  <thead>\n",
       "    <tr style=\"text-align: right;\">\n",
       "      <th></th>\n",
       "      <th>tran_id</th>\n",
       "      <th>cust_id</th>\n",
       "      <th>tran_date</th>\n",
       "      <th>tran_amount</th>\n",
       "      <th>platform</th>\n",
       "      <th>product_category</th>\n",
       "      <th>payment_type</th>\n",
       "    </tr>\n",
       "  </thead>\n",
       "  <tbody>\n",
       "    <tr>\n",
       "      <th>355</th>\n",
       "      <td>356</td>\n",
       "      <td>58</td>\n",
       "      <td>2023-01-01</td>\n",
       "      <td>237</td>\n",
       "      <td>NaN</td>\n",
       "      <td>Electronics</td>\n",
       "      <td>Net Banking</td>\n",
       "    </tr>\n",
       "    <tr>\n",
       "      <th>418</th>\n",
       "      <td>419</td>\n",
       "      <td>383</td>\n",
       "      <td>2023-01-01</td>\n",
       "      <td>338</td>\n",
       "      <td>NaN</td>\n",
       "      <td>Electronics</td>\n",
       "      <td>Credit Card</td>\n",
       "    </tr>\n",
       "    <tr>\n",
       "      <th>607</th>\n",
       "      <td>608</td>\n",
       "      <td>421</td>\n",
       "      <td>2023-01-01</td>\n",
       "      <td>700</td>\n",
       "      <td>NaN</td>\n",
       "      <td>Electronics</td>\n",
       "      <td>Phonepe</td>\n",
       "    </tr>\n",
       "  </tbody>\n",
       "</table>\n",
       "</div>"
      ],
      "text/plain": [
       "     tran_id  cust_id   tran_date  tran_amount platform product_category  \\\n",
       "355      356       58  2023-01-01          237      NaN      Electronics   \n",
       "418      419      383  2023-01-01          338      NaN      Electronics   \n",
       "607      608      421  2023-01-01          700      NaN      Electronics   \n",
       "\n",
       "    payment_type  \n",
       "355  Net Banking  \n",
       "418  Credit Card  \n",
       "607      Phonepe  "
      ]
     },
     "execution_count": 51,
     "metadata": {},
     "output_type": "execute_result"
    }
   ],
   "source": [
    "df_trans[df_trans.platform.isnull()].head(3)"
   ]
  },
  {
   "cell_type": "code",
   "execution_count": 52,
   "id": "974b812e-4bd4-450c-82b1-d21f81a5b1a1",
   "metadata": {},
   "outputs": [
    {
     "data": {
      "text/plain": [
       "platform\n",
       "Amazon      151443\n",
       "Flipkart    122660\n",
       "Alibaba      73584\n",
       "Meesho       73271\n",
       "Shopify      39416\n",
       "Cred         24741\n",
       "Ebay          9944\n",
       "Name: count, dtype: int64"
      ]
     },
     "execution_count": 52,
     "metadata": {},
     "output_type": "execute_result"
    }
   ],
   "source": [
    "df_trans.platform.value_counts()"
   ]
  },
  {
   "cell_type": "code",
   "execution_count": 55,
   "id": "697f55c9-b0e9-4dbe-8d82-336df299f656",
   "metadata": {},
   "outputs": [
    {
     "data": {
      "image/png": "[encoded data removed]",
      "text/plain": [
       "<Figure size 640x480 with 1 Axes>"
      ]
     },
     "metadata": {},
     "output_type": "display_data"
    }
   ],
   "source": [
    "sns.countplot(y=\"product_category\", hue=\"platform\", data=df_trans)\n",
    "plt.show()"
   ]
  },
  {
   "cell_type": "code",
   "execution_count": 56,
   "id": "2f473aa2-6f5b-44d0-957c-f57a13c4e332",
   "metadata": {},
   "outputs": [],
   "source": [
    "df_trans.platform.fillna(\"Amazon\", inplace=True)"
   ]
  },
  {
   "cell_type": "code",
   "execution_count": 57,
   "id": "fb48cc52-6a32-42e9-9380-de71e8591001",
   "metadata": {},
   "outputs": [
    {
     "data": {
      "text/plain": [
       "tran_id             0\n",
       "cust_id             0\n",
       "tran_date           0\n",
       "tran_amount         0\n",
       "platform            0\n",
       "product_category    0\n",
       "payment_type        0\n",
       "dtype: int64"
      ]
     },
     "execution_count": 57,
     "metadata": {},
     "output_type": "execute_result"
    }
   ],
   "source": [
    "df_trans.isnull().sum()"
   ]
  },
  {
   "cell_type": "code",
   "execution_count": 59,
   "id": "b5a0819a-3063-416a-99c0-24304c67da9e",
   "metadata": {},
   "outputs": [
    {
     "data": {
      "text/html": [
       "<div>\n",
       "<style scoped>\n",
       "    .dataframe tbody tr th:only-of-type {\n",
       "        vertical-align: middle;\n",
       "    }\n",
       "\n",
       "    .dataframe tbody tr th {\n",
       "        vertical-align: top;\n",
       "    }\n",
       "\n",
       "    .dataframe thead th {\n",
       "        text-align: right;\n",
       "    }\n",
       "</style>\n",
       "<table border=\"1\" class=\"dataframe\">\n",
       "  <thead>\n",
       "    <tr style=\"text-align: right;\">\n",
       "      <th></th>\n",
       "      <th>tran_id</th>\n",
       "      <th>cust_id</th>\n",
       "      <th>tran_amount</th>\n",
       "    </tr>\n",
       "  </thead>\n",
       "  <tbody>\n",
       "    <tr>\n",
       "      <th>count</th>\n",
       "      <td>500000.000000</td>\n",
       "      <td>500000.000000</td>\n",
       "      <td>500000.00000</td>\n",
       "    </tr>\n",
       "    <tr>\n",
       "      <th>mean</th>\n",
       "      <td>250000.500000</td>\n",
       "      <td>501.400428</td>\n",
       "      <td>3225.20733</td>\n",
       "    </tr>\n",
       "    <tr>\n",
       "      <th>std</th>\n",
       "      <td>144337.711635</td>\n",
       "      <td>288.641924</td>\n",
       "      <td>13098.74276</td>\n",
       "    </tr>\n",
       "    <tr>\n",
       "      <th>min</th>\n",
       "      <td>1.000000</td>\n",
       "      <td>1.000000</td>\n",
       "      <td>0.00000</td>\n",
       "    </tr>\n",
       "    <tr>\n",
       "      <th>25%</th>\n",
       "      <td>125000.750000</td>\n",
       "      <td>252.000000</td>\n",
       "      <td>64.00000</td>\n",
       "    </tr>\n",
       "    <tr>\n",
       "      <th>50%</th>\n",
       "      <td>250000.500000</td>\n",
       "      <td>502.000000</td>\n",
       "      <td>141.00000</td>\n",
       "    </tr>\n",
       "    <tr>\n",
       "      <th>75%</th>\n",
       "      <td>375000.250000</td>\n",
       "      <td>752.000000</td>\n",
       "      <td>397.00000</td>\n",
       "    </tr>\n",
       "    <tr>\n",
       "      <th>max</th>\n",
       "      <td>500000.000000</td>\n",
       "      <td>1000.000000</td>\n",
       "      <td>69999.00000</td>\n",
       "    </tr>\n",
       "  </tbody>\n",
       "</table>\n",
       "</div>"
      ],
      "text/plain": [
       "             tran_id        cust_id   tran_amount\n",
       "count  500000.000000  500000.000000  500000.00000\n",
       "mean   250000.500000     501.400428    3225.20733\n",
       "std    144337.711635     288.641924   13098.74276\n",
       "min         1.000000       1.000000       0.00000\n",
       "25%    125000.750000     252.000000      64.00000\n",
       "50%    250000.500000     502.000000     141.00000\n",
       "75%    375000.250000     752.000000     397.00000\n",
       "max    500000.000000    1000.000000   69999.00000"
      ]
     },
     "execution_count": 59,
     "metadata": {},
     "output_type": "execute_result"
    }
   ],
   "source": [
    "df_trans.describe()"
   ]
  },
  {
   "cell_type": "code",
   "execution_count": 61,
   "id": "ccbf17b6-d8e5-4ec2-af8b-ccfe420f9f9f",
   "metadata": {},
   "outputs": [
    {
     "data": {
      "text/plain": [
       "(4734, 7)"
      ]
     },
     "execution_count": 61,
     "metadata": {},
     "output_type": "execute_result"
    }
   ],
   "source": [
    "df_trans[df_trans.tran_amount==0].shape"
   ]
  },
  {
   "cell_type": "code",
   "execution_count": 62,
   "id": "48a1bf8e-a23e-48e8-8d06-ac434d520d86",
   "metadata": {},
   "outputs": [
    {
     "data": {
      "text/html": [
       "<div>\n",
       "<style scoped>\n",
       "    .dataframe tbody tr th:only-of-type {\n",
       "        vertical-align: middle;\n",
       "    }\n",
       "\n",
       "    .dataframe tbody tr th {\n",
       "        vertical-align: top;\n",
       "    }\n",
       "\n",
       "    .dataframe thead th {\n",
       "        text-align: right;\n",
       "    }\n",
       "</style>\n",
       "<table border=\"1\" class=\"dataframe\">\n",
       "  <thead>\n",
       "    <tr style=\"text-align: right;\">\n",
       "      <th></th>\n",
       "      <th>tran_id</th>\n",
       "      <th>cust_id</th>\n",
       "      <th>tran_date</th>\n",
       "      <th>tran_amount</th>\n",
       "      <th>platform</th>\n",
       "      <th>product_category</th>\n",
       "      <th>payment_type</th>\n",
       "    </tr>\n",
       "  </thead>\n",
       "  <tbody>\n",
       "    <tr>\n",
       "      <th>120</th>\n",
       "      <td>121</td>\n",
       "      <td>440</td>\n",
       "      <td>2023-01-01</td>\n",
       "      <td>0</td>\n",
       "      <td>Amazon</td>\n",
       "      <td>Electronics</td>\n",
       "      <td>Credit Card</td>\n",
       "    </tr>\n",
       "    <tr>\n",
       "      <th>141</th>\n",
       "      <td>142</td>\n",
       "      <td>839</td>\n",
       "      <td>2023-01-01</td>\n",
       "      <td>0</td>\n",
       "      <td>Amazon</td>\n",
       "      <td>Electronics</td>\n",
       "      <td>Credit Card</td>\n",
       "    </tr>\n",
       "    <tr>\n",
       "      <th>517</th>\n",
       "      <td>518</td>\n",
       "      <td>147</td>\n",
       "      <td>2023-01-01</td>\n",
       "      <td>0</td>\n",
       "      <td>Amazon</td>\n",
       "      <td>Electronics</td>\n",
       "      <td>Credit Card</td>\n",
       "    </tr>\n",
       "  </tbody>\n",
       "</table>\n",
       "</div>"
      ],
      "text/plain": [
       "     tran_id  cust_id   tran_date  tran_amount platform product_category  \\\n",
       "120      121      440  2023-01-01            0   Amazon      Electronics   \n",
       "141      142      839  2023-01-01            0   Amazon      Electronics   \n",
       "517      518      147  2023-01-01            0   Amazon      Electronics   \n",
       "\n",
       "    payment_type  \n",
       "120  Credit Card  \n",
       "141  Credit Card  \n",
       "517  Credit Card  "
      ]
     },
     "execution_count": 62,
     "metadata": {},
     "output_type": "execute_result"
    }
   ],
   "source": [
    "df_trans_zero = df_trans[df_trans.tran_amount==0]\n",
    "df_trans_zero.head(3)"
   ]
  },
  {
   "cell_type": "code",
   "execution_count": 63,
   "id": "98f2787a-924b-40c9-9a14-88d030890bcc",
   "metadata": {},
   "outputs": [
    {
     "data": {
      "text/plain": [
       "platform\n",
       "Amazon    4734\n",
       "Name: count, dtype: int64"
      ]
     },
     "execution_count": 63,
     "metadata": {},
     "output_type": "execute_result"
    }
   ],
   "source": [
    "df_trans_zero.platform.value_counts()"
   ]
  },
  {
   "cell_type": "code",
   "execution_count": 64,
   "id": "d37218cf-4c13-43ae-b3ad-5f9f42da8b2a",
   "metadata": {},
   "outputs": [
    {
     "data": {
      "text/plain": [
       "platform  product_category  payment_type\n",
       "Amazon    Electronics       Credit Card     4734\n",
       "Name: count, dtype: int64"
      ]
     },
     "execution_count": 64,
     "metadata": {},
     "output_type": "execute_result"
    }
   ],
   "source": [
    "df_trans_zero[['platform','product_category','payment_type']].value_counts()"
   ]
  },
  {
   "cell_type": "code",
   "execution_count": 65,
   "id": "86639142-093d-48bc-b191-9a595f9ac3c7",
   "metadata": {},
   "outputs": [
    {
     "data": {
      "text/plain": [
       "(15637, 7)"
      ]
     },
     "execution_count": 65,
     "metadata": {},
     "output_type": "execute_result"
    }
   ],
   "source": [
    "df_trans_1 = df_trans[(df_trans.platform=='Amazon')&(df_trans.product_category==\"Electronics\")&(df_trans.payment_type==\"Credit Card\")]\n",
    "df_trans_1.shape"
   ]
  },
  {
   "cell_type": "code",
   "execution_count": 66,
   "id": "0ad3fae3-2b9e-45b8-91ac-21b2ce5f4146",
   "metadata": {},
   "outputs": [
    {
     "data": {
      "text/html": [
       "<div>\n",
       "<style scoped>\n",
       "    .dataframe tbody tr th:only-of-type {\n",
       "        vertical-align: middle;\n",
       "    }\n",
       "\n",
       "    .dataframe tbody tr th {\n",
       "        vertical-align: top;\n",
       "    }\n",
       "\n",
       "    .dataframe thead th {\n",
       "        text-align: right;\n",
       "    }\n",
       "</style>\n",
       "<table border=\"1\" class=\"dataframe\">\n",
       "  <thead>\n",
       "    <tr style=\"text-align: right;\">\n",
       "      <th></th>\n",
       "      <th>tran_id</th>\n",
       "      <th>cust_id</th>\n",
       "      <th>tran_date</th>\n",
       "      <th>tran_amount</th>\n",
       "      <th>platform</th>\n",
       "      <th>product_category</th>\n",
       "      <th>payment_type</th>\n",
       "    </tr>\n",
       "  </thead>\n",
       "  <tbody>\n",
       "    <tr>\n",
       "      <th>109</th>\n",
       "      <td>110</td>\n",
       "      <td>887</td>\n",
       "      <td>2023-01-01</td>\n",
       "      <td>635</td>\n",
       "      <td>Amazon</td>\n",
       "      <td>Electronics</td>\n",
       "      <td>Credit Card</td>\n",
       "    </tr>\n",
       "    <tr>\n",
       "      <th>173</th>\n",
       "      <td>174</td>\n",
       "      <td>676</td>\n",
       "      <td>2023-01-01</td>\n",
       "      <td>60439</td>\n",
       "      <td>Amazon</td>\n",
       "      <td>Electronics</td>\n",
       "      <td>Credit Card</td>\n",
       "    </tr>\n",
       "    <tr>\n",
       "      <th>190</th>\n",
       "      <td>191</td>\n",
       "      <td>763</td>\n",
       "      <td>2023-01-01</td>\n",
       "      <td>697</td>\n",
       "      <td>Amazon</td>\n",
       "      <td>Electronics</td>\n",
       "      <td>Credit Card</td>\n",
       "    </tr>\n",
       "    <tr>\n",
       "      <th>263</th>\n",
       "      <td>264</td>\n",
       "      <td>528</td>\n",
       "      <td>2023-01-01</td>\n",
       "      <td>421</td>\n",
       "      <td>Amazon</td>\n",
       "      <td>Electronics</td>\n",
       "      <td>Credit Card</td>\n",
       "    </tr>\n",
       "    <tr>\n",
       "      <th>311</th>\n",
       "      <td>312</td>\n",
       "      <td>936</td>\n",
       "      <td>2023-01-01</td>\n",
       "      <td>537</td>\n",
       "      <td>Amazon</td>\n",
       "      <td>Electronics</td>\n",
       "      <td>Credit Card</td>\n",
       "    </tr>\n",
       "    <tr>\n",
       "      <th>...</th>\n",
       "      <td>...</td>\n",
       "      <td>...</td>\n",
       "      <td>...</td>\n",
       "      <td>...</td>\n",
       "      <td>...</td>\n",
       "      <td>...</td>\n",
       "      <td>...</td>\n",
       "    </tr>\n",
       "    <tr>\n",
       "      <th>499766</th>\n",
       "      <td>499767</td>\n",
       "      <td>723</td>\n",
       "      <td>2023-09-05</td>\n",
       "      <td>909</td>\n",
       "      <td>Amazon</td>\n",
       "      <td>Electronics</td>\n",
       "      <td>Credit Card</td>\n",
       "    </tr>\n",
       "    <tr>\n",
       "      <th>499793</th>\n",
       "      <td>499794</td>\n",
       "      <td>586</td>\n",
       "      <td>2023-09-05</td>\n",
       "      <td>304</td>\n",
       "      <td>Amazon</td>\n",
       "      <td>Electronics</td>\n",
       "      <td>Credit Card</td>\n",
       "    </tr>\n",
       "    <tr>\n",
       "      <th>499812</th>\n",
       "      <td>499813</td>\n",
       "      <td>688</td>\n",
       "      <td>2023-09-05</td>\n",
       "      <td>425</td>\n",
       "      <td>Amazon</td>\n",
       "      <td>Electronics</td>\n",
       "      <td>Credit Card</td>\n",
       "    </tr>\n",
       "    <tr>\n",
       "      <th>499860</th>\n",
       "      <td>499861</td>\n",
       "      <td>373</td>\n",
       "      <td>2023-09-05</td>\n",
       "      <td>480</td>\n",
       "      <td>Amazon</td>\n",
       "      <td>Electronics</td>\n",
       "      <td>Credit Card</td>\n",
       "    </tr>\n",
       "    <tr>\n",
       "      <th>499885</th>\n",
       "      <td>499886</td>\n",
       "      <td>520</td>\n",
       "      <td>2023-09-05</td>\n",
       "      <td>643</td>\n",
       "      <td>Amazon</td>\n",
       "      <td>Electronics</td>\n",
       "      <td>Credit Card</td>\n",
       "    </tr>\n",
       "  </tbody>\n",
       "</table>\n",
       "<p>10903 rows × 7 columns</p>\n",
       "</div>"
      ],
      "text/plain": [
       "        tran_id  cust_id   tran_date  tran_amount platform product_category  \\\n",
       "109         110      887  2023-01-01          635   Amazon      Electronics   \n",
       "173         174      676  2023-01-01        60439   Amazon      Electronics   \n",
       "190         191      763  2023-01-01          697   Amazon      Electronics   \n",
       "263         264      528  2023-01-01          421   Amazon      Electronics   \n",
       "311         312      936  2023-01-01          537   Amazon      Electronics   \n",
       "...         ...      ...         ...          ...      ...              ...   \n",
       "499766   499767      723  2023-09-05          909   Amazon      Electronics   \n",
       "499793   499794      586  2023-09-05          304   Amazon      Electronics   \n",
       "499812   499813      688  2023-09-05          425   Amazon      Electronics   \n",
       "499860   499861      373  2023-09-05          480   Amazon      Electronics   \n",
       "499885   499886      520  2023-09-05          643   Amazon      Electronics   \n",
       "\n",
       "       payment_type  \n",
       "109     Credit Card  \n",
       "173     Credit Card  \n",
       "190     Credit Card  \n",
       "263     Credit Card  \n",
       "311     Credit Card  \n",
       "...             ...  \n",
       "499766  Credit Card  \n",
       "499793  Credit Card  \n",
       "499812  Credit Card  \n",
       "499860  Credit Card  \n",
       "499885  Credit Card  \n",
       "\n",
       "[10903 rows x 7 columns]"
      ]
     },
     "execution_count": 66,
     "metadata": {},
     "output_type": "execute_result"
    }
   ],
   "source": [
    "df_trans_1[df_trans_1.tran_amount>0]"
   ]
  },
  {
   "cell_type": "code",
   "execution_count": 67,
   "id": "04131810-f83b-4099-91ee-b83a5d3d985e",
   "metadata": {},
   "outputs": [
    {
     "data": {
      "text/plain": [
       "np.float64(554.0)"
      ]
     },
     "execution_count": 67,
     "metadata": {},
     "output_type": "execute_result"
    }
   ],
   "source": [
    "median_to_replace = df_trans_1[df_trans_1.tran_amount>0].tran_amount.median()\n",
    "median_to_replace"
   ]
  },
  {
   "cell_type": "code",
   "execution_count": 68,
   "id": "de297ffe-4d8b-468c-bb10-c71fb5e03afd",
   "metadata": {},
   "outputs": [],
   "source": [
    "df_trans['tran_amount'].replace(0,median_to_replace, inplace=True)"
   ]
  },
  {
   "cell_type": "code",
   "execution_count": 69,
   "id": "f7742a02-d7af-43bd-9067-33f09b367b7e",
   "metadata": {},
   "outputs": [
    {
     "data": {
      "text/html": [
       "<div>\n",
       "<style scoped>\n",
       "    .dataframe tbody tr th:only-of-type {\n",
       "        vertical-align: middle;\n",
       "    }\n",
       "\n",
       "    .dataframe tbody tr th {\n",
       "        vertical-align: top;\n",
       "    }\n",
       "\n",
       "    .dataframe thead th {\n",
       "        text-align: right;\n",
       "    }\n",
       "</style>\n",
       "<table border=\"1\" class=\"dataframe\">\n",
       "  <thead>\n",
       "    <tr style=\"text-align: right;\">\n",
       "      <th></th>\n",
       "      <th>tran_id</th>\n",
       "      <th>cust_id</th>\n",
       "      <th>tran_date</th>\n",
       "      <th>tran_amount</th>\n",
       "      <th>platform</th>\n",
       "      <th>product_category</th>\n",
       "      <th>payment_type</th>\n",
       "    </tr>\n",
       "  </thead>\n",
       "  <tbody>\n",
       "  </tbody>\n",
       "</table>\n",
       "</div>"
      ],
      "text/plain": [
       "Empty DataFrame\n",
       "Columns: [tran_id, cust_id, tran_date, tran_amount, platform, product_category, payment_type]\n",
       "Index: []"
      ]
     },
     "execution_count": 69,
     "metadata": {},
     "output_type": "execute_result"
    }
   ],
   "source": [
    "df_trans[df_trans.tran_amount==0]"
   ]
  },
  {
   "cell_type": "code",
   "execution_count": 70,
   "id": "8e869157-7442-4347-bd20-3b24a0a17468",
   "metadata": {},
   "outputs": [
    {
     "data": {
      "text/plain": [
       "count    500000.000000\n",
       "mean       3230.452602\n",
       "std       13097.561071\n",
       "min           2.000000\n",
       "25%          66.000000\n",
       "50%         146.000000\n",
       "75%         413.000000\n",
       "max       69999.000000\n",
       "Name: tran_amount, dtype: float64"
      ]
     },
     "execution_count": 70,
     "metadata": {},
     "output_type": "execute_result"
    }
   ],
   "source": [
    "df_trans.tran_amount.describe()"
   ]
  },
  {
   "cell_type": "code",
   "execution_count": 71,
   "id": "3b578f71-45cc-456c-add8-4206e20b4c5d",
   "metadata": {},
   "outputs": [
    {
     "data": {
      "text/plain": [
       "(-628.0, 1107.0)"
      ]
     },
     "execution_count": 71,
     "metadata": {},
     "output_type": "execute_result"
    }
   ],
   "source": [
    "Q1, Q3 = df_trans['tran_amount'].quantile([0.25, 0.75])\n",
    "IQR = Q3 - Q1\n",
    "lower = Q1 - 2 * IQR\n",
    "upper = Q3 + 2 * IQR\n",
    "\n",
    "lower, upper"
   ]
  },
  {
   "cell_type": "code",
   "execution_count": 72,
   "id": "d222cc07-d249-4a22-be83-150bcb5e6da6",
   "metadata": {},
   "outputs": [
    {
     "data": {
      "text/html": [
       "<div>\n",
       "<style scoped>\n",
       "    .dataframe tbody tr th:only-of-type {\n",
       "        vertical-align: middle;\n",
       "    }\n",
       "\n",
       "    .dataframe tbody tr th {\n",
       "        vertical-align: top;\n",
       "    }\n",
       "\n",
       "    .dataframe thead th {\n",
       "        text-align: right;\n",
       "    }\n",
       "</style>\n",
       "<table border=\"1\" class=\"dataframe\">\n",
       "  <thead>\n",
       "    <tr style=\"text-align: right;\">\n",
       "      <th></th>\n",
       "      <th>tran_id</th>\n",
       "      <th>cust_id</th>\n",
       "      <th>tran_date</th>\n",
       "      <th>tran_amount</th>\n",
       "      <th>platform</th>\n",
       "      <th>product_category</th>\n",
       "      <th>payment_type</th>\n",
       "    </tr>\n",
       "  </thead>\n",
       "  <tbody>\n",
       "    <tr>\n",
       "      <th>26</th>\n",
       "      <td>27</td>\n",
       "      <td>380</td>\n",
       "      <td>2023-01-01</td>\n",
       "      <td>61963</td>\n",
       "      <td>Shopify</td>\n",
       "      <td>Beauty &amp; Personal Care</td>\n",
       "      <td>Credit Card</td>\n",
       "    </tr>\n",
       "    <tr>\n",
       "      <th>49</th>\n",
       "      <td>50</td>\n",
       "      <td>287</td>\n",
       "      <td>2023-01-01</td>\n",
       "      <td>57869</td>\n",
       "      <td>Amazon</td>\n",
       "      <td>Toys &amp; Games</td>\n",
       "      <td>Gpay</td>\n",
       "    </tr>\n",
       "    <tr>\n",
       "      <th>94</th>\n",
       "      <td>95</td>\n",
       "      <td>770</td>\n",
       "      <td>2023-01-01</td>\n",
       "      <td>52881</td>\n",
       "      <td>Ebay</td>\n",
       "      <td>Kitchen Appliances</td>\n",
       "      <td>Credit Card</td>\n",
       "    </tr>\n",
       "    <tr>\n",
       "      <th>104</th>\n",
       "      <td>105</td>\n",
       "      <td>549</td>\n",
       "      <td>2023-01-01</td>\n",
       "      <td>58574</td>\n",
       "      <td>Flipkart</td>\n",
       "      <td>Fashion &amp; Apparel</td>\n",
       "      <td>Gpay</td>\n",
       "    </tr>\n",
       "    <tr>\n",
       "      <th>113</th>\n",
       "      <td>114</td>\n",
       "      <td>790</td>\n",
       "      <td>2023-01-01</td>\n",
       "      <td>51669</td>\n",
       "      <td>Shopify</td>\n",
       "      <td>Kitchen Appliances</td>\n",
       "      <td>Credit Card</td>\n",
       "    </tr>\n",
       "    <tr>\n",
       "      <th>...</th>\n",
       "      <td>...</td>\n",
       "      <td>...</td>\n",
       "      <td>...</td>\n",
       "      <td>...</td>\n",
       "      <td>...</td>\n",
       "      <td>...</td>\n",
       "      <td>...</td>\n",
       "    </tr>\n",
       "    <tr>\n",
       "      <th>499742</th>\n",
       "      <td>499743</td>\n",
       "      <td>868</td>\n",
       "      <td>2023-09-05</td>\n",
       "      <td>55131</td>\n",
       "      <td>Meesho</td>\n",
       "      <td>Fashion &amp; Apparel</td>\n",
       "      <td>Gpay</td>\n",
       "    </tr>\n",
       "    <tr>\n",
       "      <th>499888</th>\n",
       "      <td>499889</td>\n",
       "      <td>614</td>\n",
       "      <td>2023-09-05</td>\n",
       "      <td>59679</td>\n",
       "      <td>Meesho</td>\n",
       "      <td>Fashion &amp; Apparel</td>\n",
       "      <td>Net Banking</td>\n",
       "    </tr>\n",
       "    <tr>\n",
       "      <th>499900</th>\n",
       "      <td>499901</td>\n",
       "      <td>811</td>\n",
       "      <td>2023-09-05</td>\n",
       "      <td>60184</td>\n",
       "      <td>Flipkart</td>\n",
       "      <td>Sports</td>\n",
       "      <td>Debit Card</td>\n",
       "    </tr>\n",
       "    <tr>\n",
       "      <th>499966</th>\n",
       "      <td>499967</td>\n",
       "      <td>662</td>\n",
       "      <td>2023-09-05</td>\n",
       "      <td>54678</td>\n",
       "      <td>Meesho</td>\n",
       "      <td>Sports</td>\n",
       "      <td>Gpay</td>\n",
       "    </tr>\n",
       "    <tr>\n",
       "      <th>499996</th>\n",
       "      <td>499997</td>\n",
       "      <td>569</td>\n",
       "      <td>2023-09-05</td>\n",
       "      <td>53022</td>\n",
       "      <td>Meesho</td>\n",
       "      <td>Fashion &amp; Apparel</td>\n",
       "      <td>Net Banking</td>\n",
       "    </tr>\n",
       "  </tbody>\n",
       "</table>\n",
       "<p>25000 rows × 7 columns</p>\n",
       "</div>"
      ],
      "text/plain": [
       "        tran_id  cust_id   tran_date  tran_amount  platform  \\\n",
       "26           27      380  2023-01-01        61963   Shopify   \n",
       "49           50      287  2023-01-01        57869    Amazon   \n",
       "94           95      770  2023-01-01        52881      Ebay   \n",
       "104         105      549  2023-01-01        58574  Flipkart   \n",
       "113         114      790  2023-01-01        51669   Shopify   \n",
       "...         ...      ...         ...          ...       ...   \n",
       "499742   499743      868  2023-09-05        55131    Meesho   \n",
       "499888   499889      614  2023-09-05        59679    Meesho   \n",
       "499900   499901      811  2023-09-05        60184  Flipkart   \n",
       "499966   499967      662  2023-09-05        54678    Meesho   \n",
       "499996   499997      569  2023-09-05        53022    Meesho   \n",
       "\n",
       "              product_category payment_type  \n",
       "26      Beauty & Personal Care  Credit Card  \n",
       "49                Toys & Games         Gpay  \n",
       "94          Kitchen Appliances  Credit Card  \n",
       "104          Fashion & Apparel         Gpay  \n",
       "113         Kitchen Appliances  Credit Card  \n",
       "...                        ...          ...  \n",
       "499742       Fashion & Apparel         Gpay  \n",
       "499888       Fashion & Apparel  Net Banking  \n",
       "499900                  Sports   Debit Card  \n",
       "499966                  Sports         Gpay  \n",
       "499996       Fashion & Apparel  Net Banking  \n",
       "\n",
       "[25000 rows x 7 columns]"
      ]
     },
     "execution_count": 72,
     "metadata": {},
     "output_type": "execute_result"
    }
   ],
   "source": [
    "df_trans_outliers = df_trans[df_trans.tran_amount>=upper]\n",
    "df_trans_outliers"
   ]
  },
  {
   "cell_type": "code",
   "execution_count": 73,
   "id": "9412a851-3248-4fed-97e9-2b35fed9142f",
   "metadata": {},
   "outputs": [
    {
     "data": {
      "text/plain": [
       "(25000, 7)"
      ]
     },
     "execution_count": 73,
     "metadata": {},
     "output_type": "execute_result"
    }
   ],
   "source": [
    "df_trans_outliers.shape"
   ]
  },
  {
   "cell_type": "code",
   "execution_count": 75,
   "id": "c22b206e-c9e6-438d-94fb-04413b66c030",
   "metadata": {},
   "outputs": [
    {
     "data": {
      "text/html": [
       "<div>\n",
       "<style scoped>\n",
       "    .dataframe tbody tr th:only-of-type {\n",
       "        vertical-align: middle;\n",
       "    }\n",
       "\n",
       "    .dataframe tbody tr th {\n",
       "        vertical-align: top;\n",
       "    }\n",
       "\n",
       "    .dataframe thead th {\n",
       "        text-align: right;\n",
       "    }\n",
       "</style>\n",
       "<table border=\"1\" class=\"dataframe\">\n",
       "  <thead>\n",
       "    <tr style=\"text-align: right;\">\n",
       "      <th></th>\n",
       "      <th>tran_id</th>\n",
       "      <th>cust_id</th>\n",
       "      <th>tran_date</th>\n",
       "      <th>tran_amount</th>\n",
       "      <th>platform</th>\n",
       "      <th>product_category</th>\n",
       "      <th>payment_type</th>\n",
       "    </tr>\n",
       "  </thead>\n",
       "  <tbody>\n",
       "    <tr>\n",
       "      <th>0</th>\n",
       "      <td>1</td>\n",
       "      <td>705</td>\n",
       "      <td>2023-01-01</td>\n",
       "      <td>63</td>\n",
       "      <td>Flipkart</td>\n",
       "      <td>Electronics</td>\n",
       "      <td>Phonepe</td>\n",
       "    </tr>\n",
       "    <tr>\n",
       "      <th>1</th>\n",
       "      <td>2</td>\n",
       "      <td>385</td>\n",
       "      <td>2023-01-01</td>\n",
       "      <td>99</td>\n",
       "      <td>Alibaba</td>\n",
       "      <td>Fashion &amp; Apparel</td>\n",
       "      <td>Credit Card</td>\n",
       "    </tr>\n",
       "    <tr>\n",
       "      <th>2</th>\n",
       "      <td>3</td>\n",
       "      <td>924</td>\n",
       "      <td>2023-01-01</td>\n",
       "      <td>471</td>\n",
       "      <td>Shopify</td>\n",
       "      <td>Sports</td>\n",
       "      <td>Phonepe</td>\n",
       "    </tr>\n",
       "    <tr>\n",
       "      <th>3</th>\n",
       "      <td>4</td>\n",
       "      <td>797</td>\n",
       "      <td>2023-01-01</td>\n",
       "      <td>33</td>\n",
       "      <td>Shopify</td>\n",
       "      <td>Fashion &amp; Apparel</td>\n",
       "      <td>Gpay</td>\n",
       "    </tr>\n",
       "    <tr>\n",
       "      <th>4</th>\n",
       "      <td>5</td>\n",
       "      <td>482</td>\n",
       "      <td>2023-01-01</td>\n",
       "      <td>68</td>\n",
       "      <td>Amazon</td>\n",
       "      <td>Fashion &amp; Apparel</td>\n",
       "      <td>Net Banking</td>\n",
       "    </tr>\n",
       "  </tbody>\n",
       "</table>\n",
       "</div>"
      ],
      "text/plain": [
       "   tran_id  cust_id   tran_date  tran_amount  platform   product_category  \\\n",
       "0        1      705  2023-01-01           63  Flipkart        Electronics   \n",
       "1        2      385  2023-01-01           99   Alibaba  Fashion & Apparel   \n",
       "2        3      924  2023-01-01          471   Shopify             Sports   \n",
       "3        4      797  2023-01-01           33   Shopify  Fashion & Apparel   \n",
       "4        5      482  2023-01-01           68    Amazon  Fashion & Apparel   \n",
       "\n",
       "  payment_type  \n",
       "0      Phonepe  \n",
       "1  Credit Card  \n",
       "2      Phonepe  \n",
       "3         Gpay  \n",
       "4  Net Banking  "
      ]
     },
     "execution_count": 75,
     "metadata": {},
     "output_type": "execute_result"
    }
   ],
   "source": [
    "df_trans_normal = df_trans[df_trans.tran_amount<upper]\n",
    "df_trans_normal.head()"
   ]
  },
  {
   "cell_type": "code",
   "execution_count": 76,
   "id": "39cd21f8-4274-4ab0-bec6-a233817d229f",
   "metadata": {},
   "outputs": [
    {
     "data": {
      "text/plain": [
       "product_category\n",
       "Beauty & Personal Care     92.167205\n",
       "Books                      29.553515\n",
       "Electronics               510.172685\n",
       "Fashion & Apparel          64.553463\n",
       "Garden & Outdoor          125.630277\n",
       "Home Decor                302.487561\n",
       "Kitchen Appliances        176.773288\n",
       "Sports                    269.181631\n",
       "Toys & Games               50.333298\n",
       "Name: tran_amount, dtype: float64"
      ]
     },
     "execution_count": 76,
     "metadata": {},
     "output_type": "execute_result"
    }
   ],
   "source": [
    "tran_mean_per_category = df_trans_normal.groupby(\"product_category\")[\"tran_amount\"].mean()\n",
    "tran_mean_per_category"
   ]
  },
  {
   "cell_type": "code",
   "execution_count": 77,
   "id": "fcc3438a-0536-4f1f-b2d0-29c653ad62e8",
   "metadata": {},
   "outputs": [],
   "source": [
    "df_trans.loc[df_trans_outliers.index, 'tran_amount'] = df_trans_outliers['product_category'].map(tran_mean_per_category)"
   ]
  },
  {
   "cell_type": "code",
   "execution_count": 78,
   "id": "7b3b81f2-753e-428f-9dc7-65f996fe0e84",
   "metadata": {},
   "outputs": [
    {
     "data": {
      "text/html": [
       "<div>\n",
       "<style scoped>\n",
       "    .dataframe tbody tr th:only-of-type {\n",
       "        vertical-align: middle;\n",
       "    }\n",
       "\n",
       "    .dataframe tbody tr th {\n",
       "        vertical-align: top;\n",
       "    }\n",
       "\n",
       "    .dataframe thead th {\n",
       "        text-align: right;\n",
       "    }\n",
       "</style>\n",
       "<table border=\"1\" class=\"dataframe\">\n",
       "  <thead>\n",
       "    <tr style=\"text-align: right;\">\n",
       "      <th></th>\n",
       "      <th>tran_id</th>\n",
       "      <th>cust_id</th>\n",
       "      <th>tran_date</th>\n",
       "      <th>tran_amount</th>\n",
       "      <th>platform</th>\n",
       "      <th>product_category</th>\n",
       "      <th>payment_type</th>\n",
       "    </tr>\n",
       "  </thead>\n",
       "  <tbody>\n",
       "    <tr>\n",
       "      <th>26</th>\n",
       "      <td>27</td>\n",
       "      <td>380</td>\n",
       "      <td>2023-01-01</td>\n",
       "      <td>92.167205</td>\n",
       "      <td>Shopify</td>\n",
       "      <td>Beauty &amp; Personal Care</td>\n",
       "      <td>Credit Card</td>\n",
       "    </tr>\n",
       "    <tr>\n",
       "      <th>49</th>\n",
       "      <td>50</td>\n",
       "      <td>287</td>\n",
       "      <td>2023-01-01</td>\n",
       "      <td>50.333298</td>\n",
       "      <td>Amazon</td>\n",
       "      <td>Toys &amp; Games</td>\n",
       "      <td>Gpay</td>\n",
       "    </tr>\n",
       "    <tr>\n",
       "      <th>94</th>\n",
       "      <td>95</td>\n",
       "      <td>770</td>\n",
       "      <td>2023-01-01</td>\n",
       "      <td>176.773288</td>\n",
       "      <td>Ebay</td>\n",
       "      <td>Kitchen Appliances</td>\n",
       "      <td>Credit Card</td>\n",
       "    </tr>\n",
       "    <tr>\n",
       "      <th>104</th>\n",
       "      <td>105</td>\n",
       "      <td>549</td>\n",
       "      <td>2023-01-01</td>\n",
       "      <td>64.553463</td>\n",
       "      <td>Flipkart</td>\n",
       "      <td>Fashion &amp; Apparel</td>\n",
       "      <td>Gpay</td>\n",
       "    </tr>\n",
       "    <tr>\n",
       "      <th>113</th>\n",
       "      <td>114</td>\n",
       "      <td>790</td>\n",
       "      <td>2023-01-01</td>\n",
       "      <td>176.773288</td>\n",
       "      <td>Shopify</td>\n",
       "      <td>Kitchen Appliances</td>\n",
       "      <td>Credit Card</td>\n",
       "    </tr>\n",
       "    <tr>\n",
       "      <th>...</th>\n",
       "      <td>...</td>\n",
       "      <td>...</td>\n",
       "      <td>...</td>\n",
       "      <td>...</td>\n",
       "      <td>...</td>\n",
       "      <td>...</td>\n",
       "      <td>...</td>\n",
       "    </tr>\n",
       "    <tr>\n",
       "      <th>499742</th>\n",
       "      <td>499743</td>\n",
       "      <td>868</td>\n",
       "      <td>2023-09-05</td>\n",
       "      <td>64.553463</td>\n",
       "      <td>Meesho</td>\n",
       "      <td>Fashion &amp; Apparel</td>\n",
       "      <td>Gpay</td>\n",
       "    </tr>\n",
       "    <tr>\n",
       "      <th>499888</th>\n",
       "      <td>499889</td>\n",
       "      <td>614</td>\n",
       "      <td>2023-09-05</td>\n",
       "      <td>64.553463</td>\n",
       "      <td>Meesho</td>\n",
       "      <td>Fashion &amp; Apparel</td>\n",
       "      <td>Net Banking</td>\n",
       "    </tr>\n",
       "    <tr>\n",
       "      <th>499900</th>\n",
       "      <td>499901</td>\n",
       "      <td>811</td>\n",
       "      <td>2023-09-05</td>\n",
       "      <td>269.181631</td>\n",
       "      <td>Flipkart</td>\n",
       "      <td>Sports</td>\n",
       "      <td>Debit Card</td>\n",
       "    </tr>\n",
       "    <tr>\n",
       "      <th>499966</th>\n",
       "      <td>499967</td>\n",
       "      <td>662</td>\n",
       "      <td>2023-09-05</td>\n",
       "      <td>269.181631</td>\n",
       "      <td>Meesho</td>\n",
       "      <td>Sports</td>\n",
       "      <td>Gpay</td>\n",
       "    </tr>\n",
       "    <tr>\n",
       "      <th>499996</th>\n",
       "      <td>499997</td>\n",
       "      <td>569</td>\n",
       "      <td>2023-09-05</td>\n",
       "      <td>64.553463</td>\n",
       "      <td>Meesho</td>\n",
       "      <td>Fashion &amp; Apparel</td>\n",
       "      <td>Net Banking</td>\n",
       "    </tr>\n",
       "  </tbody>\n",
       "</table>\n",
       "<p>25000 rows × 7 columns</p>\n",
       "</div>"
      ],
      "text/plain": [
       "        tran_id  cust_id   tran_date  tran_amount  platform  \\\n",
       "26           27      380  2023-01-01    92.167205   Shopify   \n",
       "49           50      287  2023-01-01    50.333298    Amazon   \n",
       "94           95      770  2023-01-01   176.773288      Ebay   \n",
       "104         105      549  2023-01-01    64.553463  Flipkart   \n",
       "113         114      790  2023-01-01   176.773288   Shopify   \n",
       "...         ...      ...         ...          ...       ...   \n",
       "499742   499743      868  2023-09-05    64.553463    Meesho   \n",
       "499888   499889      614  2023-09-05    64.553463    Meesho   \n",
       "499900   499901      811  2023-09-05   269.181631  Flipkart   \n",
       "499966   499967      662  2023-09-05   269.181631    Meesho   \n",
       "499996   499997      569  2023-09-05    64.553463    Meesho   \n",
       "\n",
       "              product_category payment_type  \n",
       "26      Beauty & Personal Care  Credit Card  \n",
       "49                Toys & Games         Gpay  \n",
       "94          Kitchen Appliances  Credit Card  \n",
       "104          Fashion & Apparel         Gpay  \n",
       "113         Kitchen Appliances  Credit Card  \n",
       "...                        ...          ...  \n",
       "499742       Fashion & Apparel         Gpay  \n",
       "499888       Fashion & Apparel  Net Banking  \n",
       "499900                  Sports   Debit Card  \n",
       "499966                  Sports         Gpay  \n",
       "499996       Fashion & Apparel  Net Banking  \n",
       "\n",
       "[25000 rows x 7 columns]"
      ]
     },
     "execution_count": 78,
     "metadata": {},
     "output_type": "execute_result"
    }
   ],
   "source": [
    "df_trans.loc[df_trans_outliers.index]"
   ]
  },
  {
   "cell_type": "code",
   "execution_count": 79,
   "id": "109de533-7e32-45fc-b0fa-6d5154b9144c",
   "metadata": {},
   "outputs": [
    {
     "data": {
      "text/plain": [
       "<Axes: xlabel='tran_amount', ylabel='Count'>"
      ]
     },
     "execution_count": 79,
     "metadata": {},
     "output_type": "execute_result"
    },
    {
     "data": {
      "image/png": "[encoded data removed]",
      "text/plain": [
       "<Figure size 640x480 with 1 Axes>"
      ]
     },
     "metadata": {},
     "output_type": "display_data"
    }
   ],
   "source": [
    "sns.histplot(x='tran_amount', data=df_trans, bins=20, kde=True)"
   ]
  },
  {
   "cell_type": "code",
   "execution_count": 80,
   "id": "543fc8d1-df35-4948-8c7c-e0037e96f0b8",
   "metadata": {},
   "outputs": [
    {
     "data": {
      "text/html": [
       "<div>\n",
       "<style scoped>\n",
       "    .dataframe tbody tr th:only-of-type {\n",
       "        vertical-align: middle;\n",
       "    }\n",
       "\n",
       "    .dataframe tbody tr th {\n",
       "        vertical-align: top;\n",
       "    }\n",
       "\n",
       "    .dataframe thead th {\n",
       "        text-align: right;\n",
       "    }\n",
       "</style>\n",
       "<table border=\"1\" class=\"dataframe\">\n",
       "  <thead>\n",
       "    <tr style=\"text-align: right;\">\n",
       "      <th></th>\n",
       "      <th>tran_id</th>\n",
       "      <th>cust_id</th>\n",
       "      <th>tran_date</th>\n",
       "      <th>tran_amount</th>\n",
       "      <th>platform</th>\n",
       "      <th>product_category</th>\n",
       "      <th>payment_type</th>\n",
       "    </tr>\n",
       "  </thead>\n",
       "  <tbody>\n",
       "    <tr>\n",
       "      <th>0</th>\n",
       "      <td>1</td>\n",
       "      <td>705</td>\n",
       "      <td>2023-01-01</td>\n",
       "      <td>63.0</td>\n",
       "      <td>Flipkart</td>\n",
       "      <td>Electronics</td>\n",
       "      <td>Phonepe</td>\n",
       "    </tr>\n",
       "    <tr>\n",
       "      <th>1</th>\n",
       "      <td>2</td>\n",
       "      <td>385</td>\n",
       "      <td>2023-01-01</td>\n",
       "      <td>99.0</td>\n",
       "      <td>Alibaba</td>\n",
       "      <td>Fashion &amp; Apparel</td>\n",
       "      <td>Credit Card</td>\n",
       "    </tr>\n",
       "    <tr>\n",
       "      <th>2</th>\n",
       "      <td>3</td>\n",
       "      <td>924</td>\n",
       "      <td>2023-01-01</td>\n",
       "      <td>471.0</td>\n",
       "      <td>Shopify</td>\n",
       "      <td>Sports</td>\n",
       "      <td>Phonepe</td>\n",
       "    </tr>\n",
       "  </tbody>\n",
       "</table>\n",
       "</div>"
      ],
      "text/plain": [
       "   tran_id  cust_id   tran_date  tran_amount  platform   product_category  \\\n",
       "0        1      705  2023-01-01         63.0  Flipkart        Electronics   \n",
       "1        2      385  2023-01-01         99.0   Alibaba  Fashion & Apparel   \n",
       "2        3      924  2023-01-01        471.0   Shopify             Sports   \n",
       "\n",
       "  payment_type  \n",
       "0      Phonepe  \n",
       "1  Credit Card  \n",
       "2      Phonepe  "
      ]
     },
     "execution_count": 80,
     "metadata": {},
     "output_type": "execute_result"
    }
   ],
   "source": [
    "df_trans.head(3)"
   ]
  },
  {
   "cell_type": "code",
   "execution_count": 81,
   "id": "4f991941-e848-46a3-b713-fd009bf1c078",
   "metadata": {},
   "outputs": [
    {
     "data": {
      "text/plain": [
       "<Axes: xlabel='payment_type', ylabel='percent'>"
      ]
     },
     "execution_count": 81,
     "metadata": {},
     "output_type": "execute_result"
    },
    {
     "data": {
      "image/png": "[encoded data removed]",
      "text/plain": [
       "<Figure size 640x480 with 1 Axes>"
      ]
     },
     "metadata": {},
     "output_type": "display_data"
    }
   ],
   "source": [
    "sns.countplot(x=df_trans.payment_type, stat='percent')"
   ]
  },
  {
   "cell_type": "code",
   "execution_count": 96,
   "id": "05ae41df-b6de-489f-9805-c18144840c0a",
   "metadata": {},
   "outputs": [
    {
     "data": {
      "text/html": [
       "<div>\n",
       "<style scoped>\n",
       "    .dataframe tbody tr th:only-of-type {\n",
       "        vertical-align: middle;\n",
       "    }\n",
       "\n",
       "    .dataframe tbody tr th {\n",
       "        vertical-align: top;\n",
       "    }\n",
       "\n",
       "    .dataframe thead th {\n",
       "        text-align: right;\n",
       "    }\n",
       "</style>\n",
       "<table border=\"1\" class=\"dataframe\">\n",
       "  <thead>\n",
       "    <tr style=\"text-align: right;\">\n",
       "      <th></th>\n",
       "      <th>cust_id</th>\n",
       "      <th>name</th>\n",
       "      <th>gender</th>\n",
       "      <th>age</th>\n",
       "      <th>location</th>\n",
       "      <th>occupation</th>\n",
       "      <th>annual_income</th>\n",
       "      <th>marital_status</th>\n",
       "      <th>age_group</th>\n",
       "      <th>credit_score</th>\n",
       "      <th>...</th>\n",
       "      <th>credit_inquiries_last_6_months</th>\n",
       "      <th>credit_limit</th>\n",
       "      <th>credit_score_range</th>\n",
       "      <th>credit_limit_mode</th>\n",
       "      <th>tran_id</th>\n",
       "      <th>tran_date</th>\n",
       "      <th>tran_amount</th>\n",
       "      <th>platform</th>\n",
       "      <th>product_category</th>\n",
       "      <th>payment_type</th>\n",
       "    </tr>\n",
       "  </thead>\n",
       "  <tbody>\n",
       "    <tr>\n",
       "      <th>0</th>\n",
       "      <td>1</td>\n",
       "      <td>Manya Acharya</td>\n",
       "      <td>Female</td>\n",
       "      <td>49.740484</td>\n",
       "      <td>City</td>\n",
       "      <td>Business Owner</td>\n",
       "      <td>358211.0</td>\n",
       "      <td>Married</td>\n",
       "      <td>49-65</td>\n",
       "      <td>749</td>\n",
       "      <td>...</td>\n",
       "      <td>0.0</td>\n",
       "      <td>40000.0</td>\n",
       "      <td>700-749</td>\n",
       "      <td>40000.0</td>\n",
       "      <td>1283</td>\n",
       "      <td>2023-01-01</td>\n",
       "      <td>30.0</td>\n",
       "      <td>Shopify</td>\n",
       "      <td>Fashion &amp; Apparel</td>\n",
       "      <td>Net Banking</td>\n",
       "    </tr>\n",
       "    <tr>\n",
       "      <th>1</th>\n",
       "      <td>1</td>\n",
       "      <td>Manya Acharya</td>\n",
       "      <td>Female</td>\n",
       "      <td>49.740484</td>\n",
       "      <td>City</td>\n",
       "      <td>Business Owner</td>\n",
       "      <td>358211.0</td>\n",
       "      <td>Married</td>\n",
       "      <td>49-65</td>\n",
       "      <td>749</td>\n",
       "      <td>...</td>\n",
       "      <td>0.0</td>\n",
       "      <td>40000.0</td>\n",
       "      <td>700-749</td>\n",
       "      <td>40000.0</td>\n",
       "      <td>1382</td>\n",
       "      <td>2023-01-01</td>\n",
       "      <td>96.0</td>\n",
       "      <td>Amazon</td>\n",
       "      <td>Sports</td>\n",
       "      <td>Debit Card</td>\n",
       "    </tr>\n",
       "    <tr>\n",
       "      <th>2</th>\n",
       "      <td>1</td>\n",
       "      <td>Manya Acharya</td>\n",
       "      <td>Female</td>\n",
       "      <td>49.740484</td>\n",
       "      <td>City</td>\n",
       "      <td>Business Owner</td>\n",
       "      <td>358211.0</td>\n",
       "      <td>Married</td>\n",
       "      <td>49-65</td>\n",
       "      <td>749</td>\n",
       "      <td>...</td>\n",
       "      <td>0.0</td>\n",
       "      <td>40000.0</td>\n",
       "      <td>700-749</td>\n",
       "      <td>40000.0</td>\n",
       "      <td>1521</td>\n",
       "      <td>2023-01-01</td>\n",
       "      <td>86.0</td>\n",
       "      <td>Meesho</td>\n",
       "      <td>Garden &amp; Outdoor</td>\n",
       "      <td>Gpay</td>\n",
       "    </tr>\n",
       "  </tbody>\n",
       "</table>\n",
       "<p>3 rows × 22 columns</p>\n",
       "</div>"
      ],
      "text/plain": [
       "   cust_id           name  gender        age location      occupation  \\\n",
       "0        1  Manya Acharya  Female  49.740484     City  Business Owner   \n",
       "1        1  Manya Acharya  Female  49.740484     City  Business Owner   \n",
       "2        1  Manya Acharya  Female  49.740484     City  Business Owner   \n",
       "\n",
       "   annual_income marital_status age_group  credit_score  ...  \\\n",
       "0       358211.0        Married     49-65           749  ...   \n",
       "1       358211.0        Married     49-65           749  ...   \n",
       "2       358211.0        Married     49-65           749  ...   \n",
       "\n",
       "   credit_inquiries_last_6_months  credit_limit  credit_score_range  \\\n",
       "0                             0.0       40000.0             700-749   \n",
       "1                             0.0       40000.0             700-749   \n",
       "2                             0.0       40000.0             700-749   \n",
       "\n",
       "   credit_limit_mode tran_id   tran_date  tran_amount platform  \\\n",
       "0            40000.0    1283  2023-01-01         30.0  Shopify   \n",
       "1            40000.0    1382  2023-01-01         96.0   Amazon   \n",
       "2            40000.0    1521  2023-01-01         86.0   Meesho   \n",
       "\n",
       "    product_category payment_type  \n",
       "0  Fashion & Apparel  Net Banking  \n",
       "1             Sports   Debit Card  \n",
       "2   Garden & Outdoor         Gpay  \n",
       "\n",
       "[3 rows x 22 columns]"
      ]
     },
     "execution_count": 96,
     "metadata": {},
     "output_type": "execute_result"
    }
   ],
   "source": [
    "df_merged_2 = df_merged.merge(df_trans, on='cust_id', how='inner')\n",
    "df_merged_2.head(3)"
   ]
  },
  {
   "cell_type": "code",
   "execution_count": 98,
   "id": "23adca40-12c8-491b-b937-989010575412",
   "metadata": {},
   "outputs": [
    {
     "data": {
      "image/png": "[encoded data removed]",
      "text/plain": [
       "<Figure size 500x500 with 1 Axes>"
      ]
     },
     "metadata": {},
     "output_type": "display_data"
    }
   ],
   "source": [
    "plt.figure(figsize=(5, 5))\n",
    "sns.countplot(x='age_group', hue='payment_type', data=df_merged_2, palette='Set3')\n",
    "plt.title('Distribution of Payment types across Age groups')\n",
    "plt.xlabel('Age Group')\n",
    "plt.ylabel('Count')\n",
    "plt.xticks(rotation=0)\n",
    "plt.legend(title='Payment Type', loc='upper right')\n",
    "\n",
    "plt.show()"
   ]
  },
  {
   "cell_type": "code",
   "execution_count": 102,
   "id": "65ce2fec-f538-4930-bf8b-aec6ec1c1774",
   "metadata": {},
   "outputs": [
    {
     "data": {
      "image/png": "[encoded data removed]",
      "text/plain": [
       "<Figure size 1200x600 with 2 Axes>"
      ]
     },
     "metadata": {},
     "output_type": "display_data"
    }
   ],
   "source": [
    "fig, (ax1, ax2) = plt.subplots(1,2, figsize=(12,6))\n",
    "\n",
    "sns.countplot(x='age_group', hue=\"product_category\", data=df_merged_2, ax=ax1)\n",
    "ax1.set_title(\"Product Category Count By Age Group\")\n",
    "ax1.set_xlabel(\"Age Group\")\n",
    "ax1.set_ylabel(\"Count\")\n",
    "ax1.legend(title=\"Product Category\", loc='upper right')\n",
    "\n",
    "sns.countplot(x='age_group', hue=\"platform\", data=df_merged_2, ax=ax2)\n",
    "ax2.set_title(\"Platform Count By Age Group\")\n",
    "ax2.set_xlabel(\"Age Group\")\n",
    "ax2.set_ylabel(\"Count\")\n",
    "ax2.legend(title=\"Product Category\", loc='upper right')\n",
    "\n",
    "plt.show()"
   ]
  },
  {
   "cell_type": "code",
   "execution_count": 103,
   "id": "4b74cbc1-08b2-41c7-aeee-52de7b756d2a",
   "metadata": {},
   "outputs": [
    {
     "data": {
      "image/png": "[encoded data removed]",
      "text/plain": [
       "<Figure size 1200x1200 with 5 Axes>"
      ]
     },
     "metadata": {},
     "output_type": "display_data"
    }
   ],
   "source": [
    "# List of categorical columns\n",
    "cat_cols = ['payment_type', 'platform', 'product_category', 'marital_status', 'age_group']\n",
    "\n",
    "num_rows = 3\n",
    "# Create subplots\n",
    "fig, axes = plt.subplots(num_rows, 2, figsize=(12, 4 * num_rows))\n",
    "\n",
    "# Flatten the axes array to make it easier to iterate\n",
    "axes = axes.flatten()\n",
    "\n",
    "# Create subplots for each categorical column\n",
    "for i, cat_col in enumerate(cat_cols):\n",
    "    # Calculate the average annual income for each category\n",
    "    avg_tran_amount_by_category = df_merged_2.groupby(cat_col)['tran_amount'].mean().reset_index()\n",
    "    \n",
    "    # Sort the data by 'annual_income' before plotting\n",
    "    sorted_data = avg_tran_amount_by_category.sort_values(by='tran_amount', ascending=False)\n",
    "    \n",
    "    sns.barplot(x=cat_col, y='tran_amount', data=sorted_data, ci=None, ax=axes[i], palette='tab10')\n",
    "    axes[i].set_title(f'Average transaction amount by {cat_col}')\n",
    "    axes[i].set_xlabel(cat_col)\n",
    "    axes[i].set_ylabel('Average transaction amount')\n",
    "\n",
    "    # Rotate x-axis labels for better readability\n",
    "    axes[i].set_xticklabels(axes[i].get_xticklabels(), rotation=45)\n",
    "\n",
    "# Hide any unused subplots\n",
    "for i in range(len(cat_cols), len(axes)):\n",
    "    fig.delaxes(axes[i])\n",
    "plt.tight_layout()\n",
    "plt.show()"
   ]
  },
  {
   "cell_type": "code",
   "execution_count": 104,
   "id": "7332c370-5117-4210-8963-4dc19977937b",
   "metadata": {},
   "outputs": [
    {
     "data": {
      "text/html": [
       "<div>\n",
       "<style scoped>\n",
       "    .dataframe tbody tr th:only-of-type {\n",
       "        vertical-align: middle;\n",
       "    }\n",
       "\n",
       "    .dataframe tbody tr th {\n",
       "        vertical-align: top;\n",
       "    }\n",
       "\n",
       "    .dataframe thead th {\n",
       "        text-align: right;\n",
       "    }\n",
       "</style>\n",
       "<table border=\"1\" class=\"dataframe\">\n",
       "  <thead>\n",
       "    <tr style=\"text-align: right;\">\n",
       "      <th></th>\n",
       "      <th>age_group</th>\n",
       "      <th>annual_income</th>\n",
       "      <th>credit_limit</th>\n",
       "      <th>credit_score</th>\n",
       "    </tr>\n",
       "  </thead>\n",
       "  <tbody>\n",
       "    <tr>\n",
       "      <th>0</th>\n",
       "      <td>18-25</td>\n",
       "      <td>34607.508696</td>\n",
       "      <td>886.458333</td>\n",
       "      <td>482.216667</td>\n",
       "    </tr>\n",
       "    <tr>\n",
       "      <th>1</th>\n",
       "      <td>26-48</td>\n",
       "      <td>144348.475046</td>\n",
       "      <td>20459.424084</td>\n",
       "      <td>597.321117</td>\n",
       "    </tr>\n",
       "    <tr>\n",
       "      <th>2</th>\n",
       "      <td>49-65</td>\n",
       "      <td>259148.307263</td>\n",
       "      <td>41699.197861</td>\n",
       "      <td>701.524064</td>\n",
       "    </tr>\n",
       "  </tbody>\n",
       "</table>\n",
       "</div>"
      ],
      "text/plain": [
       "  age_group  annual_income  credit_limit  credit_score\n",
       "0     18-25   34607.508696    886.458333    482.216667\n",
       "1     26-48  144348.475046  20459.424084    597.321117\n",
       "2     49-65  259148.307263  41699.197861    701.524064"
      ]
     },
     "execution_count": 104,
     "metadata": {},
     "output_type": "execute_result"
    }
   ],
   "source": [
    "# Group the data by age group and calculate the average credit_limit and credit_score\n",
    "age_group_metrics = df_merged.groupby('age_group')[['annual_income', 'credit_limit', 'credit_score']].mean().reset_index()\n",
    "age_group_metrics"
   ]
  },
  {
   "cell_type": "code",
   "execution_count": 105,
   "id": "ec012fe7-f000-440b-8678-f88072f24b52",
   "metadata": {},
   "outputs": [
    {
     "data": {
      "image/png": "[encoded data removed]",
      "text/plain": [
       "<Figure size 1200x400 with 3 Axes>"
      ]
     },
     "metadata": {},
     "output_type": "display_data"
    }
   ],
   "source": [
    "# Create subplots\n",
    "fig, (ax1, ax2, ax3) = plt.subplots(1, 3, figsize=(12, 4))\n",
    "\n",
    "# Plot 1: Average annual income by age group\n",
    "sns.barplot(x='age_group', y='annual_income', data=age_group_metrics, palette='tab10', ax=ax1)\n",
    "ax1.set_title('Average Annual Income by Age Group')\n",
    "ax1.set_xlabel('Age Group')\n",
    "ax1.set_ylabel('Average Annual Income')\n",
    "ax1.tick_params(axis='x', rotation=0)\n",
    "\n",
    "# Plot 2: Average Max Credit Limit by Age Group\n",
    "sns.barplot(x='age_group', y='credit_limit', data=age_group_metrics, palette='hls', ax=ax2)\n",
    "ax2.set_title('Average Credit Limit by Age Group')\n",
    "ax2.set_xlabel('Age Group')\n",
    "ax2.set_ylabel('Average Credit Limit')\n",
    "ax2.tick_params(axis='x', rotation=0)\n",
    "\n",
    "# Plot 3: Average Credit Score by Age Group\n",
    "sns.barplot(x='age_group', y='credit_score', data=age_group_metrics, palette='viridis', ax=ax3)\n",
    "ax3.set_title('Average Credit Score by Age Group')\n",
    "ax3.set_xlabel('Age Group')\n",
    "ax3.set_ylabel('Average Credit Score')\n",
    "ax3.tick_params(axis='x', rotation=0)\n",
    "\n",
    "plt.tight_layout()\n",
    "plt.show()"
   ]
  },
  {
   "cell_type": "code",
   "execution_count": null,
   "id": "9d92a544-4799-47ab-b062-b1ed5589f640",
   "metadata": {},
   "outputs": [],
   "source": []
  },
  {
   "cell_type": "markdown",
   "id": "268de88a-045a-4176-91ff-0d52cb0fd1d1",
   "metadata": {
    "jp-MarkdownHeadingCollapsed": true
   },
   "source": [
    "## Phase 2"
   ]
  },
  {
   "cell_type": "code",
   "execution_count": 109,
   "id": "d25b43f0-bcc9-48b7-992e-36f47f9bc5f5",
   "metadata": {},
   "outputs": [],
   "source": [
    "#import required libraries\n",
    "import statsmodels.stats.api as sms\n",
    "import statsmodels.api as sm\n",
    "import pandas as pd\n",
    "import numpy as np\n",
    "from scipy import stats as st\n",
    "from matplotlib import pyplot as plt\n",
    "import seaborn as sns"
   ]
  },
  {
   "cell_type": "code",
   "execution_count": 110,
   "id": "6b8695fb-5872-4f73-b651-7ad202bf8a8e",
   "metadata": {},
   "outputs": [
    {
     "data": {
      "text/plain": [
       "393.40569300025135"
      ]
     },
     "execution_count": 110,
     "metadata": {},
     "output_type": "execute_result"
    }
   ],
   "source": [
    "alpha = 0.05\n",
    "power = 0.8 \n",
    "effect_size=0.2\n",
    "\n",
    "sms.tt_ind_solve_power(\n",
    "    effect_size=0.2, \n",
    "    alpha=alpha, \n",
    "    power=power, \n",
    "    ratio=1, \n",
    "    alternative='two-sided'\n",
    ")"
   ]
  },
  {
   "cell_type": "code",
   "execution_count": 111,
   "id": "f177f642-1f61-4ed8-babe-3874133e3134",
   "metadata": {},
   "outputs": [
    {
     "name": "stdout",
     "output_type": "stream",
     "text": [
      "Effect Size: 0.1, Required Sample Size: 1570 customers\n",
      "Effect Size: 0.2, Required Sample Size: 393 customers\n",
      "Effect Size: 0.3, Required Sample Size: 175 customers\n",
      "Effect Size: 0.4, Required Sample Size: 99 customers\n",
      "Effect Size: 0.5, Required Sample Size: 63 customers\n",
      "Effect Size: 1, Required Sample Size: 16 customers\n"
     ]
    }
   ],
   "source": [
    "# Calculate the required sample size for different effect sizes\n",
    "effect_sizes = [0.1, 0.2, 0.3, 0.4, 0.5,1]  #  standard deviations greater than control group \n",
    "\n",
    "for effect_size in effect_sizes:\n",
    "    sample_size = sms.tt_ind_solve_power(effect_size=effect_size, alpha=alpha, power=power, ratio=1, alternative='two-sided')\n",
    "    print(f\"Effect Size: {effect_size}, Required Sample Size: {int(sample_size)} customers\")"
   ]
  },
  {
   "cell_type": "code",
   "execution_count": 112,
   "id": "26cfc99b-1927-42e8-92b7-3fb7b3098bba",
   "metadata": {},
   "outputs": [
    {
     "data": {
      "text/html": [
       "<div>\n",
       "<style scoped>\n",
       "    .dataframe tbody tr th:only-of-type {\n",
       "        vertical-align: middle;\n",
       "    }\n",
       "\n",
       "    .dataframe tbody tr th {\n",
       "        vertical-align: top;\n",
       "    }\n",
       "\n",
       "    .dataframe thead th {\n",
       "        text-align: right;\n",
       "    }\n",
       "</style>\n",
       "<table border=\"1\" class=\"dataframe\">\n",
       "  <thead>\n",
       "    <tr style=\"text-align: right;\">\n",
       "      <th></th>\n",
       "      <th>campaign_date</th>\n",
       "      <th>control_group_avg_tran</th>\n",
       "      <th>test_group_avg_tran</th>\n",
       "    </tr>\n",
       "  </thead>\n",
       "  <tbody>\n",
       "    <tr>\n",
       "      <th>0</th>\n",
       "      <td>2023-09-10</td>\n",
       "      <td>259.83</td>\n",
       "      <td>277.32</td>\n",
       "    </tr>\n",
       "    <tr>\n",
       "      <th>1</th>\n",
       "      <td>2023-09-11</td>\n",
       "      <td>191.27</td>\n",
       "      <td>248.68</td>\n",
       "    </tr>\n",
       "    <tr>\n",
       "      <th>2</th>\n",
       "      <td>2023-09-12</td>\n",
       "      <td>212.41</td>\n",
       "      <td>286.61</td>\n",
       "    </tr>\n",
       "    <tr>\n",
       "      <th>3</th>\n",
       "      <td>2023-09-13</td>\n",
       "      <td>214.92</td>\n",
       "      <td>214.85</td>\n",
       "    </tr>\n",
       "  </tbody>\n",
       "</table>\n",
       "</div>"
      ],
      "text/plain": [
       "  campaign_date  control_group_avg_tran  test_group_avg_tran\n",
       "0    2023-09-10                  259.83               277.32\n",
       "1    2023-09-11                  191.27               248.68\n",
       "2    2023-09-12                  212.41               286.61\n",
       "3    2023-09-13                  214.92               214.85"
      ]
     },
     "execution_count": 112,
     "metadata": {},
     "output_type": "execute_result"
    }
   ],
   "source": [
    "# Loading campaign results data\n",
    "df = pd.read_csv('data/avg_transactions_after_campaign.csv')\n",
    "df.head(4)"
   ]
  },
  {
   "cell_type": "code",
   "execution_count": 113,
   "id": "a16c14ef-ae95-4f3c-ba8f-eab0d91d845d",
   "metadata": {},
   "outputs": [
    {
     "data": {
      "text/plain": [
       "(62, 3)"
      ]
     },
     "execution_count": 113,
     "metadata": {},
     "output_type": "execute_result"
    }
   ],
   "source": [
    "df.shape"
   ]
  },
  {
   "cell_type": "code",
   "execution_count": 114,
   "id": "7732b646-dee9-49de-91ea-f94ed9cc4a2b",
   "metadata": {},
   "outputs": [
    {
     "data": {
      "image/png": "[encoded data removed]",
      "text/plain": [
       "<Figure size 1100x300 with 2 Axes>"
      ]
     },
     "metadata": {},
     "output_type": "display_data"
    }
   ],
   "source": [
    "# Let's look at distributions of avg transactions amounts in both groups\n",
    "# Create a 1x2 grid of subplots\n",
    "fig, (ax1, ax2) = plt.subplots(1, 2, figsize=(11, 3))\n",
    "\n",
    "# Plot the distribution of Campaign A Sales\n",
    "sns.histplot(df['control_group_avg_tran'], kde=True, color='skyblue', label='Control group avg transaction amounts', ax=ax1)\n",
    "ax1.set_xlabel('Sales')\n",
    "ax1.set_ylabel('Frequency')\n",
    "ax1.set_title('Distribution of Control group avg transaction amounts')\n",
    "ax1.legend()\n",
    "\n",
    "# Plot the distribution of Campaign B Sales\n",
    "sns.histplot(df['test_group_avg_tran'], kde=True, color='lightgreen', label='Test group avg transaction amounts', ax=ax2)\n",
    "ax2.set_xlabel('Sales')\n",
    "ax2.set_ylabel('Frequency')\n",
    "ax2.set_title('Distribution of test group avg transaction amounts')\n",
    "ax2.legend()\n",
    "\n",
    "# Show the plots\n",
    "plt.show()"
   ]
  },
  {
   "cell_type": "code",
   "execution_count": 115,
   "id": "1ca16de9-3cc0-4e2e-b41d-d553a8e6f5df",
   "metadata": {},
   "outputs": [
    {
     "data": {
      "text/plain": [
       "(np.float64(221.18), np.float64(21.36))"
      ]
     },
     "execution_count": 115,
     "metadata": {},
     "output_type": "execute_result"
    }
   ],
   "source": [
    "control_mean = df[\"control_group_avg_tran\"].mean().round(2)\n",
    "control_std = df[\"control_group_avg_tran\"].std().round(2)\n",
    "control_mean, control_std"
   ]
  },
  {
   "cell_type": "code",
   "execution_count": 116,
   "id": "4afede34-41e8-4e0c-979e-b341a6cd8f09",
   "metadata": {},
   "outputs": [
    {
     "data": {
      "text/plain": [
       "(np.float64(235.98), np.float64(36.66))"
      ]
     },
     "execution_count": 116,
     "metadata": {},
     "output_type": "execute_result"
    }
   ],
   "source": [
    "test_mean = df[\"test_group_avg_tran\"].mean().round(2)\n",
    "test_std = df[\"test_group_avg_tran\"].std().round(2)\n",
    "test_mean, test_std"
   ]
  },
  {
   "cell_type": "code",
   "execution_count": 117,
   "id": "f1a662e0-e039-4ae7-af89-943274a18925",
   "metadata": {},
   "outputs": [
    {
     "data": {
      "text/plain": [
       "62"
      ]
     },
     "execution_count": 117,
     "metadata": {},
     "output_type": "execute_result"
    }
   ],
   "source": [
    "sample_size = df.shape[0]\n",
    "sample_size"
   ]
  },
  {
   "cell_type": "code",
   "execution_count": 118,
   "id": "d6aea510-1eb2-4e6d-aa99-8924576a4a2c",
   "metadata": {},
   "outputs": [
    {
     "data": {
      "text/plain": [
       "np.float64(2.7466072001806734)"
      ]
     },
     "execution_count": 118,
     "metadata": {},
     "output_type": "execute_result"
    }
   ],
   "source": [
    "a = (control_std**2/sample_size)\n",
    "b = (test_std**2/sample_size)\n",
    "\n",
    "Z_score = (test_mean-control_mean)/np.sqrt(a+b)\n",
    "Z_score"
   ]
  },
  {
   "cell_type": "code",
   "execution_count": 119,
   "id": "6f549cc7-b6a5-46b9-ab04-89ec85a0363c",
   "metadata": {},
   "outputs": [
    {
     "data": {
      "text/plain": [
       "np.float64(1.6448536269514722)"
      ]
     },
     "execution_count": 119,
     "metadata": {},
     "output_type": "execute_result"
    }
   ],
   "source": [
    "# For a significance level of 5% (0.05) in a right-tailed test, the critical Z-value is approximately 1.645\n",
    "critical_z_value = st.norm.ppf(1 - alpha)  # Right-tailed test at 5% significance level\n",
    "critical_z_value"
   ]
  },
  {
   "cell_type": "code",
   "execution_count": 120,
   "id": "464739c8-3393-4ef4-a73f-8c8886f161a4",
   "metadata": {},
   "outputs": [
    {
     "data": {
      "text/plain": [
       "np.True_"
      ]
     },
     "execution_count": 120,
     "metadata": {},
     "output_type": "execute_result"
    }
   ],
   "source": [
    "Z_score > critical_z_value"
   ]
  },
  {
   "cell_type": "code",
   "execution_count": 121,
   "id": "b3f9097d-b034-4a75-8ec1-89838da118f7",
   "metadata": {},
   "outputs": [
    {
     "data": {
      "text/plain": [
       "np.float64(0.0030107601919702187)"
      ]
     },
     "execution_count": 121,
     "metadata": {},
     "output_type": "execute_result"
    }
   ],
   "source": [
    "# Calculate the p-value corresponding to z score for a right-tailed test\n",
    "p_value = 1 - st.norm.cdf(Z_score)\n",
    "p_value"
   ]
  },
  {
   "cell_type": "code",
   "execution_count": 122,
   "id": "a5cf1b2e-c629-4bdc-9be1-ab67590645f0",
   "metadata": {},
   "outputs": [
    {
     "data": {
      "text/plain": [
       "np.True_"
      ]
     },
     "execution_count": 122,
     "metadata": {},
     "output_type": "execute_result"
    }
   ],
   "source": [
    "p_value < alpha # p value is less than significance level of 5% (or 0.05 for absolute value)"
   ]
  },
  {
   "cell_type": "code",
   "execution_count": 123,
   "id": "771fbd98-5de7-4a99-8e2b-860bdb6b6814",
   "metadata": {},
   "outputs": [
    {
     "data": {
      "text/plain": [
       "(np.float64(2.7482973745691135), np.float64(0.002995282462202502))"
      ]
     },
     "execution_count": 123,
     "metadata": {},
     "output_type": "execute_result"
    }
   ],
   "source": [
    "# Performing Z-test with above considerations\n",
    "z_statistic, p_value = sm.stats.ztest( df['test_group_avg_tran'],df['control_group_avg_tran'],alternative = 'larger')\n",
    "z_statistic, p_value"
   ]
  },
  {
   "cell_type": "code",
   "execution_count": null,
   "id": "a08929f2-7ee3-420c-9f2e-dbc7dfa306f5",
   "metadata": {},
   "outputs": [],
   "source": []
  },
  {
   "cell_type": "code",
   "execution_count": null,
   "id": "78364124-7857-42ca-affa-e24ed074b530",
   "metadata": {},
   "outputs": [],
   "source": []
  }
 ],
 "metadata": {
  "kernelspec": {
   "display_name": "Python 3 (ipykernel)",
   "language": "python",
   "name": "python3"
  },
  "language_info": {
   "codemirror_mode": {
    "name": "ipython",
    "version": 3
   },
   "file_extension": ".py",
   "mimetype": "text/x-python",
   "name": "python",
   "nbconvert_exporter": "python",
   "pygments_lexer": "ipython3",
   "version": "3.10.11"
  }
 },
 "nbformat": 4,
 "nbformat_minor": 5
}
